{
 "cells": [
  {
   "cell_type": "code",
   "execution_count": 3,
   "metadata": {},
   "outputs": [],
   "source": [
    "import numpy as np\n",
    "import pandas as pd\n"
   ]
  },
  {
   "cell_type": "markdown",
   "metadata": {},
   "source": [
    "# Superstore.xlsx data set\n",
    "### Q1- 1. Read superstore data\n"
   ]
  },
  {
   "cell_type": "code",
   "execution_count": 4,
   "metadata": {},
   "outputs": [],
   "source": [
    "\n",
    "path = r\"D:\\Bizmetric Intership\\inclass\\Pandas_DF_work\\Superstore.xls\"\n",
    "df = pd.read_excel(path)\n",
    "superstore_df = df.copy()"
   ]
  },
  {
   "cell_type": "code",
   "execution_count": null,
   "metadata": {},
   "outputs": [],
   "source": []
  },
  {
   "cell_type": "code",
   "execution_count": null,
   "metadata": {},
   "outputs": [],
   "source": []
  },
  {
   "cell_type": "code",
   "execution_count": 5,
   "metadata": {},
   "outputs": [
    {
     "name": "stdout",
     "output_type": "stream",
     "text": [
      "<class 'pandas.core.frame.DataFrame'>\n"
     ]
    }
   ],
   "source": [
    "df = pd.DataFrame(df)\n",
    "print(type(df))"
   ]
  },
  {
   "cell_type": "code",
   "execution_count": 6,
   "metadata": {},
   "outputs": [],
   "source": [
    "columns = superstore_df.columns\n"
   ]
  },
  {
   "cell_type": "code",
   "execution_count": null,
   "metadata": {},
   "outputs": [],
   "source": []
  },
  {
   "cell_type": "code",
   "execution_count": null,
   "metadata": {},
   "outputs": [],
   "source": []
  },
  {
   "cell_type": "markdown",
   "metadata": {},
   "source": [
    "### Q2 find the index of the data"
   ]
  },
  {
   "cell_type": "code",
   "execution_count": 7,
   "metadata": {},
   "outputs": [
    {
     "data": {
      "text/plain": [
       "RangeIndex(start=0, stop=9994, step=1)"
      ]
     },
     "execution_count": 7,
     "metadata": {},
     "output_type": "execute_result"
    }
   ],
   "source": [
    "superstore_df_index = superstore_df.index\n",
    "superstore_df_index"
   ]
  },
  {
   "cell_type": "code",
   "execution_count": 8,
   "metadata": {},
   "outputs": [],
   "source": [
    "### Q3find the columns of the data"
   ]
  },
  {
   "cell_type": "code",
   "execution_count": 9,
   "metadata": {},
   "outputs": [
    {
     "data": {
      "text/plain": [
       "Index(['no', 'order _id', 'Order Date', 'Ship Date', 'Ship Mode',\n",
       "       'Customer ID', 'Customer Name', 'Segment', 'Country', 'City', 'State',\n",
       "       'Postal Code', 'Region', 'Product ID', 'Category', 'Sub-Category',\n",
       "       'Product Name', 'Sales', 'Quantity', 'Discount', 'Profit'],\n",
       "      dtype='object')"
      ]
     },
     "execution_count": 9,
     "metadata": {},
     "output_type": "execute_result"
    }
   ],
   "source": [
    "superstore_df_column = superstore_df.columns\n",
    "superstore_df_column"
   ]
  },
  {
   "cell_type": "code",
   "execution_count": 10,
   "metadata": {},
   "outputs": [],
   "source": [
    "# 4.if columns name is having space then remove the space and rename the column. find the various ways"
   ]
  },
  {
   "cell_type": "code",
   "execution_count": 11,
   "metadata": {},
   "outputs": [
    {
     "name": "stdout",
     "output_type": "stream",
     "text": [
      "Method 2:->\n",
      "Method 3:->\n"
     ]
    },
    {
     "data": {
      "text/plain": [
       "['no',\n",
       " 'order-_id',\n",
       " 'Order-Date',\n",
       " 'Ship-Date',\n",
       " 'Ship-Mode',\n",
       " 'Customer-ID',\n",
       " 'Customer-Name',\n",
       " 'Segment',\n",
       " 'Country',\n",
       " 'City',\n",
       " 'State',\n",
       " 'Postal-Code',\n",
       " 'Region',\n",
       " 'Product-ID',\n",
       " 'Category',\n",
       " 'Sub-Category',\n",
       " 'Product-Name',\n",
       " 'Sales',\n",
       " 'Quantity',\n",
       " 'Discount',\n",
       " 'Profit']"
      ]
     },
     "execution_count": 11,
     "metadata": {},
     "output_type": "execute_result"
    }
   ],
   "source": [
    "# Method 1: Using str.replace() to remove spaces from column names\n",
    "superstore_df_column_ = superstore_df.columns.str.replace(' ','_')\n",
    "superstore_df_column_\n",
    "\n",
    "\n",
    "# Method 2: Using a dictionary to rename columns\n",
    "\n",
    "rename_col_dict = {col: col.replace (' ','_') for col in superstore_df_column}\n",
    "superstore_df.rename(columns=rename_col_dict)\n",
    "print(\"Method 2:->\")\n",
    "rename_col_dict\n",
    "\n",
    "\n",
    "\n",
    "# Method 3 using list compression\n",
    "\n",
    "rename_col_list = [col.replace(' ', '-' )for col in superstore_df ]\n",
    "print(\"Method 3:->\")\n",
    "rename_col_list\n",
    "\n"
   ]
  },
  {
   "cell_type": "code",
   "execution_count": 12,
   "metadata": {},
   "outputs": [],
   "source": [
    "### Q5 display first 40 records"
   ]
  },
  {
   "cell_type": "code",
   "execution_count": 13,
   "metadata": {},
   "outputs": [
    {
     "data": {
      "text/html": [
       "<div>\n",
       "<style scoped>\n",
       "    .dataframe tbody tr th:only-of-type {\n",
       "        vertical-align: middle;\n",
       "    }\n",
       "\n",
       "    .dataframe tbody tr th {\n",
       "        vertical-align: top;\n",
       "    }\n",
       "\n",
       "    .dataframe thead th {\n",
       "        text-align: right;\n",
       "    }\n",
       "</style>\n",
       "<table border=\"1\" class=\"dataframe\">\n",
       "  <thead>\n",
       "    <tr style=\"text-align: right;\">\n",
       "      <th></th>\n",
       "      <th>no</th>\n",
       "      <th>order _id</th>\n",
       "      <th>Order Date</th>\n",
       "      <th>Ship Date</th>\n",
       "      <th>Ship Mode</th>\n",
       "      <th>Customer ID</th>\n",
       "      <th>Customer Name</th>\n",
       "      <th>Segment</th>\n",
       "      <th>Country</th>\n",
       "      <th>City</th>\n",
       "      <th>...</th>\n",
       "      <th>Postal Code</th>\n",
       "      <th>Region</th>\n",
       "      <th>Product ID</th>\n",
       "      <th>Category</th>\n",
       "      <th>Sub-Category</th>\n",
       "      <th>Product Name</th>\n",
       "      <th>Sales</th>\n",
       "      <th>Quantity</th>\n",
       "      <th>Discount</th>\n",
       "      <th>Profit</th>\n",
       "    </tr>\n",
       "  </thead>\n",
       "  <tbody>\n",
       "    <tr>\n",
       "      <th>0</th>\n",
       "      <td>NaN</td>\n",
       "      <td>NaN</td>\n",
       "      <td>2016-11-08</td>\n",
       "      <td>2016-11-11</td>\n",
       "      <td>Second Class</td>\n",
       "      <td>CG-12520</td>\n",
       "      <td>Claire Gute</td>\n",
       "      <td>Consumer</td>\n",
       "      <td>United States</td>\n",
       "      <td>Henderson</td>\n",
       "      <td>...</td>\n",
       "      <td>42420</td>\n",
       "      <td>South</td>\n",
       "      <td>FUR-BO-10001798</td>\n",
       "      <td>Furniture</td>\n",
       "      <td>Bookcases</td>\n",
       "      <td>Bush Somerset Collection Bookcase</td>\n",
       "      <td>261.9600</td>\n",
       "      <td>2</td>\n",
       "      <td>0.00</td>\n",
       "      <td>41.9136</td>\n",
       "    </tr>\n",
       "    <tr>\n",
       "      <th>1</th>\n",
       "      <td>2.0</td>\n",
       "      <td>CA-2016-152156</td>\n",
       "      <td>2016-11-08</td>\n",
       "      <td>2016-11-11</td>\n",
       "      <td>Second Class</td>\n",
       "      <td>CG-12520</td>\n",
       "      <td>Claire Gute</td>\n",
       "      <td>Consumer</td>\n",
       "      <td>United States</td>\n",
       "      <td>Henderson</td>\n",
       "      <td>...</td>\n",
       "      <td>42420</td>\n",
       "      <td>South</td>\n",
       "      <td>FUR-CH-10000454</td>\n",
       "      <td>Furniture</td>\n",
       "      <td>Chairs</td>\n",
       "      <td>Hon Deluxe Fabric Upholstered Stacking Chairs,...</td>\n",
       "      <td>731.9400</td>\n",
       "      <td>3</td>\n",
       "      <td>0.00</td>\n",
       "      <td>219.5820</td>\n",
       "    </tr>\n",
       "    <tr>\n",
       "      <th>2</th>\n",
       "      <td>3.0</td>\n",
       "      <td>CA-2016-138688</td>\n",
       "      <td>2016-06-12</td>\n",
       "      <td>2016-06-16</td>\n",
       "      <td>Second Class</td>\n",
       "      <td>DV-13045</td>\n",
       "      <td>Darrin Van Huff</td>\n",
       "      <td>Corporate</td>\n",
       "      <td>United States</td>\n",
       "      <td>Los Angeles</td>\n",
       "      <td>...</td>\n",
       "      <td>90036</td>\n",
       "      <td>West</td>\n",
       "      <td>OFF-LA-10000240</td>\n",
       "      <td>Office Supplies</td>\n",
       "      <td>Labels</td>\n",
       "      <td>Self-Adhesive Address Labels for Typewriters b...</td>\n",
       "      <td>14.6200</td>\n",
       "      <td>2</td>\n",
       "      <td>0.00</td>\n",
       "      <td>6.8714</td>\n",
       "    </tr>\n",
       "    <tr>\n",
       "      <th>3</th>\n",
       "      <td>4.0</td>\n",
       "      <td>US-2015-108966</td>\n",
       "      <td>2015-10-11</td>\n",
       "      <td>2015-10-18</td>\n",
       "      <td>Standard Class</td>\n",
       "      <td>SO-20335</td>\n",
       "      <td>Sean O'Donnell</td>\n",
       "      <td>Consumer</td>\n",
       "      <td>United States</td>\n",
       "      <td>Fort Lauderdale</td>\n",
       "      <td>...</td>\n",
       "      <td>33311</td>\n",
       "      <td>South</td>\n",
       "      <td>FUR-TA-10000577</td>\n",
       "      <td>Furniture</td>\n",
       "      <td>Tables</td>\n",
       "      <td>Bretford CR4500 Series Slim Rectangular Table</td>\n",
       "      <td>957.5775</td>\n",
       "      <td>5</td>\n",
       "      <td>0.45</td>\n",
       "      <td>-383.0310</td>\n",
       "    </tr>\n",
       "    <tr>\n",
       "      <th>4</th>\n",
       "      <td>5.0</td>\n",
       "      <td>US-2015-108966</td>\n",
       "      <td>2015-10-11</td>\n",
       "      <td>2015-10-18</td>\n",
       "      <td>Standard Class</td>\n",
       "      <td>SO-20335</td>\n",
       "      <td>Sean O'Donnell</td>\n",
       "      <td>Consumer</td>\n",
       "      <td>United States</td>\n",
       "      <td>Fort Lauderdale</td>\n",
       "      <td>...</td>\n",
       "      <td>33311</td>\n",
       "      <td>South</td>\n",
       "      <td>OFF-ST-10000760</td>\n",
       "      <td>Office Supplies</td>\n",
       "      <td>Storage</td>\n",
       "      <td>Eldon Fold 'N Roll Cart System</td>\n",
       "      <td>22.3680</td>\n",
       "      <td>2</td>\n",
       "      <td>0.20</td>\n",
       "      <td>2.5164</td>\n",
       "    </tr>\n",
       "    <tr>\n",
       "      <th>5</th>\n",
       "      <td>6.0</td>\n",
       "      <td>CA-2014-115812</td>\n",
       "      <td>2014-06-09</td>\n",
       "      <td>2014-06-14</td>\n",
       "      <td>Standard Class</td>\n",
       "      <td>BH-11710</td>\n",
       "      <td>Brosina Hoffman</td>\n",
       "      <td>Consumer</td>\n",
       "      <td>United States</td>\n",
       "      <td>Los Angeles</td>\n",
       "      <td>...</td>\n",
       "      <td>90032</td>\n",
       "      <td>West</td>\n",
       "      <td>FUR-FU-10001487</td>\n",
       "      <td>Furniture</td>\n",
       "      <td>Furnishings</td>\n",
       "      <td>Eldon Expressions Wood and Plastic Desk Access...</td>\n",
       "      <td>48.8600</td>\n",
       "      <td>7</td>\n",
       "      <td>0.00</td>\n",
       "      <td>14.1694</td>\n",
       "    </tr>\n",
       "    <tr>\n",
       "      <th>6</th>\n",
       "      <td>7.0</td>\n",
       "      <td>CA-2014-115812</td>\n",
       "      <td>2014-06-09</td>\n",
       "      <td>2014-06-14</td>\n",
       "      <td>Standard Class</td>\n",
       "      <td>BH-11710</td>\n",
       "      <td>Brosina Hoffman</td>\n",
       "      <td>Consumer</td>\n",
       "      <td>United States</td>\n",
       "      <td>Los Angeles</td>\n",
       "      <td>...</td>\n",
       "      <td>90032</td>\n",
       "      <td>West</td>\n",
       "      <td>OFF-AR-10002833</td>\n",
       "      <td>Office Supplies</td>\n",
       "      <td>Art</td>\n",
       "      <td>Newell 322</td>\n",
       "      <td>7.2800</td>\n",
       "      <td>4</td>\n",
       "      <td>0.00</td>\n",
       "      <td>1.9656</td>\n",
       "    </tr>\n",
       "    <tr>\n",
       "      <th>7</th>\n",
       "      <td>8.0</td>\n",
       "      <td>CA-2014-115812</td>\n",
       "      <td>2014-06-09</td>\n",
       "      <td>2014-06-14</td>\n",
       "      <td>Standard Class</td>\n",
       "      <td>BH-11710</td>\n",
       "      <td>Brosina Hoffman</td>\n",
       "      <td>Consumer</td>\n",
       "      <td>United States</td>\n",
       "      <td>Los Angeles</td>\n",
       "      <td>...</td>\n",
       "      <td>90032</td>\n",
       "      <td>West</td>\n",
       "      <td>TEC-PH-10002275</td>\n",
       "      <td>Technology</td>\n",
       "      <td>Phones</td>\n",
       "      <td>Mitel 5320 IP Phone VoIP phone</td>\n",
       "      <td>907.1520</td>\n",
       "      <td>6</td>\n",
       "      <td>0.20</td>\n",
       "      <td>90.7152</td>\n",
       "    </tr>\n",
       "    <tr>\n",
       "      <th>8</th>\n",
       "      <td>9.0</td>\n",
       "      <td>CA-2014-115812</td>\n",
       "      <td>2014-06-09</td>\n",
       "      <td>2014-06-14</td>\n",
       "      <td>Standard Class</td>\n",
       "      <td>BH-11710</td>\n",
       "      <td>Brosina Hoffman</td>\n",
       "      <td>Consumer</td>\n",
       "      <td>United States</td>\n",
       "      <td>Los Angeles</td>\n",
       "      <td>...</td>\n",
       "      <td>90032</td>\n",
       "      <td>West</td>\n",
       "      <td>OFF-BI-10003910</td>\n",
       "      <td>Office Supplies</td>\n",
       "      <td>Binders</td>\n",
       "      <td>DXL Angle-View Binders with Locking Rings by S...</td>\n",
       "      <td>18.5040</td>\n",
       "      <td>3</td>\n",
       "      <td>0.20</td>\n",
       "      <td>5.7825</td>\n",
       "    </tr>\n",
       "    <tr>\n",
       "      <th>9</th>\n",
       "      <td>10.0</td>\n",
       "      <td>CA-2014-115812</td>\n",
       "      <td>2014-06-09</td>\n",
       "      <td>2014-06-14</td>\n",
       "      <td>Standard Class</td>\n",
       "      <td>BH-11710</td>\n",
       "      <td>Brosina Hoffman</td>\n",
       "      <td>Consumer</td>\n",
       "      <td>United States</td>\n",
       "      <td>Los Angeles</td>\n",
       "      <td>...</td>\n",
       "      <td>90032</td>\n",
       "      <td>West</td>\n",
       "      <td>OFF-AP-10002892</td>\n",
       "      <td>Office Supplies</td>\n",
       "      <td>Appliances</td>\n",
       "      <td>Belkin F5C206VTEL 6 Outlet Surge</td>\n",
       "      <td>114.9000</td>\n",
       "      <td>5</td>\n",
       "      <td>0.00</td>\n",
       "      <td>34.4700</td>\n",
       "    </tr>\n",
       "    <tr>\n",
       "      <th>10</th>\n",
       "      <td>11.0</td>\n",
       "      <td>CA-2014-115812</td>\n",
       "      <td>2014-06-09</td>\n",
       "      <td>2014-06-14</td>\n",
       "      <td>Standard Class</td>\n",
       "      <td>BH-11710</td>\n",
       "      <td>Brosina Hoffman</td>\n",
       "      <td>Consumer</td>\n",
       "      <td>United States</td>\n",
       "      <td>Los Angeles</td>\n",
       "      <td>...</td>\n",
       "      <td>90032</td>\n",
       "      <td>West</td>\n",
       "      <td>FUR-TA-10001539</td>\n",
       "      <td>Furniture</td>\n",
       "      <td>Tables</td>\n",
       "      <td>Chromcraft Rectangular Conference Tables</td>\n",
       "      <td>1706.1840</td>\n",
       "      <td>9</td>\n",
       "      <td>0.20</td>\n",
       "      <td>85.3092</td>\n",
       "    </tr>\n",
       "    <tr>\n",
       "      <th>11</th>\n",
       "      <td>12.0</td>\n",
       "      <td>CA-2014-115812</td>\n",
       "      <td>2014-06-09</td>\n",
       "      <td>2014-06-14</td>\n",
       "      <td>Standard Class</td>\n",
       "      <td>BH-11710</td>\n",
       "      <td>Brosina Hoffman</td>\n",
       "      <td>Consumer</td>\n",
       "      <td>United States</td>\n",
       "      <td>Los Angeles</td>\n",
       "      <td>...</td>\n",
       "      <td>90032</td>\n",
       "      <td>West</td>\n",
       "      <td>TEC-PH-10002033</td>\n",
       "      <td>Technology</td>\n",
       "      <td>Phones</td>\n",
       "      <td>Konftel 250 Conference phone - Charcoal black</td>\n",
       "      <td>911.4240</td>\n",
       "      <td>4</td>\n",
       "      <td>0.20</td>\n",
       "      <td>68.3568</td>\n",
       "    </tr>\n",
       "    <tr>\n",
       "      <th>12</th>\n",
       "      <td>13.0</td>\n",
       "      <td>CA-2017-114412</td>\n",
       "      <td>2017-04-15</td>\n",
       "      <td>2017-04-20</td>\n",
       "      <td>Standard Class</td>\n",
       "      <td>AA-10480</td>\n",
       "      <td>Andrew Allen</td>\n",
       "      <td>Consumer</td>\n",
       "      <td>United States</td>\n",
       "      <td>Concord</td>\n",
       "      <td>...</td>\n",
       "      <td>28027</td>\n",
       "      <td>South</td>\n",
       "      <td>OFF-PA-10002365</td>\n",
       "      <td>Office Supplies</td>\n",
       "      <td>Paper</td>\n",
       "      <td>Xerox 1967</td>\n",
       "      <td>15.5520</td>\n",
       "      <td>3</td>\n",
       "      <td>0.20</td>\n",
       "      <td>5.4432</td>\n",
       "    </tr>\n",
       "    <tr>\n",
       "      <th>13</th>\n",
       "      <td>14.0</td>\n",
       "      <td>CA-2016-161389</td>\n",
       "      <td>2016-12-05</td>\n",
       "      <td>2016-12-10</td>\n",
       "      <td>Standard Class</td>\n",
       "      <td>IM-15070</td>\n",
       "      <td>Irene Maddox</td>\n",
       "      <td>Consumer</td>\n",
       "      <td>United States</td>\n",
       "      <td>Seattle</td>\n",
       "      <td>...</td>\n",
       "      <td>98103</td>\n",
       "      <td>West</td>\n",
       "      <td>OFF-BI-10003656</td>\n",
       "      <td>Office Supplies</td>\n",
       "      <td>Binders</td>\n",
       "      <td>Fellowes PB200 Plastic Comb Binding Machine</td>\n",
       "      <td>407.9760</td>\n",
       "      <td>3</td>\n",
       "      <td>0.20</td>\n",
       "      <td>132.5922</td>\n",
       "    </tr>\n",
       "    <tr>\n",
       "      <th>14</th>\n",
       "      <td>15.0</td>\n",
       "      <td>US-2015-118983</td>\n",
       "      <td>2015-11-22</td>\n",
       "      <td>2015-11-26</td>\n",
       "      <td>Standard Class</td>\n",
       "      <td>HP-14815</td>\n",
       "      <td>Harold Pawlan</td>\n",
       "      <td>Home Office</td>\n",
       "      <td>United States</td>\n",
       "      <td>Fort Worth</td>\n",
       "      <td>...</td>\n",
       "      <td>76106</td>\n",
       "      <td>Central</td>\n",
       "      <td>OFF-AP-10002311</td>\n",
       "      <td>Office Supplies</td>\n",
       "      <td>Appliances</td>\n",
       "      <td>Holmes Replacement Filter for HEPA Air Cleaner...</td>\n",
       "      <td>68.8100</td>\n",
       "      <td>5</td>\n",
       "      <td>0.80</td>\n",
       "      <td>-123.8580</td>\n",
       "    </tr>\n",
       "    <tr>\n",
       "      <th>15</th>\n",
       "      <td>16.0</td>\n",
       "      <td>US-2015-118983</td>\n",
       "      <td>2015-11-22</td>\n",
       "      <td>2015-11-26</td>\n",
       "      <td>Standard Class</td>\n",
       "      <td>HP-14815</td>\n",
       "      <td>Harold Pawlan</td>\n",
       "      <td>Home Office</td>\n",
       "      <td>United States</td>\n",
       "      <td>Fort Worth</td>\n",
       "      <td>...</td>\n",
       "      <td>76106</td>\n",
       "      <td>Central</td>\n",
       "      <td>OFF-BI-10000756</td>\n",
       "      <td>Office Supplies</td>\n",
       "      <td>Binders</td>\n",
       "      <td>Storex DuraTech Recycled Plastic Frosted Binders</td>\n",
       "      <td>2.5440</td>\n",
       "      <td>3</td>\n",
       "      <td>0.80</td>\n",
       "      <td>-3.8160</td>\n",
       "    </tr>\n",
       "    <tr>\n",
       "      <th>16</th>\n",
       "      <td>17.0</td>\n",
       "      <td>CA-2014-105893</td>\n",
       "      <td>2014-11-11</td>\n",
       "      <td>2014-11-18</td>\n",
       "      <td>Standard Class</td>\n",
       "      <td>PK-19075</td>\n",
       "      <td>Pete Kriz</td>\n",
       "      <td>Consumer</td>\n",
       "      <td>United States</td>\n",
       "      <td>Madison</td>\n",
       "      <td>...</td>\n",
       "      <td>53711</td>\n",
       "      <td>Central</td>\n",
       "      <td>OFF-ST-10004186</td>\n",
       "      <td>Office Supplies</td>\n",
       "      <td>Storage</td>\n",
       "      <td>Stur-D-Stor Shelving, Vertical 5-Shelf: 72\"H x...</td>\n",
       "      <td>665.8800</td>\n",
       "      <td>6</td>\n",
       "      <td>0.00</td>\n",
       "      <td>13.3176</td>\n",
       "    </tr>\n",
       "    <tr>\n",
       "      <th>17</th>\n",
       "      <td>18.0</td>\n",
       "      <td>CA-2014-167164</td>\n",
       "      <td>2014-05-13</td>\n",
       "      <td>2014-05-15</td>\n",
       "      <td>Second Class</td>\n",
       "      <td>AG-10270</td>\n",
       "      <td>Alejandro Grove</td>\n",
       "      <td>Consumer</td>\n",
       "      <td>United States</td>\n",
       "      <td>West Jordan</td>\n",
       "      <td>...</td>\n",
       "      <td>84084</td>\n",
       "      <td>West</td>\n",
       "      <td>OFF-ST-10000107</td>\n",
       "      <td>Office Supplies</td>\n",
       "      <td>Storage</td>\n",
       "      <td>Fellowes Super Stor/Drawer</td>\n",
       "      <td>55.5000</td>\n",
       "      <td>2</td>\n",
       "      <td>0.00</td>\n",
       "      <td>9.9900</td>\n",
       "    </tr>\n",
       "    <tr>\n",
       "      <th>18</th>\n",
       "      <td>19.0</td>\n",
       "      <td>CA-2014-143336</td>\n",
       "      <td>2014-08-27</td>\n",
       "      <td>2014-09-01</td>\n",
       "      <td>Second Class</td>\n",
       "      <td>ZD-21925</td>\n",
       "      <td>Zuschuss Donatelli</td>\n",
       "      <td>Consumer</td>\n",
       "      <td>United States</td>\n",
       "      <td>San Francisco</td>\n",
       "      <td>...</td>\n",
       "      <td>94109</td>\n",
       "      <td>West</td>\n",
       "      <td>OFF-AR-10003056</td>\n",
       "      <td>Office Supplies</td>\n",
       "      <td>Art</td>\n",
       "      <td>Newell 341</td>\n",
       "      <td>8.5600</td>\n",
       "      <td>2</td>\n",
       "      <td>0.00</td>\n",
       "      <td>2.4824</td>\n",
       "    </tr>\n",
       "    <tr>\n",
       "      <th>19</th>\n",
       "      <td>20.0</td>\n",
       "      <td>CA-2014-143336</td>\n",
       "      <td>2014-08-27</td>\n",
       "      <td>2014-09-01</td>\n",
       "      <td>Second Class</td>\n",
       "      <td>ZD-21925</td>\n",
       "      <td>Zuschuss Donatelli</td>\n",
       "      <td>Consumer</td>\n",
       "      <td>United States</td>\n",
       "      <td>San Francisco</td>\n",
       "      <td>...</td>\n",
       "      <td>94109</td>\n",
       "      <td>West</td>\n",
       "      <td>TEC-PH-10001949</td>\n",
       "      <td>Technology</td>\n",
       "      <td>Phones</td>\n",
       "      <td>Cisco SPA 501G IP Phone</td>\n",
       "      <td>213.4800</td>\n",
       "      <td>3</td>\n",
       "      <td>0.20</td>\n",
       "      <td>16.0110</td>\n",
       "    </tr>\n",
       "    <tr>\n",
       "      <th>20</th>\n",
       "      <td>21.0</td>\n",
       "      <td>CA-2014-143336</td>\n",
       "      <td>2014-08-27</td>\n",
       "      <td>2014-09-01</td>\n",
       "      <td>Second Class</td>\n",
       "      <td>ZD-21925</td>\n",
       "      <td>Zuschuss Donatelli</td>\n",
       "      <td>Consumer</td>\n",
       "      <td>United States</td>\n",
       "      <td>San Francisco</td>\n",
       "      <td>...</td>\n",
       "      <td>94109</td>\n",
       "      <td>West</td>\n",
       "      <td>OFF-BI-10002215</td>\n",
       "      <td>Office Supplies</td>\n",
       "      <td>Binders</td>\n",
       "      <td>Wilson Jones Hanging View Binder, White, 1\"</td>\n",
       "      <td>22.7200</td>\n",
       "      <td>4</td>\n",
       "      <td>0.20</td>\n",
       "      <td>7.3840</td>\n",
       "    </tr>\n",
       "    <tr>\n",
       "      <th>21</th>\n",
       "      <td>22.0</td>\n",
       "      <td>CA-2016-137330</td>\n",
       "      <td>2016-12-09</td>\n",
       "      <td>2016-12-13</td>\n",
       "      <td>Standard Class</td>\n",
       "      <td>KB-16585</td>\n",
       "      <td>Ken Black</td>\n",
       "      <td>Corporate</td>\n",
       "      <td>United States</td>\n",
       "      <td>Fremont</td>\n",
       "      <td>...</td>\n",
       "      <td>68025</td>\n",
       "      <td>Central</td>\n",
       "      <td>OFF-AR-10000246</td>\n",
       "      <td>Office Supplies</td>\n",
       "      <td>Art</td>\n",
       "      <td>Newell 318</td>\n",
       "      <td>19.4600</td>\n",
       "      <td>7</td>\n",
       "      <td>0.00</td>\n",
       "      <td>5.0596</td>\n",
       "    </tr>\n",
       "    <tr>\n",
       "      <th>22</th>\n",
       "      <td>23.0</td>\n",
       "      <td>CA-2016-137330</td>\n",
       "      <td>2016-12-09</td>\n",
       "      <td>2016-12-13</td>\n",
       "      <td>Standard Class</td>\n",
       "      <td>KB-16585</td>\n",
       "      <td>Ken Black</td>\n",
       "      <td>Corporate</td>\n",
       "      <td>United States</td>\n",
       "      <td>Fremont</td>\n",
       "      <td>...</td>\n",
       "      <td>68025</td>\n",
       "      <td>Central</td>\n",
       "      <td>OFF-AP-10001492</td>\n",
       "      <td>Office Supplies</td>\n",
       "      <td>Appliances</td>\n",
       "      <td>Acco Six-Outlet Power Strip, 4' Cord Length</td>\n",
       "      <td>60.3400</td>\n",
       "      <td>7</td>\n",
       "      <td>0.00</td>\n",
       "      <td>15.6884</td>\n",
       "    </tr>\n",
       "    <tr>\n",
       "      <th>23</th>\n",
       "      <td>24.0</td>\n",
       "      <td>US-2017-156909</td>\n",
       "      <td>2017-07-16</td>\n",
       "      <td>2017-07-18</td>\n",
       "      <td>Second Class</td>\n",
       "      <td>SF-20065</td>\n",
       "      <td>Sandra Flanagan</td>\n",
       "      <td>Consumer</td>\n",
       "      <td>United States</td>\n",
       "      <td>Philadelphia</td>\n",
       "      <td>...</td>\n",
       "      <td>19140</td>\n",
       "      <td>East</td>\n",
       "      <td>FUR-CH-10002774</td>\n",
       "      <td>Furniture</td>\n",
       "      <td>Chairs</td>\n",
       "      <td>Global Deluxe Stacking Chair, Gray</td>\n",
       "      <td>71.3720</td>\n",
       "      <td>2</td>\n",
       "      <td>0.30</td>\n",
       "      <td>-1.0196</td>\n",
       "    </tr>\n",
       "    <tr>\n",
       "      <th>24</th>\n",
       "      <td>25.0</td>\n",
       "      <td>CA-2015-106320</td>\n",
       "      <td>2015-09-25</td>\n",
       "      <td>2015-09-30</td>\n",
       "      <td>Standard Class</td>\n",
       "      <td>EB-13870</td>\n",
       "      <td>Emily Burns</td>\n",
       "      <td>Consumer</td>\n",
       "      <td>United States</td>\n",
       "      <td>Orem</td>\n",
       "      <td>...</td>\n",
       "      <td>84057</td>\n",
       "      <td>West</td>\n",
       "      <td>FUR-TA-10000577</td>\n",
       "      <td>Furniture</td>\n",
       "      <td>Tables</td>\n",
       "      <td>Bretford CR4500 Series Slim Rectangular Table</td>\n",
       "      <td>1044.6300</td>\n",
       "      <td>3</td>\n",
       "      <td>0.00</td>\n",
       "      <td>240.2649</td>\n",
       "    </tr>\n",
       "    <tr>\n",
       "      <th>25</th>\n",
       "      <td>26.0</td>\n",
       "      <td>CA-2016-121755</td>\n",
       "      <td>2016-01-16</td>\n",
       "      <td>2016-01-20</td>\n",
       "      <td>Second Class</td>\n",
       "      <td>EH-13945</td>\n",
       "      <td>Eric Hoffmann</td>\n",
       "      <td>Consumer</td>\n",
       "      <td>United States</td>\n",
       "      <td>Los Angeles</td>\n",
       "      <td>...</td>\n",
       "      <td>90049</td>\n",
       "      <td>West</td>\n",
       "      <td>OFF-BI-10001634</td>\n",
       "      <td>Office Supplies</td>\n",
       "      <td>Binders</td>\n",
       "      <td>Wilson Jones Active Use Binders</td>\n",
       "      <td>11.6480</td>\n",
       "      <td>2</td>\n",
       "      <td>0.20</td>\n",
       "      <td>4.2224</td>\n",
       "    </tr>\n",
       "    <tr>\n",
       "      <th>26</th>\n",
       "      <td>27.0</td>\n",
       "      <td>CA-2016-121755</td>\n",
       "      <td>2016-01-16</td>\n",
       "      <td>2016-01-20</td>\n",
       "      <td>Second Class</td>\n",
       "      <td>EH-13945</td>\n",
       "      <td>Eric Hoffmann</td>\n",
       "      <td>Consumer</td>\n",
       "      <td>United States</td>\n",
       "      <td>Los Angeles</td>\n",
       "      <td>...</td>\n",
       "      <td>90049</td>\n",
       "      <td>West</td>\n",
       "      <td>TEC-AC-10003027</td>\n",
       "      <td>Technology</td>\n",
       "      <td>Accessories</td>\n",
       "      <td>Imation 8GB Mini TravelDrive USB 2.0 Flash Drive</td>\n",
       "      <td>90.5700</td>\n",
       "      <td>3</td>\n",
       "      <td>0.00</td>\n",
       "      <td>11.7741</td>\n",
       "    </tr>\n",
       "    <tr>\n",
       "      <th>27</th>\n",
       "      <td>28.0</td>\n",
       "      <td>US-2015-150630</td>\n",
       "      <td>2015-09-17</td>\n",
       "      <td>2015-09-21</td>\n",
       "      <td>Standard Class</td>\n",
       "      <td>TB-21520</td>\n",
       "      <td>Tracy Blumstein</td>\n",
       "      <td>Consumer</td>\n",
       "      <td>United States</td>\n",
       "      <td>Philadelphia</td>\n",
       "      <td>...</td>\n",
       "      <td>19140</td>\n",
       "      <td>East</td>\n",
       "      <td>FUR-BO-10004834</td>\n",
       "      <td>Furniture</td>\n",
       "      <td>Bookcases</td>\n",
       "      <td>Riverside Palais Royal Lawyers Bookcase, Royal...</td>\n",
       "      <td>3083.4300</td>\n",
       "      <td>7</td>\n",
       "      <td>0.50</td>\n",
       "      <td>-1665.0522</td>\n",
       "    </tr>\n",
       "    <tr>\n",
       "      <th>28</th>\n",
       "      <td>29.0</td>\n",
       "      <td>US-2015-150630</td>\n",
       "      <td>2015-09-17</td>\n",
       "      <td>2015-09-21</td>\n",
       "      <td>Standard Class</td>\n",
       "      <td>TB-21520</td>\n",
       "      <td>Tracy Blumstein</td>\n",
       "      <td>Consumer</td>\n",
       "      <td>United States</td>\n",
       "      <td>Philadelphia</td>\n",
       "      <td>...</td>\n",
       "      <td>19140</td>\n",
       "      <td>East</td>\n",
       "      <td>OFF-BI-10000474</td>\n",
       "      <td>Office Supplies</td>\n",
       "      <td>Binders</td>\n",
       "      <td>Avery Recycled Flexi-View Covers for Binding S...</td>\n",
       "      <td>9.6180</td>\n",
       "      <td>2</td>\n",
       "      <td>0.70</td>\n",
       "      <td>-7.0532</td>\n",
       "    </tr>\n",
       "    <tr>\n",
       "      <th>29</th>\n",
       "      <td>30.0</td>\n",
       "      <td>US-2015-150630</td>\n",
       "      <td>2015-09-17</td>\n",
       "      <td>2015-09-21</td>\n",
       "      <td>Standard Class</td>\n",
       "      <td>TB-21520</td>\n",
       "      <td>Tracy Blumstein</td>\n",
       "      <td>Consumer</td>\n",
       "      <td>United States</td>\n",
       "      <td>Philadelphia</td>\n",
       "      <td>...</td>\n",
       "      <td>19140</td>\n",
       "      <td>East</td>\n",
       "      <td>FUR-FU-10004848</td>\n",
       "      <td>Furniture</td>\n",
       "      <td>Furnishings</td>\n",
       "      <td>Howard Miller 13-3/4\" Diameter Brushed Chrome ...</td>\n",
       "      <td>124.2000</td>\n",
       "      <td>3</td>\n",
       "      <td>0.20</td>\n",
       "      <td>15.5250</td>\n",
       "    </tr>\n",
       "    <tr>\n",
       "      <th>30</th>\n",
       "      <td>31.0</td>\n",
       "      <td>US-2015-150630</td>\n",
       "      <td>2015-09-17</td>\n",
       "      <td>2015-09-21</td>\n",
       "      <td>Standard Class</td>\n",
       "      <td>TB-21520</td>\n",
       "      <td>Tracy Blumstein</td>\n",
       "      <td>Consumer</td>\n",
       "      <td>United States</td>\n",
       "      <td>Philadelphia</td>\n",
       "      <td>...</td>\n",
       "      <td>19140</td>\n",
       "      <td>East</td>\n",
       "      <td>OFF-EN-10001509</td>\n",
       "      <td>Office Supplies</td>\n",
       "      <td>Envelopes</td>\n",
       "      <td>Poly String Tie Envelopes</td>\n",
       "      <td>3.2640</td>\n",
       "      <td>2</td>\n",
       "      <td>0.20</td>\n",
       "      <td>1.1016</td>\n",
       "    </tr>\n",
       "    <tr>\n",
       "      <th>31</th>\n",
       "      <td>32.0</td>\n",
       "      <td>US-2015-150630</td>\n",
       "      <td>2015-09-17</td>\n",
       "      <td>2015-09-21</td>\n",
       "      <td>Standard Class</td>\n",
       "      <td>TB-21520</td>\n",
       "      <td>Tracy Blumstein</td>\n",
       "      <td>Consumer</td>\n",
       "      <td>United States</td>\n",
       "      <td>Philadelphia</td>\n",
       "      <td>...</td>\n",
       "      <td>19140</td>\n",
       "      <td>East</td>\n",
       "      <td>OFF-AR-10004042</td>\n",
       "      <td>Office Supplies</td>\n",
       "      <td>Art</td>\n",
       "      <td>BOSTON Model 1800 Electric Pencil Sharpeners, ...</td>\n",
       "      <td>86.3040</td>\n",
       "      <td>6</td>\n",
       "      <td>0.20</td>\n",
       "      <td>9.7092</td>\n",
       "    </tr>\n",
       "    <tr>\n",
       "      <th>32</th>\n",
       "      <td>33.0</td>\n",
       "      <td>US-2015-150630</td>\n",
       "      <td>2015-09-17</td>\n",
       "      <td>2015-09-21</td>\n",
       "      <td>Standard Class</td>\n",
       "      <td>TB-21520</td>\n",
       "      <td>Tracy Blumstein</td>\n",
       "      <td>Consumer</td>\n",
       "      <td>United States</td>\n",
       "      <td>Philadelphia</td>\n",
       "      <td>...</td>\n",
       "      <td>19140</td>\n",
       "      <td>East</td>\n",
       "      <td>OFF-BI-10001525</td>\n",
       "      <td>Office Supplies</td>\n",
       "      <td>Binders</td>\n",
       "      <td>Acco Pressboard Covers with Storage Hooks, 14 ...</td>\n",
       "      <td>6.8580</td>\n",
       "      <td>6</td>\n",
       "      <td>0.70</td>\n",
       "      <td>-5.7150</td>\n",
       "    </tr>\n",
       "    <tr>\n",
       "      <th>33</th>\n",
       "      <td>34.0</td>\n",
       "      <td>US-2015-150630</td>\n",
       "      <td>2015-09-17</td>\n",
       "      <td>2015-09-21</td>\n",
       "      <td>Standard Class</td>\n",
       "      <td>TB-21520</td>\n",
       "      <td>Tracy Blumstein</td>\n",
       "      <td>Consumer</td>\n",
       "      <td>United States</td>\n",
       "      <td>Philadelphia</td>\n",
       "      <td>...</td>\n",
       "      <td>19140</td>\n",
       "      <td>East</td>\n",
       "      <td>OFF-AR-10001683</td>\n",
       "      <td>Office Supplies</td>\n",
       "      <td>Art</td>\n",
       "      <td>Lumber Crayons</td>\n",
       "      <td>15.7600</td>\n",
       "      <td>2</td>\n",
       "      <td>0.20</td>\n",
       "      <td>3.5460</td>\n",
       "    </tr>\n",
       "    <tr>\n",
       "      <th>34</th>\n",
       "      <td>35.0</td>\n",
       "      <td>CA-2017-107727</td>\n",
       "      <td>2017-10-19</td>\n",
       "      <td>2017-10-23</td>\n",
       "      <td>Second Class</td>\n",
       "      <td>MA-17560</td>\n",
       "      <td>Matt Abelman</td>\n",
       "      <td>Home Office</td>\n",
       "      <td>United States</td>\n",
       "      <td>Houston</td>\n",
       "      <td>...</td>\n",
       "      <td>77095</td>\n",
       "      <td>Central</td>\n",
       "      <td>OFF-PA-10000249</td>\n",
       "      <td>Office Supplies</td>\n",
       "      <td>Paper</td>\n",
       "      <td>Easy-staple paper</td>\n",
       "      <td>29.4720</td>\n",
       "      <td>3</td>\n",
       "      <td>0.20</td>\n",
       "      <td>9.9468</td>\n",
       "    </tr>\n",
       "    <tr>\n",
       "      <th>35</th>\n",
       "      <td>36.0</td>\n",
       "      <td>CA-2016-117590</td>\n",
       "      <td>2016-12-08</td>\n",
       "      <td>2016-12-10</td>\n",
       "      <td>First Class</td>\n",
       "      <td>GH-14485</td>\n",
       "      <td>Gene Hale</td>\n",
       "      <td>Corporate</td>\n",
       "      <td>United States</td>\n",
       "      <td>Richardson</td>\n",
       "      <td>...</td>\n",
       "      <td>75080</td>\n",
       "      <td>Central</td>\n",
       "      <td>TEC-PH-10004977</td>\n",
       "      <td>Technology</td>\n",
       "      <td>Phones</td>\n",
       "      <td>GE 30524EE4</td>\n",
       "      <td>1097.5440</td>\n",
       "      <td>7</td>\n",
       "      <td>0.20</td>\n",
       "      <td>123.4737</td>\n",
       "    </tr>\n",
       "    <tr>\n",
       "      <th>36</th>\n",
       "      <td>37.0</td>\n",
       "      <td>CA-2016-117590</td>\n",
       "      <td>2016-12-08</td>\n",
       "      <td>2016-12-10</td>\n",
       "      <td>First Class</td>\n",
       "      <td>GH-14485</td>\n",
       "      <td>Gene Hale</td>\n",
       "      <td>Corporate</td>\n",
       "      <td>United States</td>\n",
       "      <td>Richardson</td>\n",
       "      <td>...</td>\n",
       "      <td>75080</td>\n",
       "      <td>Central</td>\n",
       "      <td>FUR-FU-10003664</td>\n",
       "      <td>Furniture</td>\n",
       "      <td>Furnishings</td>\n",
       "      <td>Electrix Architect's Clamp-On Swing Arm Lamp, ...</td>\n",
       "      <td>190.9200</td>\n",
       "      <td>5</td>\n",
       "      <td>0.60</td>\n",
       "      <td>-147.9630</td>\n",
       "    </tr>\n",
       "    <tr>\n",
       "      <th>37</th>\n",
       "      <td>38.0</td>\n",
       "      <td>CA-2015-117415</td>\n",
       "      <td>2015-12-27</td>\n",
       "      <td>2015-12-31</td>\n",
       "      <td>Standard Class</td>\n",
       "      <td>SN-20710</td>\n",
       "      <td>Steve Nguyen</td>\n",
       "      <td>Home Office</td>\n",
       "      <td>United States</td>\n",
       "      <td>Houston</td>\n",
       "      <td>...</td>\n",
       "      <td>77041</td>\n",
       "      <td>Central</td>\n",
       "      <td>OFF-EN-10002986</td>\n",
       "      <td>Office Supplies</td>\n",
       "      <td>Envelopes</td>\n",
       "      <td>#10-4 1/8\" x 9 1/2\" Premium Diagonal Seam Enve...</td>\n",
       "      <td>113.3280</td>\n",
       "      <td>9</td>\n",
       "      <td>0.20</td>\n",
       "      <td>35.4150</td>\n",
       "    </tr>\n",
       "    <tr>\n",
       "      <th>38</th>\n",
       "      <td>39.0</td>\n",
       "      <td>CA-2015-117415</td>\n",
       "      <td>2015-12-27</td>\n",
       "      <td>2015-12-31</td>\n",
       "      <td>Standard Class</td>\n",
       "      <td>SN-20710</td>\n",
       "      <td>Steve Nguyen</td>\n",
       "      <td>Home Office</td>\n",
       "      <td>United States</td>\n",
       "      <td>Houston</td>\n",
       "      <td>...</td>\n",
       "      <td>77041</td>\n",
       "      <td>Central</td>\n",
       "      <td>FUR-BO-10002545</td>\n",
       "      <td>Furniture</td>\n",
       "      <td>Bookcases</td>\n",
       "      <td>Atlantic Metals Mobile 3-Shelf Bookcases, Cust...</td>\n",
       "      <td>532.3992</td>\n",
       "      <td>3</td>\n",
       "      <td>0.32</td>\n",
       "      <td>-46.9764</td>\n",
       "    </tr>\n",
       "    <tr>\n",
       "      <th>39</th>\n",
       "      <td>40.0</td>\n",
       "      <td>CA-2015-117415</td>\n",
       "      <td>2015-12-27</td>\n",
       "      <td>2015-12-31</td>\n",
       "      <td>Standard Class</td>\n",
       "      <td>SN-20710</td>\n",
       "      <td>Steve Nguyen</td>\n",
       "      <td>Home Office</td>\n",
       "      <td>United States</td>\n",
       "      <td>Houston</td>\n",
       "      <td>...</td>\n",
       "      <td>77041</td>\n",
       "      <td>Central</td>\n",
       "      <td>FUR-CH-10004218</td>\n",
       "      <td>Furniture</td>\n",
       "      <td>Chairs</td>\n",
       "      <td>Global Fabric Manager's Chair, Dark Gray</td>\n",
       "      <td>212.0580</td>\n",
       "      <td>3</td>\n",
       "      <td>0.30</td>\n",
       "      <td>-15.1470</td>\n",
       "    </tr>\n",
       "  </tbody>\n",
       "</table>\n",
       "<p>40 rows × 21 columns</p>\n",
       "</div>"
      ],
      "text/plain": [
       "      no       order _id Order Date  Ship Date       Ship Mode Customer ID  \\\n",
       "0    NaN             NaN 2016-11-08 2016-11-11    Second Class    CG-12520   \n",
       "1    2.0  CA-2016-152156 2016-11-08 2016-11-11    Second Class    CG-12520   \n",
       "2    3.0  CA-2016-138688 2016-06-12 2016-06-16    Second Class    DV-13045   \n",
       "3    4.0  US-2015-108966 2015-10-11 2015-10-18  Standard Class    SO-20335   \n",
       "4    5.0  US-2015-108966 2015-10-11 2015-10-18  Standard Class    SO-20335   \n",
       "5    6.0  CA-2014-115812 2014-06-09 2014-06-14  Standard Class    BH-11710   \n",
       "6    7.0  CA-2014-115812 2014-06-09 2014-06-14  Standard Class    BH-11710   \n",
       "7    8.0  CA-2014-115812 2014-06-09 2014-06-14  Standard Class    BH-11710   \n",
       "8    9.0  CA-2014-115812 2014-06-09 2014-06-14  Standard Class    BH-11710   \n",
       "9   10.0  CA-2014-115812 2014-06-09 2014-06-14  Standard Class    BH-11710   \n",
       "10  11.0  CA-2014-115812 2014-06-09 2014-06-14  Standard Class    BH-11710   \n",
       "11  12.0  CA-2014-115812 2014-06-09 2014-06-14  Standard Class    BH-11710   \n",
       "12  13.0  CA-2017-114412 2017-04-15 2017-04-20  Standard Class    AA-10480   \n",
       "13  14.0  CA-2016-161389 2016-12-05 2016-12-10  Standard Class    IM-15070   \n",
       "14  15.0  US-2015-118983 2015-11-22 2015-11-26  Standard Class    HP-14815   \n",
       "15  16.0  US-2015-118983 2015-11-22 2015-11-26  Standard Class    HP-14815   \n",
       "16  17.0  CA-2014-105893 2014-11-11 2014-11-18  Standard Class    PK-19075   \n",
       "17  18.0  CA-2014-167164 2014-05-13 2014-05-15    Second Class    AG-10270   \n",
       "18  19.0  CA-2014-143336 2014-08-27 2014-09-01    Second Class    ZD-21925   \n",
       "19  20.0  CA-2014-143336 2014-08-27 2014-09-01    Second Class    ZD-21925   \n",
       "20  21.0  CA-2014-143336 2014-08-27 2014-09-01    Second Class    ZD-21925   \n",
       "21  22.0  CA-2016-137330 2016-12-09 2016-12-13  Standard Class    KB-16585   \n",
       "22  23.0  CA-2016-137330 2016-12-09 2016-12-13  Standard Class    KB-16585   \n",
       "23  24.0  US-2017-156909 2017-07-16 2017-07-18    Second Class    SF-20065   \n",
       "24  25.0  CA-2015-106320 2015-09-25 2015-09-30  Standard Class    EB-13870   \n",
       "25  26.0  CA-2016-121755 2016-01-16 2016-01-20    Second Class    EH-13945   \n",
       "26  27.0  CA-2016-121755 2016-01-16 2016-01-20    Second Class    EH-13945   \n",
       "27  28.0  US-2015-150630 2015-09-17 2015-09-21  Standard Class    TB-21520   \n",
       "28  29.0  US-2015-150630 2015-09-17 2015-09-21  Standard Class    TB-21520   \n",
       "29  30.0  US-2015-150630 2015-09-17 2015-09-21  Standard Class    TB-21520   \n",
       "30  31.0  US-2015-150630 2015-09-17 2015-09-21  Standard Class    TB-21520   \n",
       "31  32.0  US-2015-150630 2015-09-17 2015-09-21  Standard Class    TB-21520   \n",
       "32  33.0  US-2015-150630 2015-09-17 2015-09-21  Standard Class    TB-21520   \n",
       "33  34.0  US-2015-150630 2015-09-17 2015-09-21  Standard Class    TB-21520   \n",
       "34  35.0  CA-2017-107727 2017-10-19 2017-10-23    Second Class    MA-17560   \n",
       "35  36.0  CA-2016-117590 2016-12-08 2016-12-10     First Class    GH-14485   \n",
       "36  37.0  CA-2016-117590 2016-12-08 2016-12-10     First Class    GH-14485   \n",
       "37  38.0  CA-2015-117415 2015-12-27 2015-12-31  Standard Class    SN-20710   \n",
       "38  39.0  CA-2015-117415 2015-12-27 2015-12-31  Standard Class    SN-20710   \n",
       "39  40.0  CA-2015-117415 2015-12-27 2015-12-31  Standard Class    SN-20710   \n",
       "\n",
       "         Customer Name      Segment        Country             City  ...  \\\n",
       "0          Claire Gute     Consumer  United States        Henderson  ...   \n",
       "1          Claire Gute     Consumer  United States        Henderson  ...   \n",
       "2      Darrin Van Huff    Corporate  United States      Los Angeles  ...   \n",
       "3       Sean O'Donnell     Consumer  United States  Fort Lauderdale  ...   \n",
       "4       Sean O'Donnell     Consumer  United States  Fort Lauderdale  ...   \n",
       "5      Brosina Hoffman     Consumer  United States      Los Angeles  ...   \n",
       "6      Brosina Hoffman     Consumer  United States      Los Angeles  ...   \n",
       "7      Brosina Hoffman     Consumer  United States      Los Angeles  ...   \n",
       "8      Brosina Hoffman     Consumer  United States      Los Angeles  ...   \n",
       "9      Brosina Hoffman     Consumer  United States      Los Angeles  ...   \n",
       "10     Brosina Hoffman     Consumer  United States      Los Angeles  ...   \n",
       "11     Brosina Hoffman     Consumer  United States      Los Angeles  ...   \n",
       "12        Andrew Allen     Consumer  United States          Concord  ...   \n",
       "13        Irene Maddox     Consumer  United States          Seattle  ...   \n",
       "14       Harold Pawlan  Home Office  United States       Fort Worth  ...   \n",
       "15       Harold Pawlan  Home Office  United States       Fort Worth  ...   \n",
       "16           Pete Kriz     Consumer  United States          Madison  ...   \n",
       "17     Alejandro Grove     Consumer  United States      West Jordan  ...   \n",
       "18  Zuschuss Donatelli     Consumer  United States    San Francisco  ...   \n",
       "19  Zuschuss Donatelli     Consumer  United States    San Francisco  ...   \n",
       "20  Zuschuss Donatelli     Consumer  United States    San Francisco  ...   \n",
       "21           Ken Black    Corporate  United States          Fremont  ...   \n",
       "22           Ken Black    Corporate  United States          Fremont  ...   \n",
       "23     Sandra Flanagan     Consumer  United States     Philadelphia  ...   \n",
       "24         Emily Burns     Consumer  United States             Orem  ...   \n",
       "25       Eric Hoffmann     Consumer  United States      Los Angeles  ...   \n",
       "26       Eric Hoffmann     Consumer  United States      Los Angeles  ...   \n",
       "27     Tracy Blumstein     Consumer  United States     Philadelphia  ...   \n",
       "28     Tracy Blumstein     Consumer  United States     Philadelphia  ...   \n",
       "29     Tracy Blumstein     Consumer  United States     Philadelphia  ...   \n",
       "30     Tracy Blumstein     Consumer  United States     Philadelphia  ...   \n",
       "31     Tracy Blumstein     Consumer  United States     Philadelphia  ...   \n",
       "32     Tracy Blumstein     Consumer  United States     Philadelphia  ...   \n",
       "33     Tracy Blumstein     Consumer  United States     Philadelphia  ...   \n",
       "34        Matt Abelman  Home Office  United States          Houston  ...   \n",
       "35           Gene Hale    Corporate  United States       Richardson  ...   \n",
       "36           Gene Hale    Corporate  United States       Richardson  ...   \n",
       "37        Steve Nguyen  Home Office  United States          Houston  ...   \n",
       "38        Steve Nguyen  Home Office  United States          Houston  ...   \n",
       "39        Steve Nguyen  Home Office  United States          Houston  ...   \n",
       "\n",
       "   Postal Code   Region       Product ID         Category Sub-Category  \\\n",
       "0        42420    South  FUR-BO-10001798        Furniture    Bookcases   \n",
       "1        42420    South  FUR-CH-10000454        Furniture       Chairs   \n",
       "2        90036     West  OFF-LA-10000240  Office Supplies       Labels   \n",
       "3        33311    South  FUR-TA-10000577        Furniture       Tables   \n",
       "4        33311    South  OFF-ST-10000760  Office Supplies      Storage   \n",
       "5        90032     West  FUR-FU-10001487        Furniture  Furnishings   \n",
       "6        90032     West  OFF-AR-10002833  Office Supplies          Art   \n",
       "7        90032     West  TEC-PH-10002275       Technology       Phones   \n",
       "8        90032     West  OFF-BI-10003910  Office Supplies      Binders   \n",
       "9        90032     West  OFF-AP-10002892  Office Supplies   Appliances   \n",
       "10       90032     West  FUR-TA-10001539        Furniture       Tables   \n",
       "11       90032     West  TEC-PH-10002033       Technology       Phones   \n",
       "12       28027    South  OFF-PA-10002365  Office Supplies        Paper   \n",
       "13       98103     West  OFF-BI-10003656  Office Supplies      Binders   \n",
       "14       76106  Central  OFF-AP-10002311  Office Supplies   Appliances   \n",
       "15       76106  Central  OFF-BI-10000756  Office Supplies      Binders   \n",
       "16       53711  Central  OFF-ST-10004186  Office Supplies      Storage   \n",
       "17       84084     West  OFF-ST-10000107  Office Supplies      Storage   \n",
       "18       94109     West  OFF-AR-10003056  Office Supplies          Art   \n",
       "19       94109     West  TEC-PH-10001949       Technology       Phones   \n",
       "20       94109     West  OFF-BI-10002215  Office Supplies      Binders   \n",
       "21       68025  Central  OFF-AR-10000246  Office Supplies          Art   \n",
       "22       68025  Central  OFF-AP-10001492  Office Supplies   Appliances   \n",
       "23       19140     East  FUR-CH-10002774        Furniture       Chairs   \n",
       "24       84057     West  FUR-TA-10000577        Furniture       Tables   \n",
       "25       90049     West  OFF-BI-10001634  Office Supplies      Binders   \n",
       "26       90049     West  TEC-AC-10003027       Technology  Accessories   \n",
       "27       19140     East  FUR-BO-10004834        Furniture    Bookcases   \n",
       "28       19140     East  OFF-BI-10000474  Office Supplies      Binders   \n",
       "29       19140     East  FUR-FU-10004848        Furniture  Furnishings   \n",
       "30       19140     East  OFF-EN-10001509  Office Supplies    Envelopes   \n",
       "31       19140     East  OFF-AR-10004042  Office Supplies          Art   \n",
       "32       19140     East  OFF-BI-10001525  Office Supplies      Binders   \n",
       "33       19140     East  OFF-AR-10001683  Office Supplies          Art   \n",
       "34       77095  Central  OFF-PA-10000249  Office Supplies        Paper   \n",
       "35       75080  Central  TEC-PH-10004977       Technology       Phones   \n",
       "36       75080  Central  FUR-FU-10003664        Furniture  Furnishings   \n",
       "37       77041  Central  OFF-EN-10002986  Office Supplies    Envelopes   \n",
       "38       77041  Central  FUR-BO-10002545        Furniture    Bookcases   \n",
       "39       77041  Central  FUR-CH-10004218        Furniture       Chairs   \n",
       "\n",
       "                                         Product Name      Sales  Quantity  \\\n",
       "0                   Bush Somerset Collection Bookcase   261.9600         2   \n",
       "1   Hon Deluxe Fabric Upholstered Stacking Chairs,...   731.9400         3   \n",
       "2   Self-Adhesive Address Labels for Typewriters b...    14.6200         2   \n",
       "3       Bretford CR4500 Series Slim Rectangular Table   957.5775         5   \n",
       "4                      Eldon Fold 'N Roll Cart System    22.3680         2   \n",
       "5   Eldon Expressions Wood and Plastic Desk Access...    48.8600         7   \n",
       "6                                          Newell 322     7.2800         4   \n",
       "7                      Mitel 5320 IP Phone VoIP phone   907.1520         6   \n",
       "8   DXL Angle-View Binders with Locking Rings by S...    18.5040         3   \n",
       "9                    Belkin F5C206VTEL 6 Outlet Surge   114.9000         5   \n",
       "10           Chromcraft Rectangular Conference Tables  1706.1840         9   \n",
       "11      Konftel 250 Conference phone - Charcoal black   911.4240         4   \n",
       "12                                         Xerox 1967    15.5520         3   \n",
       "13        Fellowes PB200 Plastic Comb Binding Machine   407.9760         3   \n",
       "14  Holmes Replacement Filter for HEPA Air Cleaner...    68.8100         5   \n",
       "15   Storex DuraTech Recycled Plastic Frosted Binders     2.5440         3   \n",
       "16  Stur-D-Stor Shelving, Vertical 5-Shelf: 72\"H x...   665.8800         6   \n",
       "17                         Fellowes Super Stor/Drawer    55.5000         2   \n",
       "18                                         Newell 341     8.5600         2   \n",
       "19                            Cisco SPA 501G IP Phone   213.4800         3   \n",
       "20        Wilson Jones Hanging View Binder, White, 1\"    22.7200         4   \n",
       "21                                         Newell 318    19.4600         7   \n",
       "22        Acco Six-Outlet Power Strip, 4' Cord Length    60.3400         7   \n",
       "23                 Global Deluxe Stacking Chair, Gray    71.3720         2   \n",
       "24      Bretford CR4500 Series Slim Rectangular Table  1044.6300         3   \n",
       "25                    Wilson Jones Active Use Binders    11.6480         2   \n",
       "26   Imation 8GB Mini TravelDrive USB 2.0 Flash Drive    90.5700         3   \n",
       "27  Riverside Palais Royal Lawyers Bookcase, Royal...  3083.4300         7   \n",
       "28  Avery Recycled Flexi-View Covers for Binding S...     9.6180         2   \n",
       "29  Howard Miller 13-3/4\" Diameter Brushed Chrome ...   124.2000         3   \n",
       "30                          Poly String Tie Envelopes     3.2640         2   \n",
       "31  BOSTON Model 1800 Electric Pencil Sharpeners, ...    86.3040         6   \n",
       "32  Acco Pressboard Covers with Storage Hooks, 14 ...     6.8580         6   \n",
       "33                                     Lumber Crayons    15.7600         2   \n",
       "34                                  Easy-staple paper    29.4720         3   \n",
       "35                                        GE 30524EE4  1097.5440         7   \n",
       "36  Electrix Architect's Clamp-On Swing Arm Lamp, ...   190.9200         5   \n",
       "37  #10-4 1/8\" x 9 1/2\" Premium Diagonal Seam Enve...   113.3280         9   \n",
       "38  Atlantic Metals Mobile 3-Shelf Bookcases, Cust...   532.3992         3   \n",
       "39           Global Fabric Manager's Chair, Dark Gray   212.0580         3   \n",
       "\n",
       "    Discount     Profit  \n",
       "0       0.00    41.9136  \n",
       "1       0.00   219.5820  \n",
       "2       0.00     6.8714  \n",
       "3       0.45  -383.0310  \n",
       "4       0.20     2.5164  \n",
       "5       0.00    14.1694  \n",
       "6       0.00     1.9656  \n",
       "7       0.20    90.7152  \n",
       "8       0.20     5.7825  \n",
       "9       0.00    34.4700  \n",
       "10      0.20    85.3092  \n",
       "11      0.20    68.3568  \n",
       "12      0.20     5.4432  \n",
       "13      0.20   132.5922  \n",
       "14      0.80  -123.8580  \n",
       "15      0.80    -3.8160  \n",
       "16      0.00    13.3176  \n",
       "17      0.00     9.9900  \n",
       "18      0.00     2.4824  \n",
       "19      0.20    16.0110  \n",
       "20      0.20     7.3840  \n",
       "21      0.00     5.0596  \n",
       "22      0.00    15.6884  \n",
       "23      0.30    -1.0196  \n",
       "24      0.00   240.2649  \n",
       "25      0.20     4.2224  \n",
       "26      0.00    11.7741  \n",
       "27      0.50 -1665.0522  \n",
       "28      0.70    -7.0532  \n",
       "29      0.20    15.5250  \n",
       "30      0.20     1.1016  \n",
       "31      0.20     9.7092  \n",
       "32      0.70    -5.7150  \n",
       "33      0.20     3.5460  \n",
       "34      0.20     9.9468  \n",
       "35      0.20   123.4737  \n",
       "36      0.60  -147.9630  \n",
       "37      0.20    35.4150  \n",
       "38      0.32   -46.9764  \n",
       "39      0.30   -15.1470  \n",
       "\n",
       "[40 rows x 21 columns]"
      ]
     },
     "execution_count": 13,
     "metadata": {},
     "output_type": "execute_result"
    }
   ],
   "source": [
    "firsr_40_rec = superstore_df.head(40)\n",
    "firsr_40_rec"
   ]
  },
  {
   "cell_type": "code",
   "execution_count": 14,
   "metadata": {},
   "outputs": [],
   "source": [
    "### Q6: display last 15 records from the data"
   ]
  },
  {
   "cell_type": "code",
   "execution_count": 15,
   "metadata": {},
   "outputs": [
    {
     "data": {
      "text/html": [
       "<div>\n",
       "<style scoped>\n",
       "    .dataframe tbody tr th:only-of-type {\n",
       "        vertical-align: middle;\n",
       "    }\n",
       "\n",
       "    .dataframe tbody tr th {\n",
       "        vertical-align: top;\n",
       "    }\n",
       "\n",
       "    .dataframe thead th {\n",
       "        text-align: right;\n",
       "    }\n",
       "</style>\n",
       "<table border=\"1\" class=\"dataframe\">\n",
       "  <thead>\n",
       "    <tr style=\"text-align: right;\">\n",
       "      <th></th>\n",
       "      <th>no</th>\n",
       "      <th>order _id</th>\n",
       "      <th>Order Date</th>\n",
       "      <th>Ship Date</th>\n",
       "      <th>Ship Mode</th>\n",
       "      <th>Customer ID</th>\n",
       "      <th>Customer Name</th>\n",
       "      <th>Segment</th>\n",
       "      <th>Country</th>\n",
       "      <th>City</th>\n",
       "      <th>...</th>\n",
       "      <th>Postal Code</th>\n",
       "      <th>Region</th>\n",
       "      <th>Product ID</th>\n",
       "      <th>Category</th>\n",
       "      <th>Sub-Category</th>\n",
       "      <th>Product Name</th>\n",
       "      <th>Sales</th>\n",
       "      <th>Quantity</th>\n",
       "      <th>Discount</th>\n",
       "      <th>Profit</th>\n",
       "    </tr>\n",
       "  </thead>\n",
       "  <tbody>\n",
       "    <tr>\n",
       "      <th>9979</th>\n",
       "      <td>9980.0</td>\n",
       "      <td>US-2016-103674</td>\n",
       "      <td>2016-12-06</td>\n",
       "      <td>2016-12-10</td>\n",
       "      <td>Standard Class</td>\n",
       "      <td>AP-10720</td>\n",
       "      <td>Anne Pryor</td>\n",
       "      <td>Home Office</td>\n",
       "      <td>United States</td>\n",
       "      <td>Los Angeles</td>\n",
       "      <td>...</td>\n",
       "      <td>90032</td>\n",
       "      <td>West</td>\n",
       "      <td>OFF-BI-10002026</td>\n",
       "      <td>Office Supplies</td>\n",
       "      <td>Binders</td>\n",
       "      <td>Ibico Recycled Linen-Style Covers</td>\n",
       "      <td>437.472</td>\n",
       "      <td>14</td>\n",
       "      <td>0.2</td>\n",
       "      <td>153.1152</td>\n",
       "    </tr>\n",
       "    <tr>\n",
       "      <th>9980</th>\n",
       "      <td>9981.0</td>\n",
       "      <td>US-2015-151435</td>\n",
       "      <td>2015-09-06</td>\n",
       "      <td>2015-09-09</td>\n",
       "      <td>Second Class</td>\n",
       "      <td>SW-20455</td>\n",
       "      <td>Shaun Weien</td>\n",
       "      <td>Consumer</td>\n",
       "      <td>United States</td>\n",
       "      <td>Lafayette</td>\n",
       "      <td>...</td>\n",
       "      <td>70506</td>\n",
       "      <td>South</td>\n",
       "      <td>FUR-TA-10001039</td>\n",
       "      <td>Furniture</td>\n",
       "      <td>Tables</td>\n",
       "      <td>KI Adjustable-Height Table</td>\n",
       "      <td>85.980</td>\n",
       "      <td>1</td>\n",
       "      <td>0.0</td>\n",
       "      <td>22.3548</td>\n",
       "    </tr>\n",
       "    <tr>\n",
       "      <th>9981</th>\n",
       "      <td>9982.0</td>\n",
       "      <td>CA-2017-163566</td>\n",
       "      <td>2017-08-03</td>\n",
       "      <td>2017-08-06</td>\n",
       "      <td>First Class</td>\n",
       "      <td>TB-21055</td>\n",
       "      <td>Ted Butterfield</td>\n",
       "      <td>Consumer</td>\n",
       "      <td>United States</td>\n",
       "      <td>Fairfield</td>\n",
       "      <td>...</td>\n",
       "      <td>45014</td>\n",
       "      <td>East</td>\n",
       "      <td>OFF-LA-10004484</td>\n",
       "      <td>Office Supplies</td>\n",
       "      <td>Labels</td>\n",
       "      <td>Avery 476</td>\n",
       "      <td>16.520</td>\n",
       "      <td>5</td>\n",
       "      <td>0.2</td>\n",
       "      <td>5.3690</td>\n",
       "    </tr>\n",
       "    <tr>\n",
       "      <th>9982</th>\n",
       "      <td>9983.0</td>\n",
       "      <td>US-2016-157728</td>\n",
       "      <td>2016-09-22</td>\n",
       "      <td>2016-09-28</td>\n",
       "      <td>Standard Class</td>\n",
       "      <td>RC-19960</td>\n",
       "      <td>Ryan Crowe</td>\n",
       "      <td>Consumer</td>\n",
       "      <td>United States</td>\n",
       "      <td>Grand Rapids</td>\n",
       "      <td>...</td>\n",
       "      <td>49505</td>\n",
       "      <td>Central</td>\n",
       "      <td>OFF-PA-10002195</td>\n",
       "      <td>Office Supplies</td>\n",
       "      <td>Paper</td>\n",
       "      <td>RSVP Cards &amp; Envelopes, Blank White, 8-1/2\" X ...</td>\n",
       "      <td>35.560</td>\n",
       "      <td>7</td>\n",
       "      <td>0.0</td>\n",
       "      <td>16.7132</td>\n",
       "    </tr>\n",
       "    <tr>\n",
       "      <th>9983</th>\n",
       "      <td>9984.0</td>\n",
       "      <td>US-2016-157728</td>\n",
       "      <td>2016-09-22</td>\n",
       "      <td>2016-09-28</td>\n",
       "      <td>Standard Class</td>\n",
       "      <td>RC-19960</td>\n",
       "      <td>Ryan Crowe</td>\n",
       "      <td>Consumer</td>\n",
       "      <td>United States</td>\n",
       "      <td>Grand Rapids</td>\n",
       "      <td>...</td>\n",
       "      <td>49505</td>\n",
       "      <td>Central</td>\n",
       "      <td>TEC-PH-10001305</td>\n",
       "      <td>Technology</td>\n",
       "      <td>Phones</td>\n",
       "      <td>Panasonic KX TS208W Corded phone</td>\n",
       "      <td>97.980</td>\n",
       "      <td>2</td>\n",
       "      <td>0.0</td>\n",
       "      <td>27.4344</td>\n",
       "    </tr>\n",
       "    <tr>\n",
       "      <th>9984</th>\n",
       "      <td>9985.0</td>\n",
       "      <td>CA-2015-100251</td>\n",
       "      <td>2015-05-17</td>\n",
       "      <td>2015-05-23</td>\n",
       "      <td>Standard Class</td>\n",
       "      <td>DV-13465</td>\n",
       "      <td>Dianna Vittorini</td>\n",
       "      <td>Consumer</td>\n",
       "      <td>United States</td>\n",
       "      <td>Long Beach</td>\n",
       "      <td>...</td>\n",
       "      <td>11561</td>\n",
       "      <td>East</td>\n",
       "      <td>OFF-LA-10003766</td>\n",
       "      <td>Office Supplies</td>\n",
       "      <td>Labels</td>\n",
       "      <td>Self-Adhesive Removable Labels</td>\n",
       "      <td>31.500</td>\n",
       "      <td>10</td>\n",
       "      <td>0.0</td>\n",
       "      <td>15.1200</td>\n",
       "    </tr>\n",
       "    <tr>\n",
       "      <th>9985</th>\n",
       "      <td>9986.0</td>\n",
       "      <td>CA-2015-100251</td>\n",
       "      <td>2015-05-17</td>\n",
       "      <td>2015-05-23</td>\n",
       "      <td>Standard Class</td>\n",
       "      <td>DV-13465</td>\n",
       "      <td>Dianna Vittorini</td>\n",
       "      <td>Consumer</td>\n",
       "      <td>United States</td>\n",
       "      <td>Long Beach</td>\n",
       "      <td>...</td>\n",
       "      <td>11561</td>\n",
       "      <td>East</td>\n",
       "      <td>OFF-SU-10000898</td>\n",
       "      <td>Office Supplies</td>\n",
       "      <td>Supplies</td>\n",
       "      <td>Acme Hot Forged Carbon Steel Scissors with Nic...</td>\n",
       "      <td>55.600</td>\n",
       "      <td>4</td>\n",
       "      <td>0.0</td>\n",
       "      <td>16.1240</td>\n",
       "    </tr>\n",
       "    <tr>\n",
       "      <th>9986</th>\n",
       "      <td>9987.0</td>\n",
       "      <td>CA-2016-125794</td>\n",
       "      <td>2016-09-29</td>\n",
       "      <td>2016-10-03</td>\n",
       "      <td>Standard Class</td>\n",
       "      <td>ML-17410</td>\n",
       "      <td>Maris LaWare</td>\n",
       "      <td>Consumer</td>\n",
       "      <td>United States</td>\n",
       "      <td>Los Angeles</td>\n",
       "      <td>...</td>\n",
       "      <td>90008</td>\n",
       "      <td>West</td>\n",
       "      <td>TEC-AC-10003399</td>\n",
       "      <td>Technology</td>\n",
       "      <td>Accessories</td>\n",
       "      <td>Memorex Mini Travel Drive 64 GB USB 2.0 Flash ...</td>\n",
       "      <td>36.240</td>\n",
       "      <td>1</td>\n",
       "      <td>0.0</td>\n",
       "      <td>15.2208</td>\n",
       "    </tr>\n",
       "    <tr>\n",
       "      <th>9987</th>\n",
       "      <td>9988.0</td>\n",
       "      <td>CA-2017-163629</td>\n",
       "      <td>2017-11-17</td>\n",
       "      <td>2017-11-21</td>\n",
       "      <td>Standard Class</td>\n",
       "      <td>RA-19885</td>\n",
       "      <td>Ruben Ausman</td>\n",
       "      <td>Corporate</td>\n",
       "      <td>United States</td>\n",
       "      <td>Athens</td>\n",
       "      <td>...</td>\n",
       "      <td>30605</td>\n",
       "      <td>South</td>\n",
       "      <td>TEC-AC-10001539</td>\n",
       "      <td>Technology</td>\n",
       "      <td>Accessories</td>\n",
       "      <td>Logitech G430 Surround Sound Gaming Headset wi...</td>\n",
       "      <td>79.990</td>\n",
       "      <td>1</td>\n",
       "      <td>0.0</td>\n",
       "      <td>28.7964</td>\n",
       "    </tr>\n",
       "    <tr>\n",
       "      <th>9988</th>\n",
       "      <td>9989.0</td>\n",
       "      <td>CA-2017-163629</td>\n",
       "      <td>2017-11-17</td>\n",
       "      <td>2017-11-21</td>\n",
       "      <td>Standard Class</td>\n",
       "      <td>RA-19885</td>\n",
       "      <td>Ruben Ausman</td>\n",
       "      <td>Corporate</td>\n",
       "      <td>United States</td>\n",
       "      <td>Athens</td>\n",
       "      <td>...</td>\n",
       "      <td>30605</td>\n",
       "      <td>South</td>\n",
       "      <td>TEC-PH-10004006</td>\n",
       "      <td>Technology</td>\n",
       "      <td>Phones</td>\n",
       "      <td>Panasonic KX - TS880B Telephone</td>\n",
       "      <td>206.100</td>\n",
       "      <td>5</td>\n",
       "      <td>0.0</td>\n",
       "      <td>55.6470</td>\n",
       "    </tr>\n",
       "    <tr>\n",
       "      <th>9989</th>\n",
       "      <td>9990.0</td>\n",
       "      <td>CA-2014-110422</td>\n",
       "      <td>2014-01-21</td>\n",
       "      <td>2014-01-23</td>\n",
       "      <td>Second Class</td>\n",
       "      <td>TB-21400</td>\n",
       "      <td>Tom Boeckenhauer</td>\n",
       "      <td>Consumer</td>\n",
       "      <td>United States</td>\n",
       "      <td>Miami</td>\n",
       "      <td>...</td>\n",
       "      <td>33180</td>\n",
       "      <td>South</td>\n",
       "      <td>FUR-FU-10001889</td>\n",
       "      <td>Furniture</td>\n",
       "      <td>Furnishings</td>\n",
       "      <td>Ultra Door Pull Handle</td>\n",
       "      <td>25.248</td>\n",
       "      <td>3</td>\n",
       "      <td>0.2</td>\n",
       "      <td>4.1028</td>\n",
       "    </tr>\n",
       "    <tr>\n",
       "      <th>9990</th>\n",
       "      <td>9991.0</td>\n",
       "      <td>CA-2017-121258</td>\n",
       "      <td>2017-02-26</td>\n",
       "      <td>2017-03-03</td>\n",
       "      <td>Standard Class</td>\n",
       "      <td>DB-13060</td>\n",
       "      <td>Dave Brooks</td>\n",
       "      <td>Consumer</td>\n",
       "      <td>United States</td>\n",
       "      <td>Costa Mesa</td>\n",
       "      <td>...</td>\n",
       "      <td>92627</td>\n",
       "      <td>West</td>\n",
       "      <td>FUR-FU-10000747</td>\n",
       "      <td>Furniture</td>\n",
       "      <td>Furnishings</td>\n",
       "      <td>Tenex B1-RE Series Chair Mats for Low Pile Car...</td>\n",
       "      <td>91.960</td>\n",
       "      <td>2</td>\n",
       "      <td>0.0</td>\n",
       "      <td>15.6332</td>\n",
       "    </tr>\n",
       "    <tr>\n",
       "      <th>9991</th>\n",
       "      <td>9992.0</td>\n",
       "      <td>CA-2017-121258</td>\n",
       "      <td>2017-02-26</td>\n",
       "      <td>2017-03-03</td>\n",
       "      <td>Standard Class</td>\n",
       "      <td>DB-13060</td>\n",
       "      <td>Dave Brooks</td>\n",
       "      <td>Consumer</td>\n",
       "      <td>United States</td>\n",
       "      <td>Costa Mesa</td>\n",
       "      <td>...</td>\n",
       "      <td>92627</td>\n",
       "      <td>West</td>\n",
       "      <td>TEC-PH-10003645</td>\n",
       "      <td>Technology</td>\n",
       "      <td>Phones</td>\n",
       "      <td>Aastra 57i VoIP phone</td>\n",
       "      <td>258.576</td>\n",
       "      <td>2</td>\n",
       "      <td>0.2</td>\n",
       "      <td>19.3932</td>\n",
       "    </tr>\n",
       "    <tr>\n",
       "      <th>9992</th>\n",
       "      <td>9993.0</td>\n",
       "      <td>CA-2017-121258</td>\n",
       "      <td>2017-02-26</td>\n",
       "      <td>2017-03-03</td>\n",
       "      <td>Standard Class</td>\n",
       "      <td>DB-13060</td>\n",
       "      <td>Dave Brooks</td>\n",
       "      <td>Consumer</td>\n",
       "      <td>United States</td>\n",
       "      <td>Costa Mesa</td>\n",
       "      <td>...</td>\n",
       "      <td>92627</td>\n",
       "      <td>West</td>\n",
       "      <td>OFF-PA-10004041</td>\n",
       "      <td>Office Supplies</td>\n",
       "      <td>Paper</td>\n",
       "      <td>It's Hot Message Books with Stickers, 2 3/4\" x 5\"</td>\n",
       "      <td>29.600</td>\n",
       "      <td>4</td>\n",
       "      <td>0.0</td>\n",
       "      <td>13.3200</td>\n",
       "    </tr>\n",
       "    <tr>\n",
       "      <th>9993</th>\n",
       "      <td>9994.0</td>\n",
       "      <td>CA-2017-119914</td>\n",
       "      <td>2017-05-04</td>\n",
       "      <td>2017-05-09</td>\n",
       "      <td>Second Class</td>\n",
       "      <td>CC-12220</td>\n",
       "      <td>Chris Cortes</td>\n",
       "      <td>Consumer</td>\n",
       "      <td>United States</td>\n",
       "      <td>Westminster</td>\n",
       "      <td>...</td>\n",
       "      <td>92683</td>\n",
       "      <td>West</td>\n",
       "      <td>OFF-AP-10002684</td>\n",
       "      <td>Office Supplies</td>\n",
       "      <td>Appliances</td>\n",
       "      <td>Acco 7-Outlet Masterpiece Power Center, Wihtou...</td>\n",
       "      <td>243.160</td>\n",
       "      <td>2</td>\n",
       "      <td>0.0</td>\n",
       "      <td>72.9480</td>\n",
       "    </tr>\n",
       "  </tbody>\n",
       "</table>\n",
       "<p>15 rows × 21 columns</p>\n",
       "</div>"
      ],
      "text/plain": [
       "          no       order _id Order Date  Ship Date       Ship Mode  \\\n",
       "9979  9980.0  US-2016-103674 2016-12-06 2016-12-10  Standard Class   \n",
       "9980  9981.0  US-2015-151435 2015-09-06 2015-09-09    Second Class   \n",
       "9981  9982.0  CA-2017-163566 2017-08-03 2017-08-06     First Class   \n",
       "9982  9983.0  US-2016-157728 2016-09-22 2016-09-28  Standard Class   \n",
       "9983  9984.0  US-2016-157728 2016-09-22 2016-09-28  Standard Class   \n",
       "9984  9985.0  CA-2015-100251 2015-05-17 2015-05-23  Standard Class   \n",
       "9985  9986.0  CA-2015-100251 2015-05-17 2015-05-23  Standard Class   \n",
       "9986  9987.0  CA-2016-125794 2016-09-29 2016-10-03  Standard Class   \n",
       "9987  9988.0  CA-2017-163629 2017-11-17 2017-11-21  Standard Class   \n",
       "9988  9989.0  CA-2017-163629 2017-11-17 2017-11-21  Standard Class   \n",
       "9989  9990.0  CA-2014-110422 2014-01-21 2014-01-23    Second Class   \n",
       "9990  9991.0  CA-2017-121258 2017-02-26 2017-03-03  Standard Class   \n",
       "9991  9992.0  CA-2017-121258 2017-02-26 2017-03-03  Standard Class   \n",
       "9992  9993.0  CA-2017-121258 2017-02-26 2017-03-03  Standard Class   \n",
       "9993  9994.0  CA-2017-119914 2017-05-04 2017-05-09    Second Class   \n",
       "\n",
       "     Customer ID     Customer Name      Segment        Country          City  \\\n",
       "9979    AP-10720        Anne Pryor  Home Office  United States   Los Angeles   \n",
       "9980    SW-20455       Shaun Weien     Consumer  United States     Lafayette   \n",
       "9981    TB-21055   Ted Butterfield     Consumer  United States     Fairfield   \n",
       "9982    RC-19960        Ryan Crowe     Consumer  United States  Grand Rapids   \n",
       "9983    RC-19960        Ryan Crowe     Consumer  United States  Grand Rapids   \n",
       "9984    DV-13465  Dianna Vittorini     Consumer  United States    Long Beach   \n",
       "9985    DV-13465  Dianna Vittorini     Consumer  United States    Long Beach   \n",
       "9986    ML-17410      Maris LaWare     Consumer  United States   Los Angeles   \n",
       "9987    RA-19885      Ruben Ausman    Corporate  United States        Athens   \n",
       "9988    RA-19885      Ruben Ausman    Corporate  United States        Athens   \n",
       "9989    TB-21400  Tom Boeckenhauer     Consumer  United States         Miami   \n",
       "9990    DB-13060       Dave Brooks     Consumer  United States    Costa Mesa   \n",
       "9991    DB-13060       Dave Brooks     Consumer  United States    Costa Mesa   \n",
       "9992    DB-13060       Dave Brooks     Consumer  United States    Costa Mesa   \n",
       "9993    CC-12220      Chris Cortes     Consumer  United States   Westminster   \n",
       "\n",
       "      ... Postal Code   Region       Product ID         Category Sub-Category  \\\n",
       "9979  ...       90032     West  OFF-BI-10002026  Office Supplies      Binders   \n",
       "9980  ...       70506    South  FUR-TA-10001039        Furniture       Tables   \n",
       "9981  ...       45014     East  OFF-LA-10004484  Office Supplies       Labels   \n",
       "9982  ...       49505  Central  OFF-PA-10002195  Office Supplies        Paper   \n",
       "9983  ...       49505  Central  TEC-PH-10001305       Technology       Phones   \n",
       "9984  ...       11561     East  OFF-LA-10003766  Office Supplies       Labels   \n",
       "9985  ...       11561     East  OFF-SU-10000898  Office Supplies     Supplies   \n",
       "9986  ...       90008     West  TEC-AC-10003399       Technology  Accessories   \n",
       "9987  ...       30605    South  TEC-AC-10001539       Technology  Accessories   \n",
       "9988  ...       30605    South  TEC-PH-10004006       Technology       Phones   \n",
       "9989  ...       33180    South  FUR-FU-10001889        Furniture  Furnishings   \n",
       "9990  ...       92627     West  FUR-FU-10000747        Furniture  Furnishings   \n",
       "9991  ...       92627     West  TEC-PH-10003645       Technology       Phones   \n",
       "9992  ...       92627     West  OFF-PA-10004041  Office Supplies        Paper   \n",
       "9993  ...       92683     West  OFF-AP-10002684  Office Supplies   Appliances   \n",
       "\n",
       "                                           Product Name    Sales  Quantity  \\\n",
       "9979                  Ibico Recycled Linen-Style Covers  437.472        14   \n",
       "9980                         KI Adjustable-Height Table   85.980         1   \n",
       "9981                                          Avery 476   16.520         5   \n",
       "9982  RSVP Cards & Envelopes, Blank White, 8-1/2\" X ...   35.560         7   \n",
       "9983                   Panasonic KX TS208W Corded phone   97.980         2   \n",
       "9984                     Self-Adhesive Removable Labels   31.500        10   \n",
       "9985  Acme Hot Forged Carbon Steel Scissors with Nic...   55.600         4   \n",
       "9986  Memorex Mini Travel Drive 64 GB USB 2.0 Flash ...   36.240         1   \n",
       "9987  Logitech G430 Surround Sound Gaming Headset wi...   79.990         1   \n",
       "9988                    Panasonic KX - TS880B Telephone  206.100         5   \n",
       "9989                             Ultra Door Pull Handle   25.248         3   \n",
       "9990  Tenex B1-RE Series Chair Mats for Low Pile Car...   91.960         2   \n",
       "9991                              Aastra 57i VoIP phone  258.576         2   \n",
       "9992  It's Hot Message Books with Stickers, 2 3/4\" x 5\"   29.600         4   \n",
       "9993  Acco 7-Outlet Masterpiece Power Center, Wihtou...  243.160         2   \n",
       "\n",
       "      Discount    Profit  \n",
       "9979       0.2  153.1152  \n",
       "9980       0.0   22.3548  \n",
       "9981       0.2    5.3690  \n",
       "9982       0.0   16.7132  \n",
       "9983       0.0   27.4344  \n",
       "9984       0.0   15.1200  \n",
       "9985       0.0   16.1240  \n",
       "9986       0.0   15.2208  \n",
       "9987       0.0   28.7964  \n",
       "9988       0.0   55.6470  \n",
       "9989       0.2    4.1028  \n",
       "9990       0.0   15.6332  \n",
       "9991       0.2   19.3932  \n",
       "9992       0.0   13.3200  \n",
       "9993       0.0   72.9480  \n",
       "\n",
       "[15 rows x 21 columns]"
      ]
     },
     "execution_count": 15,
     "metadata": {},
     "output_type": "execute_result"
    }
   ],
   "source": [
    "last_50_rec = superstore_df.tail(15)\n",
    "last_50_rec"
   ]
  },
  {
   "cell_type": "code",
   "execution_count": 16,
   "metadata": {},
   "outputs": [],
   "source": [
    "### 7 change the setting to display minimum 30 rows for given data"
   ]
  },
  {
   "cell_type": "code",
   "execution_count": 17,
   "metadata": {},
   "outputs": [
    {
     "data": {
      "text/html": [
       "<div>\n",
       "<style scoped>\n",
       "    .dataframe tbody tr th:only-of-type {\n",
       "        vertical-align: middle;\n",
       "    }\n",
       "\n",
       "    .dataframe tbody tr th {\n",
       "        vertical-align: top;\n",
       "    }\n",
       "\n",
       "    .dataframe thead th {\n",
       "        text-align: right;\n",
       "    }\n",
       "</style>\n",
       "<table border=\"1\" class=\"dataframe\">\n",
       "  <thead>\n",
       "    <tr style=\"text-align: right;\">\n",
       "      <th></th>\n",
       "      <th>no</th>\n",
       "      <th>order _id</th>\n",
       "      <th>Order Date</th>\n",
       "      <th>Ship Date</th>\n",
       "      <th>Ship Mode</th>\n",
       "      <th>Customer ID</th>\n",
       "      <th>Customer Name</th>\n",
       "      <th>Segment</th>\n",
       "      <th>Country</th>\n",
       "      <th>City</th>\n",
       "      <th>...</th>\n",
       "      <th>Postal Code</th>\n",
       "      <th>Region</th>\n",
       "      <th>Product ID</th>\n",
       "      <th>Category</th>\n",
       "      <th>Sub-Category</th>\n",
       "      <th>Product Name</th>\n",
       "      <th>Sales</th>\n",
       "      <th>Quantity</th>\n",
       "      <th>Discount</th>\n",
       "      <th>Profit</th>\n",
       "    </tr>\n",
       "  </thead>\n",
       "  <tbody>\n",
       "    <tr>\n",
       "      <th>0</th>\n",
       "      <td>NaN</td>\n",
       "      <td>NaN</td>\n",
       "      <td>2016-11-08</td>\n",
       "      <td>2016-11-11</td>\n",
       "      <td>Second Class</td>\n",
       "      <td>CG-12520</td>\n",
       "      <td>Claire Gute</td>\n",
       "      <td>Consumer</td>\n",
       "      <td>United States</td>\n",
       "      <td>Henderson</td>\n",
       "      <td>...</td>\n",
       "      <td>42420</td>\n",
       "      <td>South</td>\n",
       "      <td>FUR-BO-10001798</td>\n",
       "      <td>Furniture</td>\n",
       "      <td>Bookcases</td>\n",
       "      <td>Bush Somerset Collection Bookcase</td>\n",
       "      <td>261.9600</td>\n",
       "      <td>2</td>\n",
       "      <td>0.00</td>\n",
       "      <td>41.9136</td>\n",
       "    </tr>\n",
       "    <tr>\n",
       "      <th>1</th>\n",
       "      <td>2.0</td>\n",
       "      <td>CA-2016-152156</td>\n",
       "      <td>2016-11-08</td>\n",
       "      <td>2016-11-11</td>\n",
       "      <td>Second Class</td>\n",
       "      <td>CG-12520</td>\n",
       "      <td>Claire Gute</td>\n",
       "      <td>Consumer</td>\n",
       "      <td>United States</td>\n",
       "      <td>Henderson</td>\n",
       "      <td>...</td>\n",
       "      <td>42420</td>\n",
       "      <td>South</td>\n",
       "      <td>FUR-CH-10000454</td>\n",
       "      <td>Furniture</td>\n",
       "      <td>Chairs</td>\n",
       "      <td>Hon Deluxe Fabric Upholstered Stacking Chairs,...</td>\n",
       "      <td>731.9400</td>\n",
       "      <td>3</td>\n",
       "      <td>0.00</td>\n",
       "      <td>219.5820</td>\n",
       "    </tr>\n",
       "    <tr>\n",
       "      <th>2</th>\n",
       "      <td>3.0</td>\n",
       "      <td>CA-2016-138688</td>\n",
       "      <td>2016-06-12</td>\n",
       "      <td>2016-06-16</td>\n",
       "      <td>Second Class</td>\n",
       "      <td>DV-13045</td>\n",
       "      <td>Darrin Van Huff</td>\n",
       "      <td>Corporate</td>\n",
       "      <td>United States</td>\n",
       "      <td>Los Angeles</td>\n",
       "      <td>...</td>\n",
       "      <td>90036</td>\n",
       "      <td>West</td>\n",
       "      <td>OFF-LA-10000240</td>\n",
       "      <td>Office Supplies</td>\n",
       "      <td>Labels</td>\n",
       "      <td>Self-Adhesive Address Labels for Typewriters b...</td>\n",
       "      <td>14.6200</td>\n",
       "      <td>2</td>\n",
       "      <td>0.00</td>\n",
       "      <td>6.8714</td>\n",
       "    </tr>\n",
       "    <tr>\n",
       "      <th>3</th>\n",
       "      <td>4.0</td>\n",
       "      <td>US-2015-108966</td>\n",
       "      <td>2015-10-11</td>\n",
       "      <td>2015-10-18</td>\n",
       "      <td>Standard Class</td>\n",
       "      <td>SO-20335</td>\n",
       "      <td>Sean O'Donnell</td>\n",
       "      <td>Consumer</td>\n",
       "      <td>United States</td>\n",
       "      <td>Fort Lauderdale</td>\n",
       "      <td>...</td>\n",
       "      <td>33311</td>\n",
       "      <td>South</td>\n",
       "      <td>FUR-TA-10000577</td>\n",
       "      <td>Furniture</td>\n",
       "      <td>Tables</td>\n",
       "      <td>Bretford CR4500 Series Slim Rectangular Table</td>\n",
       "      <td>957.5775</td>\n",
       "      <td>5</td>\n",
       "      <td>0.45</td>\n",
       "      <td>-383.0310</td>\n",
       "    </tr>\n",
       "    <tr>\n",
       "      <th>4</th>\n",
       "      <td>5.0</td>\n",
       "      <td>US-2015-108966</td>\n",
       "      <td>2015-10-11</td>\n",
       "      <td>2015-10-18</td>\n",
       "      <td>Standard Class</td>\n",
       "      <td>SO-20335</td>\n",
       "      <td>Sean O'Donnell</td>\n",
       "      <td>Consumer</td>\n",
       "      <td>United States</td>\n",
       "      <td>Fort Lauderdale</td>\n",
       "      <td>...</td>\n",
       "      <td>33311</td>\n",
       "      <td>South</td>\n",
       "      <td>OFF-ST-10000760</td>\n",
       "      <td>Office Supplies</td>\n",
       "      <td>Storage</td>\n",
       "      <td>Eldon Fold 'N Roll Cart System</td>\n",
       "      <td>22.3680</td>\n",
       "      <td>2</td>\n",
       "      <td>0.20</td>\n",
       "      <td>2.5164</td>\n",
       "    </tr>\n",
       "    <tr>\n",
       "      <th>5</th>\n",
       "      <td>6.0</td>\n",
       "      <td>CA-2014-115812</td>\n",
       "      <td>2014-06-09</td>\n",
       "      <td>2014-06-14</td>\n",
       "      <td>Standard Class</td>\n",
       "      <td>BH-11710</td>\n",
       "      <td>Brosina Hoffman</td>\n",
       "      <td>Consumer</td>\n",
       "      <td>United States</td>\n",
       "      <td>Los Angeles</td>\n",
       "      <td>...</td>\n",
       "      <td>90032</td>\n",
       "      <td>West</td>\n",
       "      <td>FUR-FU-10001487</td>\n",
       "      <td>Furniture</td>\n",
       "      <td>Furnishings</td>\n",
       "      <td>Eldon Expressions Wood and Plastic Desk Access...</td>\n",
       "      <td>48.8600</td>\n",
       "      <td>7</td>\n",
       "      <td>0.00</td>\n",
       "      <td>14.1694</td>\n",
       "    </tr>\n",
       "    <tr>\n",
       "      <th>6</th>\n",
       "      <td>7.0</td>\n",
       "      <td>CA-2014-115812</td>\n",
       "      <td>2014-06-09</td>\n",
       "      <td>2014-06-14</td>\n",
       "      <td>Standard Class</td>\n",
       "      <td>BH-11710</td>\n",
       "      <td>Brosina Hoffman</td>\n",
       "      <td>Consumer</td>\n",
       "      <td>United States</td>\n",
       "      <td>Los Angeles</td>\n",
       "      <td>...</td>\n",
       "      <td>90032</td>\n",
       "      <td>West</td>\n",
       "      <td>OFF-AR-10002833</td>\n",
       "      <td>Office Supplies</td>\n",
       "      <td>Art</td>\n",
       "      <td>Newell 322</td>\n",
       "      <td>7.2800</td>\n",
       "      <td>4</td>\n",
       "      <td>0.00</td>\n",
       "      <td>1.9656</td>\n",
       "    </tr>\n",
       "    <tr>\n",
       "      <th>7</th>\n",
       "      <td>8.0</td>\n",
       "      <td>CA-2014-115812</td>\n",
       "      <td>2014-06-09</td>\n",
       "      <td>2014-06-14</td>\n",
       "      <td>Standard Class</td>\n",
       "      <td>BH-11710</td>\n",
       "      <td>Brosina Hoffman</td>\n",
       "      <td>Consumer</td>\n",
       "      <td>United States</td>\n",
       "      <td>Los Angeles</td>\n",
       "      <td>...</td>\n",
       "      <td>90032</td>\n",
       "      <td>West</td>\n",
       "      <td>TEC-PH-10002275</td>\n",
       "      <td>Technology</td>\n",
       "      <td>Phones</td>\n",
       "      <td>Mitel 5320 IP Phone VoIP phone</td>\n",
       "      <td>907.1520</td>\n",
       "      <td>6</td>\n",
       "      <td>0.20</td>\n",
       "      <td>90.7152</td>\n",
       "    </tr>\n",
       "    <tr>\n",
       "      <th>8</th>\n",
       "      <td>9.0</td>\n",
       "      <td>CA-2014-115812</td>\n",
       "      <td>2014-06-09</td>\n",
       "      <td>2014-06-14</td>\n",
       "      <td>Standard Class</td>\n",
       "      <td>BH-11710</td>\n",
       "      <td>Brosina Hoffman</td>\n",
       "      <td>Consumer</td>\n",
       "      <td>United States</td>\n",
       "      <td>Los Angeles</td>\n",
       "      <td>...</td>\n",
       "      <td>90032</td>\n",
       "      <td>West</td>\n",
       "      <td>OFF-BI-10003910</td>\n",
       "      <td>Office Supplies</td>\n",
       "      <td>Binders</td>\n",
       "      <td>DXL Angle-View Binders with Locking Rings by S...</td>\n",
       "      <td>18.5040</td>\n",
       "      <td>3</td>\n",
       "      <td>0.20</td>\n",
       "      <td>5.7825</td>\n",
       "    </tr>\n",
       "    <tr>\n",
       "      <th>9</th>\n",
       "      <td>10.0</td>\n",
       "      <td>CA-2014-115812</td>\n",
       "      <td>2014-06-09</td>\n",
       "      <td>2014-06-14</td>\n",
       "      <td>Standard Class</td>\n",
       "      <td>BH-11710</td>\n",
       "      <td>Brosina Hoffman</td>\n",
       "      <td>Consumer</td>\n",
       "      <td>United States</td>\n",
       "      <td>Los Angeles</td>\n",
       "      <td>...</td>\n",
       "      <td>90032</td>\n",
       "      <td>West</td>\n",
       "      <td>OFF-AP-10002892</td>\n",
       "      <td>Office Supplies</td>\n",
       "      <td>Appliances</td>\n",
       "      <td>Belkin F5C206VTEL 6 Outlet Surge</td>\n",
       "      <td>114.9000</td>\n",
       "      <td>5</td>\n",
       "      <td>0.00</td>\n",
       "      <td>34.4700</td>\n",
       "    </tr>\n",
       "    <tr>\n",
       "      <th>10</th>\n",
       "      <td>11.0</td>\n",
       "      <td>CA-2014-115812</td>\n",
       "      <td>2014-06-09</td>\n",
       "      <td>2014-06-14</td>\n",
       "      <td>Standard Class</td>\n",
       "      <td>BH-11710</td>\n",
       "      <td>Brosina Hoffman</td>\n",
       "      <td>Consumer</td>\n",
       "      <td>United States</td>\n",
       "      <td>Los Angeles</td>\n",
       "      <td>...</td>\n",
       "      <td>90032</td>\n",
       "      <td>West</td>\n",
       "      <td>FUR-TA-10001539</td>\n",
       "      <td>Furniture</td>\n",
       "      <td>Tables</td>\n",
       "      <td>Chromcraft Rectangular Conference Tables</td>\n",
       "      <td>1706.1840</td>\n",
       "      <td>9</td>\n",
       "      <td>0.20</td>\n",
       "      <td>85.3092</td>\n",
       "    </tr>\n",
       "    <tr>\n",
       "      <th>11</th>\n",
       "      <td>12.0</td>\n",
       "      <td>CA-2014-115812</td>\n",
       "      <td>2014-06-09</td>\n",
       "      <td>2014-06-14</td>\n",
       "      <td>Standard Class</td>\n",
       "      <td>BH-11710</td>\n",
       "      <td>Brosina Hoffman</td>\n",
       "      <td>Consumer</td>\n",
       "      <td>United States</td>\n",
       "      <td>Los Angeles</td>\n",
       "      <td>...</td>\n",
       "      <td>90032</td>\n",
       "      <td>West</td>\n",
       "      <td>TEC-PH-10002033</td>\n",
       "      <td>Technology</td>\n",
       "      <td>Phones</td>\n",
       "      <td>Konftel 250 Conference phone - Charcoal black</td>\n",
       "      <td>911.4240</td>\n",
       "      <td>4</td>\n",
       "      <td>0.20</td>\n",
       "      <td>68.3568</td>\n",
       "    </tr>\n",
       "    <tr>\n",
       "      <th>12</th>\n",
       "      <td>13.0</td>\n",
       "      <td>CA-2017-114412</td>\n",
       "      <td>2017-04-15</td>\n",
       "      <td>2017-04-20</td>\n",
       "      <td>Standard Class</td>\n",
       "      <td>AA-10480</td>\n",
       "      <td>Andrew Allen</td>\n",
       "      <td>Consumer</td>\n",
       "      <td>United States</td>\n",
       "      <td>Concord</td>\n",
       "      <td>...</td>\n",
       "      <td>28027</td>\n",
       "      <td>South</td>\n",
       "      <td>OFF-PA-10002365</td>\n",
       "      <td>Office Supplies</td>\n",
       "      <td>Paper</td>\n",
       "      <td>Xerox 1967</td>\n",
       "      <td>15.5520</td>\n",
       "      <td>3</td>\n",
       "      <td>0.20</td>\n",
       "      <td>5.4432</td>\n",
       "    </tr>\n",
       "    <tr>\n",
       "      <th>13</th>\n",
       "      <td>14.0</td>\n",
       "      <td>CA-2016-161389</td>\n",
       "      <td>2016-12-05</td>\n",
       "      <td>2016-12-10</td>\n",
       "      <td>Standard Class</td>\n",
       "      <td>IM-15070</td>\n",
       "      <td>Irene Maddox</td>\n",
       "      <td>Consumer</td>\n",
       "      <td>United States</td>\n",
       "      <td>Seattle</td>\n",
       "      <td>...</td>\n",
       "      <td>98103</td>\n",
       "      <td>West</td>\n",
       "      <td>OFF-BI-10003656</td>\n",
       "      <td>Office Supplies</td>\n",
       "      <td>Binders</td>\n",
       "      <td>Fellowes PB200 Plastic Comb Binding Machine</td>\n",
       "      <td>407.9760</td>\n",
       "      <td>3</td>\n",
       "      <td>0.20</td>\n",
       "      <td>132.5922</td>\n",
       "    </tr>\n",
       "    <tr>\n",
       "      <th>14</th>\n",
       "      <td>15.0</td>\n",
       "      <td>US-2015-118983</td>\n",
       "      <td>2015-11-22</td>\n",
       "      <td>2015-11-26</td>\n",
       "      <td>Standard Class</td>\n",
       "      <td>HP-14815</td>\n",
       "      <td>Harold Pawlan</td>\n",
       "      <td>Home Office</td>\n",
       "      <td>United States</td>\n",
       "      <td>Fort Worth</td>\n",
       "      <td>...</td>\n",
       "      <td>76106</td>\n",
       "      <td>Central</td>\n",
       "      <td>OFF-AP-10002311</td>\n",
       "      <td>Office Supplies</td>\n",
       "      <td>Appliances</td>\n",
       "      <td>Holmes Replacement Filter for HEPA Air Cleaner...</td>\n",
       "      <td>68.8100</td>\n",
       "      <td>5</td>\n",
       "      <td>0.80</td>\n",
       "      <td>-123.8580</td>\n",
       "    </tr>\n",
       "    <tr>\n",
       "      <th>...</th>\n",
       "      <td>...</td>\n",
       "      <td>...</td>\n",
       "      <td>...</td>\n",
       "      <td>...</td>\n",
       "      <td>...</td>\n",
       "      <td>...</td>\n",
       "      <td>...</td>\n",
       "      <td>...</td>\n",
       "      <td>...</td>\n",
       "      <td>...</td>\n",
       "      <td>...</td>\n",
       "      <td>...</td>\n",
       "      <td>...</td>\n",
       "      <td>...</td>\n",
       "      <td>...</td>\n",
       "      <td>...</td>\n",
       "      <td>...</td>\n",
       "      <td>...</td>\n",
       "      <td>...</td>\n",
       "      <td>...</td>\n",
       "      <td>...</td>\n",
       "    </tr>\n",
       "    <tr>\n",
       "      <th>9979</th>\n",
       "      <td>9980.0</td>\n",
       "      <td>US-2016-103674</td>\n",
       "      <td>2016-12-06</td>\n",
       "      <td>2016-12-10</td>\n",
       "      <td>Standard Class</td>\n",
       "      <td>AP-10720</td>\n",
       "      <td>Anne Pryor</td>\n",
       "      <td>Home Office</td>\n",
       "      <td>United States</td>\n",
       "      <td>Los Angeles</td>\n",
       "      <td>...</td>\n",
       "      <td>90032</td>\n",
       "      <td>West</td>\n",
       "      <td>OFF-BI-10002026</td>\n",
       "      <td>Office Supplies</td>\n",
       "      <td>Binders</td>\n",
       "      <td>Ibico Recycled Linen-Style Covers</td>\n",
       "      <td>437.4720</td>\n",
       "      <td>14</td>\n",
       "      <td>0.20</td>\n",
       "      <td>153.1152</td>\n",
       "    </tr>\n",
       "    <tr>\n",
       "      <th>9980</th>\n",
       "      <td>9981.0</td>\n",
       "      <td>US-2015-151435</td>\n",
       "      <td>2015-09-06</td>\n",
       "      <td>2015-09-09</td>\n",
       "      <td>Second Class</td>\n",
       "      <td>SW-20455</td>\n",
       "      <td>Shaun Weien</td>\n",
       "      <td>Consumer</td>\n",
       "      <td>United States</td>\n",
       "      <td>Lafayette</td>\n",
       "      <td>...</td>\n",
       "      <td>70506</td>\n",
       "      <td>South</td>\n",
       "      <td>FUR-TA-10001039</td>\n",
       "      <td>Furniture</td>\n",
       "      <td>Tables</td>\n",
       "      <td>KI Adjustable-Height Table</td>\n",
       "      <td>85.9800</td>\n",
       "      <td>1</td>\n",
       "      <td>0.00</td>\n",
       "      <td>22.3548</td>\n",
       "    </tr>\n",
       "    <tr>\n",
       "      <th>9981</th>\n",
       "      <td>9982.0</td>\n",
       "      <td>CA-2017-163566</td>\n",
       "      <td>2017-08-03</td>\n",
       "      <td>2017-08-06</td>\n",
       "      <td>First Class</td>\n",
       "      <td>TB-21055</td>\n",
       "      <td>Ted Butterfield</td>\n",
       "      <td>Consumer</td>\n",
       "      <td>United States</td>\n",
       "      <td>Fairfield</td>\n",
       "      <td>...</td>\n",
       "      <td>45014</td>\n",
       "      <td>East</td>\n",
       "      <td>OFF-LA-10004484</td>\n",
       "      <td>Office Supplies</td>\n",
       "      <td>Labels</td>\n",
       "      <td>Avery 476</td>\n",
       "      <td>16.5200</td>\n",
       "      <td>5</td>\n",
       "      <td>0.20</td>\n",
       "      <td>5.3690</td>\n",
       "    </tr>\n",
       "    <tr>\n",
       "      <th>9982</th>\n",
       "      <td>9983.0</td>\n",
       "      <td>US-2016-157728</td>\n",
       "      <td>2016-09-22</td>\n",
       "      <td>2016-09-28</td>\n",
       "      <td>Standard Class</td>\n",
       "      <td>RC-19960</td>\n",
       "      <td>Ryan Crowe</td>\n",
       "      <td>Consumer</td>\n",
       "      <td>United States</td>\n",
       "      <td>Grand Rapids</td>\n",
       "      <td>...</td>\n",
       "      <td>49505</td>\n",
       "      <td>Central</td>\n",
       "      <td>OFF-PA-10002195</td>\n",
       "      <td>Office Supplies</td>\n",
       "      <td>Paper</td>\n",
       "      <td>RSVP Cards &amp; Envelopes, Blank White, 8-1/2\" X ...</td>\n",
       "      <td>35.5600</td>\n",
       "      <td>7</td>\n",
       "      <td>0.00</td>\n",
       "      <td>16.7132</td>\n",
       "    </tr>\n",
       "    <tr>\n",
       "      <th>9983</th>\n",
       "      <td>9984.0</td>\n",
       "      <td>US-2016-157728</td>\n",
       "      <td>2016-09-22</td>\n",
       "      <td>2016-09-28</td>\n",
       "      <td>Standard Class</td>\n",
       "      <td>RC-19960</td>\n",
       "      <td>Ryan Crowe</td>\n",
       "      <td>Consumer</td>\n",
       "      <td>United States</td>\n",
       "      <td>Grand Rapids</td>\n",
       "      <td>...</td>\n",
       "      <td>49505</td>\n",
       "      <td>Central</td>\n",
       "      <td>TEC-PH-10001305</td>\n",
       "      <td>Technology</td>\n",
       "      <td>Phones</td>\n",
       "      <td>Panasonic KX TS208W Corded phone</td>\n",
       "      <td>97.9800</td>\n",
       "      <td>2</td>\n",
       "      <td>0.00</td>\n",
       "      <td>27.4344</td>\n",
       "    </tr>\n",
       "    <tr>\n",
       "      <th>9984</th>\n",
       "      <td>9985.0</td>\n",
       "      <td>CA-2015-100251</td>\n",
       "      <td>2015-05-17</td>\n",
       "      <td>2015-05-23</td>\n",
       "      <td>Standard Class</td>\n",
       "      <td>DV-13465</td>\n",
       "      <td>Dianna Vittorini</td>\n",
       "      <td>Consumer</td>\n",
       "      <td>United States</td>\n",
       "      <td>Long Beach</td>\n",
       "      <td>...</td>\n",
       "      <td>11561</td>\n",
       "      <td>East</td>\n",
       "      <td>OFF-LA-10003766</td>\n",
       "      <td>Office Supplies</td>\n",
       "      <td>Labels</td>\n",
       "      <td>Self-Adhesive Removable Labels</td>\n",
       "      <td>31.5000</td>\n",
       "      <td>10</td>\n",
       "      <td>0.00</td>\n",
       "      <td>15.1200</td>\n",
       "    </tr>\n",
       "    <tr>\n",
       "      <th>9985</th>\n",
       "      <td>9986.0</td>\n",
       "      <td>CA-2015-100251</td>\n",
       "      <td>2015-05-17</td>\n",
       "      <td>2015-05-23</td>\n",
       "      <td>Standard Class</td>\n",
       "      <td>DV-13465</td>\n",
       "      <td>Dianna Vittorini</td>\n",
       "      <td>Consumer</td>\n",
       "      <td>United States</td>\n",
       "      <td>Long Beach</td>\n",
       "      <td>...</td>\n",
       "      <td>11561</td>\n",
       "      <td>East</td>\n",
       "      <td>OFF-SU-10000898</td>\n",
       "      <td>Office Supplies</td>\n",
       "      <td>Supplies</td>\n",
       "      <td>Acme Hot Forged Carbon Steel Scissors with Nic...</td>\n",
       "      <td>55.6000</td>\n",
       "      <td>4</td>\n",
       "      <td>0.00</td>\n",
       "      <td>16.1240</td>\n",
       "    </tr>\n",
       "    <tr>\n",
       "      <th>9986</th>\n",
       "      <td>9987.0</td>\n",
       "      <td>CA-2016-125794</td>\n",
       "      <td>2016-09-29</td>\n",
       "      <td>2016-10-03</td>\n",
       "      <td>Standard Class</td>\n",
       "      <td>ML-17410</td>\n",
       "      <td>Maris LaWare</td>\n",
       "      <td>Consumer</td>\n",
       "      <td>United States</td>\n",
       "      <td>Los Angeles</td>\n",
       "      <td>...</td>\n",
       "      <td>90008</td>\n",
       "      <td>West</td>\n",
       "      <td>TEC-AC-10003399</td>\n",
       "      <td>Technology</td>\n",
       "      <td>Accessories</td>\n",
       "      <td>Memorex Mini Travel Drive 64 GB USB 2.0 Flash ...</td>\n",
       "      <td>36.2400</td>\n",
       "      <td>1</td>\n",
       "      <td>0.00</td>\n",
       "      <td>15.2208</td>\n",
       "    </tr>\n",
       "    <tr>\n",
       "      <th>9987</th>\n",
       "      <td>9988.0</td>\n",
       "      <td>CA-2017-163629</td>\n",
       "      <td>2017-11-17</td>\n",
       "      <td>2017-11-21</td>\n",
       "      <td>Standard Class</td>\n",
       "      <td>RA-19885</td>\n",
       "      <td>Ruben Ausman</td>\n",
       "      <td>Corporate</td>\n",
       "      <td>United States</td>\n",
       "      <td>Athens</td>\n",
       "      <td>...</td>\n",
       "      <td>30605</td>\n",
       "      <td>South</td>\n",
       "      <td>TEC-AC-10001539</td>\n",
       "      <td>Technology</td>\n",
       "      <td>Accessories</td>\n",
       "      <td>Logitech G430 Surround Sound Gaming Headset wi...</td>\n",
       "      <td>79.9900</td>\n",
       "      <td>1</td>\n",
       "      <td>0.00</td>\n",
       "      <td>28.7964</td>\n",
       "    </tr>\n",
       "    <tr>\n",
       "      <th>9988</th>\n",
       "      <td>9989.0</td>\n",
       "      <td>CA-2017-163629</td>\n",
       "      <td>2017-11-17</td>\n",
       "      <td>2017-11-21</td>\n",
       "      <td>Standard Class</td>\n",
       "      <td>RA-19885</td>\n",
       "      <td>Ruben Ausman</td>\n",
       "      <td>Corporate</td>\n",
       "      <td>United States</td>\n",
       "      <td>Athens</td>\n",
       "      <td>...</td>\n",
       "      <td>30605</td>\n",
       "      <td>South</td>\n",
       "      <td>TEC-PH-10004006</td>\n",
       "      <td>Technology</td>\n",
       "      <td>Phones</td>\n",
       "      <td>Panasonic KX - TS880B Telephone</td>\n",
       "      <td>206.1000</td>\n",
       "      <td>5</td>\n",
       "      <td>0.00</td>\n",
       "      <td>55.6470</td>\n",
       "    </tr>\n",
       "    <tr>\n",
       "      <th>9989</th>\n",
       "      <td>9990.0</td>\n",
       "      <td>CA-2014-110422</td>\n",
       "      <td>2014-01-21</td>\n",
       "      <td>2014-01-23</td>\n",
       "      <td>Second Class</td>\n",
       "      <td>TB-21400</td>\n",
       "      <td>Tom Boeckenhauer</td>\n",
       "      <td>Consumer</td>\n",
       "      <td>United States</td>\n",
       "      <td>Miami</td>\n",
       "      <td>...</td>\n",
       "      <td>33180</td>\n",
       "      <td>South</td>\n",
       "      <td>FUR-FU-10001889</td>\n",
       "      <td>Furniture</td>\n",
       "      <td>Furnishings</td>\n",
       "      <td>Ultra Door Pull Handle</td>\n",
       "      <td>25.2480</td>\n",
       "      <td>3</td>\n",
       "      <td>0.20</td>\n",
       "      <td>4.1028</td>\n",
       "    </tr>\n",
       "    <tr>\n",
       "      <th>9990</th>\n",
       "      <td>9991.0</td>\n",
       "      <td>CA-2017-121258</td>\n",
       "      <td>2017-02-26</td>\n",
       "      <td>2017-03-03</td>\n",
       "      <td>Standard Class</td>\n",
       "      <td>DB-13060</td>\n",
       "      <td>Dave Brooks</td>\n",
       "      <td>Consumer</td>\n",
       "      <td>United States</td>\n",
       "      <td>Costa Mesa</td>\n",
       "      <td>...</td>\n",
       "      <td>92627</td>\n",
       "      <td>West</td>\n",
       "      <td>FUR-FU-10000747</td>\n",
       "      <td>Furniture</td>\n",
       "      <td>Furnishings</td>\n",
       "      <td>Tenex B1-RE Series Chair Mats for Low Pile Car...</td>\n",
       "      <td>91.9600</td>\n",
       "      <td>2</td>\n",
       "      <td>0.00</td>\n",
       "      <td>15.6332</td>\n",
       "    </tr>\n",
       "    <tr>\n",
       "      <th>9991</th>\n",
       "      <td>9992.0</td>\n",
       "      <td>CA-2017-121258</td>\n",
       "      <td>2017-02-26</td>\n",
       "      <td>2017-03-03</td>\n",
       "      <td>Standard Class</td>\n",
       "      <td>DB-13060</td>\n",
       "      <td>Dave Brooks</td>\n",
       "      <td>Consumer</td>\n",
       "      <td>United States</td>\n",
       "      <td>Costa Mesa</td>\n",
       "      <td>...</td>\n",
       "      <td>92627</td>\n",
       "      <td>West</td>\n",
       "      <td>TEC-PH-10003645</td>\n",
       "      <td>Technology</td>\n",
       "      <td>Phones</td>\n",
       "      <td>Aastra 57i VoIP phone</td>\n",
       "      <td>258.5760</td>\n",
       "      <td>2</td>\n",
       "      <td>0.20</td>\n",
       "      <td>19.3932</td>\n",
       "    </tr>\n",
       "    <tr>\n",
       "      <th>9992</th>\n",
       "      <td>9993.0</td>\n",
       "      <td>CA-2017-121258</td>\n",
       "      <td>2017-02-26</td>\n",
       "      <td>2017-03-03</td>\n",
       "      <td>Standard Class</td>\n",
       "      <td>DB-13060</td>\n",
       "      <td>Dave Brooks</td>\n",
       "      <td>Consumer</td>\n",
       "      <td>United States</td>\n",
       "      <td>Costa Mesa</td>\n",
       "      <td>...</td>\n",
       "      <td>92627</td>\n",
       "      <td>West</td>\n",
       "      <td>OFF-PA-10004041</td>\n",
       "      <td>Office Supplies</td>\n",
       "      <td>Paper</td>\n",
       "      <td>It's Hot Message Books with Stickers, 2 3/4\" x 5\"</td>\n",
       "      <td>29.6000</td>\n",
       "      <td>4</td>\n",
       "      <td>0.00</td>\n",
       "      <td>13.3200</td>\n",
       "    </tr>\n",
       "    <tr>\n",
       "      <th>9993</th>\n",
       "      <td>9994.0</td>\n",
       "      <td>CA-2017-119914</td>\n",
       "      <td>2017-05-04</td>\n",
       "      <td>2017-05-09</td>\n",
       "      <td>Second Class</td>\n",
       "      <td>CC-12220</td>\n",
       "      <td>Chris Cortes</td>\n",
       "      <td>Consumer</td>\n",
       "      <td>United States</td>\n",
       "      <td>Westminster</td>\n",
       "      <td>...</td>\n",
       "      <td>92683</td>\n",
       "      <td>West</td>\n",
       "      <td>OFF-AP-10002684</td>\n",
       "      <td>Office Supplies</td>\n",
       "      <td>Appliances</td>\n",
       "      <td>Acco 7-Outlet Masterpiece Power Center, Wihtou...</td>\n",
       "      <td>243.1600</td>\n",
       "      <td>2</td>\n",
       "      <td>0.00</td>\n",
       "      <td>72.9480</td>\n",
       "    </tr>\n",
       "  </tbody>\n",
       "</table>\n",
       "<p>9994 rows × 21 columns</p>\n",
       "</div>"
      ],
      "text/plain": [
       "          no       order _id Order Date  Ship Date       Ship Mode  \\\n",
       "0        NaN             NaN 2016-11-08 2016-11-11    Second Class   \n",
       "1        2.0  CA-2016-152156 2016-11-08 2016-11-11    Second Class   \n",
       "2        3.0  CA-2016-138688 2016-06-12 2016-06-16    Second Class   \n",
       "3        4.0  US-2015-108966 2015-10-11 2015-10-18  Standard Class   \n",
       "4        5.0  US-2015-108966 2015-10-11 2015-10-18  Standard Class   \n",
       "5        6.0  CA-2014-115812 2014-06-09 2014-06-14  Standard Class   \n",
       "6        7.0  CA-2014-115812 2014-06-09 2014-06-14  Standard Class   \n",
       "7        8.0  CA-2014-115812 2014-06-09 2014-06-14  Standard Class   \n",
       "8        9.0  CA-2014-115812 2014-06-09 2014-06-14  Standard Class   \n",
       "9       10.0  CA-2014-115812 2014-06-09 2014-06-14  Standard Class   \n",
       "10      11.0  CA-2014-115812 2014-06-09 2014-06-14  Standard Class   \n",
       "11      12.0  CA-2014-115812 2014-06-09 2014-06-14  Standard Class   \n",
       "12      13.0  CA-2017-114412 2017-04-15 2017-04-20  Standard Class   \n",
       "13      14.0  CA-2016-161389 2016-12-05 2016-12-10  Standard Class   \n",
       "14      15.0  US-2015-118983 2015-11-22 2015-11-26  Standard Class   \n",
       "...      ...             ...        ...        ...             ...   \n",
       "9979  9980.0  US-2016-103674 2016-12-06 2016-12-10  Standard Class   \n",
       "9980  9981.0  US-2015-151435 2015-09-06 2015-09-09    Second Class   \n",
       "9981  9982.0  CA-2017-163566 2017-08-03 2017-08-06     First Class   \n",
       "9982  9983.0  US-2016-157728 2016-09-22 2016-09-28  Standard Class   \n",
       "9983  9984.0  US-2016-157728 2016-09-22 2016-09-28  Standard Class   \n",
       "9984  9985.0  CA-2015-100251 2015-05-17 2015-05-23  Standard Class   \n",
       "9985  9986.0  CA-2015-100251 2015-05-17 2015-05-23  Standard Class   \n",
       "9986  9987.0  CA-2016-125794 2016-09-29 2016-10-03  Standard Class   \n",
       "9987  9988.0  CA-2017-163629 2017-11-17 2017-11-21  Standard Class   \n",
       "9988  9989.0  CA-2017-163629 2017-11-17 2017-11-21  Standard Class   \n",
       "9989  9990.0  CA-2014-110422 2014-01-21 2014-01-23    Second Class   \n",
       "9990  9991.0  CA-2017-121258 2017-02-26 2017-03-03  Standard Class   \n",
       "9991  9992.0  CA-2017-121258 2017-02-26 2017-03-03  Standard Class   \n",
       "9992  9993.0  CA-2017-121258 2017-02-26 2017-03-03  Standard Class   \n",
       "9993  9994.0  CA-2017-119914 2017-05-04 2017-05-09    Second Class   \n",
       "\n",
       "     Customer ID     Customer Name      Segment        Country  \\\n",
       "0       CG-12520       Claire Gute     Consumer  United States   \n",
       "1       CG-12520       Claire Gute     Consumer  United States   \n",
       "2       DV-13045   Darrin Van Huff    Corporate  United States   \n",
       "3       SO-20335    Sean O'Donnell     Consumer  United States   \n",
       "4       SO-20335    Sean O'Donnell     Consumer  United States   \n",
       "5       BH-11710   Brosina Hoffman     Consumer  United States   \n",
       "6       BH-11710   Brosina Hoffman     Consumer  United States   \n",
       "7       BH-11710   Brosina Hoffman     Consumer  United States   \n",
       "8       BH-11710   Brosina Hoffman     Consumer  United States   \n",
       "9       BH-11710   Brosina Hoffman     Consumer  United States   \n",
       "10      BH-11710   Brosina Hoffman     Consumer  United States   \n",
       "11      BH-11710   Brosina Hoffman     Consumer  United States   \n",
       "12      AA-10480      Andrew Allen     Consumer  United States   \n",
       "13      IM-15070      Irene Maddox     Consumer  United States   \n",
       "14      HP-14815     Harold Pawlan  Home Office  United States   \n",
       "...          ...               ...          ...            ...   \n",
       "9979    AP-10720        Anne Pryor  Home Office  United States   \n",
       "9980    SW-20455       Shaun Weien     Consumer  United States   \n",
       "9981    TB-21055   Ted Butterfield     Consumer  United States   \n",
       "9982    RC-19960        Ryan Crowe     Consumer  United States   \n",
       "9983    RC-19960        Ryan Crowe     Consumer  United States   \n",
       "9984    DV-13465  Dianna Vittorini     Consumer  United States   \n",
       "9985    DV-13465  Dianna Vittorini     Consumer  United States   \n",
       "9986    ML-17410      Maris LaWare     Consumer  United States   \n",
       "9987    RA-19885      Ruben Ausman    Corporate  United States   \n",
       "9988    RA-19885      Ruben Ausman    Corporate  United States   \n",
       "9989    TB-21400  Tom Boeckenhauer     Consumer  United States   \n",
       "9990    DB-13060       Dave Brooks     Consumer  United States   \n",
       "9991    DB-13060       Dave Brooks     Consumer  United States   \n",
       "9992    DB-13060       Dave Brooks     Consumer  United States   \n",
       "9993    CC-12220      Chris Cortes     Consumer  United States   \n",
       "\n",
       "                 City  ... Postal Code   Region       Product ID  \\\n",
       "0           Henderson  ...       42420    South  FUR-BO-10001798   \n",
       "1           Henderson  ...       42420    South  FUR-CH-10000454   \n",
       "2         Los Angeles  ...       90036     West  OFF-LA-10000240   \n",
       "3     Fort Lauderdale  ...       33311    South  FUR-TA-10000577   \n",
       "4     Fort Lauderdale  ...       33311    South  OFF-ST-10000760   \n",
       "5         Los Angeles  ...       90032     West  FUR-FU-10001487   \n",
       "6         Los Angeles  ...       90032     West  OFF-AR-10002833   \n",
       "7         Los Angeles  ...       90032     West  TEC-PH-10002275   \n",
       "8         Los Angeles  ...       90032     West  OFF-BI-10003910   \n",
       "9         Los Angeles  ...       90032     West  OFF-AP-10002892   \n",
       "10        Los Angeles  ...       90032     West  FUR-TA-10001539   \n",
       "11        Los Angeles  ...       90032     West  TEC-PH-10002033   \n",
       "12            Concord  ...       28027    South  OFF-PA-10002365   \n",
       "13            Seattle  ...       98103     West  OFF-BI-10003656   \n",
       "14         Fort Worth  ...       76106  Central  OFF-AP-10002311   \n",
       "...               ...  ...         ...      ...              ...   \n",
       "9979      Los Angeles  ...       90032     West  OFF-BI-10002026   \n",
       "9980        Lafayette  ...       70506    South  FUR-TA-10001039   \n",
       "9981        Fairfield  ...       45014     East  OFF-LA-10004484   \n",
       "9982     Grand Rapids  ...       49505  Central  OFF-PA-10002195   \n",
       "9983     Grand Rapids  ...       49505  Central  TEC-PH-10001305   \n",
       "9984       Long Beach  ...       11561     East  OFF-LA-10003766   \n",
       "9985       Long Beach  ...       11561     East  OFF-SU-10000898   \n",
       "9986      Los Angeles  ...       90008     West  TEC-AC-10003399   \n",
       "9987           Athens  ...       30605    South  TEC-AC-10001539   \n",
       "9988           Athens  ...       30605    South  TEC-PH-10004006   \n",
       "9989            Miami  ...       33180    South  FUR-FU-10001889   \n",
       "9990       Costa Mesa  ...       92627     West  FUR-FU-10000747   \n",
       "9991       Costa Mesa  ...       92627     West  TEC-PH-10003645   \n",
       "9992       Costa Mesa  ...       92627     West  OFF-PA-10004041   \n",
       "9993      Westminster  ...       92683     West  OFF-AP-10002684   \n",
       "\n",
       "             Category Sub-Category  \\\n",
       "0           Furniture    Bookcases   \n",
       "1           Furniture       Chairs   \n",
       "2     Office Supplies       Labels   \n",
       "3           Furniture       Tables   \n",
       "4     Office Supplies      Storage   \n",
       "5           Furniture  Furnishings   \n",
       "6     Office Supplies          Art   \n",
       "7          Technology       Phones   \n",
       "8     Office Supplies      Binders   \n",
       "9     Office Supplies   Appliances   \n",
       "10          Furniture       Tables   \n",
       "11         Technology       Phones   \n",
       "12    Office Supplies        Paper   \n",
       "13    Office Supplies      Binders   \n",
       "14    Office Supplies   Appliances   \n",
       "...               ...          ...   \n",
       "9979  Office Supplies      Binders   \n",
       "9980        Furniture       Tables   \n",
       "9981  Office Supplies       Labels   \n",
       "9982  Office Supplies        Paper   \n",
       "9983       Technology       Phones   \n",
       "9984  Office Supplies       Labels   \n",
       "9985  Office Supplies     Supplies   \n",
       "9986       Technology  Accessories   \n",
       "9987       Technology  Accessories   \n",
       "9988       Technology       Phones   \n",
       "9989        Furniture  Furnishings   \n",
       "9990        Furniture  Furnishings   \n",
       "9991       Technology       Phones   \n",
       "9992  Office Supplies        Paper   \n",
       "9993  Office Supplies   Appliances   \n",
       "\n",
       "                                           Product Name      Sales  Quantity  \\\n",
       "0                     Bush Somerset Collection Bookcase   261.9600         2   \n",
       "1     Hon Deluxe Fabric Upholstered Stacking Chairs,...   731.9400         3   \n",
       "2     Self-Adhesive Address Labels for Typewriters b...    14.6200         2   \n",
       "3         Bretford CR4500 Series Slim Rectangular Table   957.5775         5   \n",
       "4                        Eldon Fold 'N Roll Cart System    22.3680         2   \n",
       "5     Eldon Expressions Wood and Plastic Desk Access...    48.8600         7   \n",
       "6                                            Newell 322     7.2800         4   \n",
       "7                        Mitel 5320 IP Phone VoIP phone   907.1520         6   \n",
       "8     DXL Angle-View Binders with Locking Rings by S...    18.5040         3   \n",
       "9                      Belkin F5C206VTEL 6 Outlet Surge   114.9000         5   \n",
       "10             Chromcraft Rectangular Conference Tables  1706.1840         9   \n",
       "11        Konftel 250 Conference phone - Charcoal black   911.4240         4   \n",
       "12                                           Xerox 1967    15.5520         3   \n",
       "13          Fellowes PB200 Plastic Comb Binding Machine   407.9760         3   \n",
       "14    Holmes Replacement Filter for HEPA Air Cleaner...    68.8100         5   \n",
       "...                                                 ...        ...       ...   \n",
       "9979                  Ibico Recycled Linen-Style Covers   437.4720        14   \n",
       "9980                         KI Adjustable-Height Table    85.9800         1   \n",
       "9981                                          Avery 476    16.5200         5   \n",
       "9982  RSVP Cards & Envelopes, Blank White, 8-1/2\" X ...    35.5600         7   \n",
       "9983                   Panasonic KX TS208W Corded phone    97.9800         2   \n",
       "9984                     Self-Adhesive Removable Labels    31.5000        10   \n",
       "9985  Acme Hot Forged Carbon Steel Scissors with Nic...    55.6000         4   \n",
       "9986  Memorex Mini Travel Drive 64 GB USB 2.0 Flash ...    36.2400         1   \n",
       "9987  Logitech G430 Surround Sound Gaming Headset wi...    79.9900         1   \n",
       "9988                    Panasonic KX - TS880B Telephone   206.1000         5   \n",
       "9989                             Ultra Door Pull Handle    25.2480         3   \n",
       "9990  Tenex B1-RE Series Chair Mats for Low Pile Car...    91.9600         2   \n",
       "9991                              Aastra 57i VoIP phone   258.5760         2   \n",
       "9992  It's Hot Message Books with Stickers, 2 3/4\" x 5\"    29.6000         4   \n",
       "9993  Acco 7-Outlet Masterpiece Power Center, Wihtou...   243.1600         2   \n",
       "\n",
       "      Discount    Profit  \n",
       "0         0.00   41.9136  \n",
       "1         0.00  219.5820  \n",
       "2         0.00    6.8714  \n",
       "3         0.45 -383.0310  \n",
       "4         0.20    2.5164  \n",
       "5         0.00   14.1694  \n",
       "6         0.00    1.9656  \n",
       "7         0.20   90.7152  \n",
       "8         0.20    5.7825  \n",
       "9         0.00   34.4700  \n",
       "10        0.20   85.3092  \n",
       "11        0.20   68.3568  \n",
       "12        0.20    5.4432  \n",
       "13        0.20  132.5922  \n",
       "14        0.80 -123.8580  \n",
       "...        ...       ...  \n",
       "9979      0.20  153.1152  \n",
       "9980      0.00   22.3548  \n",
       "9981      0.20    5.3690  \n",
       "9982      0.00   16.7132  \n",
       "9983      0.00   27.4344  \n",
       "9984      0.00   15.1200  \n",
       "9985      0.00   16.1240  \n",
       "9986      0.00   15.2208  \n",
       "9987      0.00   28.7964  \n",
       "9988      0.00   55.6470  \n",
       "9989      0.20    4.1028  \n",
       "9990      0.00   15.6332  \n",
       "9991      0.20   19.3932  \n",
       "9992      0.00   13.3200  \n",
       "9993      0.00   72.9480  \n",
       "\n",
       "[9994 rows x 21 columns]"
      ]
     },
     "metadata": {},
     "output_type": "display_data"
    }
   ],
   "source": [
    "pd.set_option(\"display.min_row\", 30)\n",
    "\n",
    "# test\n",
    "display(superstore_df)"
   ]
  },
  {
   "cell_type": "code",
   "execution_count": 18,
   "metadata": {},
   "outputs": [],
   "source": [
    "### 8 change the display setting to minimum row as 3"
   ]
  },
  {
   "cell_type": "code",
   "execution_count": 19,
   "metadata": {},
   "outputs": [
    {
     "data": {
      "text/html": [
       "<div>\n",
       "<style scoped>\n",
       "    .dataframe tbody tr th:only-of-type {\n",
       "        vertical-align: middle;\n",
       "    }\n",
       "\n",
       "    .dataframe tbody tr th {\n",
       "        vertical-align: top;\n",
       "    }\n",
       "\n",
       "    .dataframe thead th {\n",
       "        text-align: right;\n",
       "    }\n",
       "</style>\n",
       "<table border=\"1\" class=\"dataframe\">\n",
       "  <thead>\n",
       "    <tr style=\"text-align: right;\">\n",
       "      <th></th>\n",
       "      <th>no</th>\n",
       "      <th>order _id</th>\n",
       "      <th>Order Date</th>\n",
       "      <th>Ship Date</th>\n",
       "      <th>Ship Mode</th>\n",
       "      <th>Customer ID</th>\n",
       "      <th>Customer Name</th>\n",
       "      <th>Segment</th>\n",
       "      <th>Country</th>\n",
       "      <th>City</th>\n",
       "      <th>...</th>\n",
       "      <th>Postal Code</th>\n",
       "      <th>Region</th>\n",
       "      <th>Product ID</th>\n",
       "      <th>Category</th>\n",
       "      <th>Sub-Category</th>\n",
       "      <th>Product Name</th>\n",
       "      <th>Sales</th>\n",
       "      <th>Quantity</th>\n",
       "      <th>Discount</th>\n",
       "      <th>Profit</th>\n",
       "    </tr>\n",
       "  </thead>\n",
       "  <tbody>\n",
       "    <tr>\n",
       "      <th>0</th>\n",
       "      <td>NaN</td>\n",
       "      <td>NaN</td>\n",
       "      <td>2016-11-08</td>\n",
       "      <td>2016-11-11</td>\n",
       "      <td>Second Class</td>\n",
       "      <td>CG-12520</td>\n",
       "      <td>Claire Gute</td>\n",
       "      <td>Consumer</td>\n",
       "      <td>United States</td>\n",
       "      <td>Henderson</td>\n",
       "      <td>...</td>\n",
       "      <td>42420</td>\n",
       "      <td>South</td>\n",
       "      <td>FUR-BO-10001798</td>\n",
       "      <td>Furniture</td>\n",
       "      <td>Bookcases</td>\n",
       "      <td>Bush Somerset Collection Bookcase</td>\n",
       "      <td>261.96</td>\n",
       "      <td>2</td>\n",
       "      <td>0.0</td>\n",
       "      <td>41.9136</td>\n",
       "    </tr>\n",
       "    <tr>\n",
       "      <th>...</th>\n",
       "      <td>...</td>\n",
       "      <td>...</td>\n",
       "      <td>...</td>\n",
       "      <td>...</td>\n",
       "      <td>...</td>\n",
       "      <td>...</td>\n",
       "      <td>...</td>\n",
       "      <td>...</td>\n",
       "      <td>...</td>\n",
       "      <td>...</td>\n",
       "      <td>...</td>\n",
       "      <td>...</td>\n",
       "      <td>...</td>\n",
       "      <td>...</td>\n",
       "      <td>...</td>\n",
       "      <td>...</td>\n",
       "      <td>...</td>\n",
       "      <td>...</td>\n",
       "      <td>...</td>\n",
       "      <td>...</td>\n",
       "      <td>...</td>\n",
       "    </tr>\n",
       "    <tr>\n",
       "      <th>9993</th>\n",
       "      <td>9994.0</td>\n",
       "      <td>CA-2017-119914</td>\n",
       "      <td>2017-05-04</td>\n",
       "      <td>2017-05-09</td>\n",
       "      <td>Second Class</td>\n",
       "      <td>CC-12220</td>\n",
       "      <td>Chris Cortes</td>\n",
       "      <td>Consumer</td>\n",
       "      <td>United States</td>\n",
       "      <td>Westminster</td>\n",
       "      <td>...</td>\n",
       "      <td>92683</td>\n",
       "      <td>West</td>\n",
       "      <td>OFF-AP-10002684</td>\n",
       "      <td>Office Supplies</td>\n",
       "      <td>Appliances</td>\n",
       "      <td>Acco 7-Outlet Masterpiece Power Center, Wihtou...</td>\n",
       "      <td>243.16</td>\n",
       "      <td>2</td>\n",
       "      <td>0.0</td>\n",
       "      <td>72.9480</td>\n",
       "    </tr>\n",
       "  </tbody>\n",
       "</table>\n",
       "<p>9994 rows × 21 columns</p>\n",
       "</div>"
      ],
      "text/plain": [
       "          no       order _id Order Date  Ship Date     Ship Mode Customer ID  \\\n",
       "0        NaN             NaN 2016-11-08 2016-11-11  Second Class    CG-12520   \n",
       "...      ...             ...        ...        ...           ...         ...   \n",
       "9993  9994.0  CA-2017-119914 2017-05-04 2017-05-09  Second Class    CC-12220   \n",
       "\n",
       "     Customer Name   Segment        Country         City  ... Postal Code  \\\n",
       "0      Claire Gute  Consumer  United States    Henderson  ...       42420   \n",
       "...            ...       ...            ...          ...  ...         ...   \n",
       "9993  Chris Cortes  Consumer  United States  Westminster  ...       92683   \n",
       "\n",
       "      Region       Product ID         Category Sub-Category  \\\n",
       "0      South  FUR-BO-10001798        Furniture    Bookcases   \n",
       "...      ...              ...              ...          ...   \n",
       "9993    West  OFF-AP-10002684  Office Supplies   Appliances   \n",
       "\n",
       "                                           Product Name   Sales  Quantity  \\\n",
       "0                     Bush Somerset Collection Bookcase  261.96         2   \n",
       "...                                                 ...     ...       ...   \n",
       "9993  Acco 7-Outlet Masterpiece Power Center, Wihtou...  243.16         2   \n",
       "\n",
       "      Discount   Profit  \n",
       "0          0.0  41.9136  \n",
       "...        ...      ...  \n",
       "9993       0.0  72.9480  \n",
       "\n",
       "[9994 rows x 21 columns]"
      ]
     },
     "metadata": {},
     "output_type": "display_data"
    }
   ],
   "source": [
    "pd.set_option(\"display.min_row\",3)\n",
    "# test\n",
    "display(superstore_df)"
   ]
  },
  {
   "cell_type": "code",
   "execution_count": 20,
   "metadata": {},
   "outputs": [
    {
     "data": {
      "text/html": [
       "<div>\n",
       "<style scoped>\n",
       "    .dataframe tbody tr th:only-of-type {\n",
       "        vertical-align: middle;\n",
       "    }\n",
       "\n",
       "    .dataframe tbody tr th {\n",
       "        vertical-align: top;\n",
       "    }\n",
       "\n",
       "    .dataframe thead th {\n",
       "        text-align: right;\n",
       "    }\n",
       "</style>\n",
       "<table border=\"1\" class=\"dataframe\">\n",
       "  <thead>\n",
       "    <tr style=\"text-align: right;\">\n",
       "      <th></th>\n",
       "      <th>City</th>\n",
       "      <th>State</th>\n",
       "      <th>Region</th>\n",
       "      <th>Profit</th>\n",
       "    </tr>\n",
       "  </thead>\n",
       "  <tbody>\n",
       "    <tr>\n",
       "      <th>0</th>\n",
       "      <td>Henderson</td>\n",
       "      <td>Kentucky</td>\n",
       "      <td>South</td>\n",
       "      <td>41.9136</td>\n",
       "    </tr>\n",
       "    <tr>\n",
       "      <th>...</th>\n",
       "      <td>...</td>\n",
       "      <td>...</td>\n",
       "      <td>...</td>\n",
       "      <td>...</td>\n",
       "    </tr>\n",
       "    <tr>\n",
       "      <th>9993</th>\n",
       "      <td>Westminster</td>\n",
       "      <td>California</td>\n",
       "      <td>West</td>\n",
       "      <td>72.9480</td>\n",
       "    </tr>\n",
       "  </tbody>\n",
       "</table>\n",
       "<p>9994 rows × 4 columns</p>\n",
       "</div>"
      ],
      "text/plain": [
       "             City       State Region   Profit\n",
       "0       Henderson    Kentucky  South  41.9136\n",
       "...           ...         ...    ...      ...\n",
       "9993  Westminster  California   West  72.9480\n",
       "\n",
       "[9994 rows x 4 columns]"
      ]
     },
     "execution_count": 20,
     "metadata": {},
     "output_type": "execute_result"
    }
   ],
   "source": [
    "### 9 take a slice from the dataframe based on the columns city, state, region, profit columns\n",
    "slice_of_super_store_data = superstore_df[[\"City\", \"State\", \"Region\",\"Profit\"]]\n",
    "slice_of_super_store_data"
   ]
  },
  {
   "cell_type": "code",
   "execution_count": 21,
   "metadata": {},
   "outputs": [],
   "source": [
    "### 10 Take a slice based on data available at 1000 to 1500 position and columns from 4 to 8"
   ]
  },
  {
   "cell_type": "code",
   "execution_count": 22,
   "metadata": {},
   "outputs": [
    {
     "data": {
      "text/html": [
       "<div>\n",
       "<style scoped>\n",
       "    .dataframe tbody tr th:only-of-type {\n",
       "        vertical-align: middle;\n",
       "    }\n",
       "\n",
       "    .dataframe tbody tr th {\n",
       "        vertical-align: top;\n",
       "    }\n",
       "\n",
       "    .dataframe thead th {\n",
       "        text-align: right;\n",
       "    }\n",
       "</style>\n",
       "<table border=\"1\" class=\"dataframe\">\n",
       "  <thead>\n",
       "    <tr style=\"text-align: right;\">\n",
       "      <th></th>\n",
       "      <th>Ship Mode</th>\n",
       "      <th>Customer ID</th>\n",
       "      <th>Customer Name</th>\n",
       "      <th>Segment</th>\n",
       "      <th>Country</th>\n",
       "    </tr>\n",
       "  </thead>\n",
       "  <tbody>\n",
       "    <tr>\n",
       "      <th>1000</th>\n",
       "      <td>Standard Class</td>\n",
       "      <td>FM-14290</td>\n",
       "      <td>Frank Merwin</td>\n",
       "      <td>Home Office</td>\n",
       "      <td>United States</td>\n",
       "    </tr>\n",
       "    <tr>\n",
       "      <th>1001</th>\n",
       "      <td>Same Day</td>\n",
       "      <td>RH-19495</td>\n",
       "      <td>Rick Hansen</td>\n",
       "      <td>Consumer</td>\n",
       "      <td>United States</td>\n",
       "    </tr>\n",
       "    <tr>\n",
       "      <th>1002</th>\n",
       "      <td>Same Day</td>\n",
       "      <td>RH-19495</td>\n",
       "      <td>Rick Hansen</td>\n",
       "      <td>Consumer</td>\n",
       "      <td>United States</td>\n",
       "    </tr>\n",
       "    <tr>\n",
       "      <th>1003</th>\n",
       "      <td>Same Day</td>\n",
       "      <td>RH-19495</td>\n",
       "      <td>Rick Hansen</td>\n",
       "      <td>Consumer</td>\n",
       "      <td>United States</td>\n",
       "    </tr>\n",
       "    <tr>\n",
       "      <th>1004</th>\n",
       "      <td>Standard Class</td>\n",
       "      <td>RA-19945</td>\n",
       "      <td>Ryan Akin</td>\n",
       "      <td>Consumer</td>\n",
       "      <td>United States</td>\n",
       "    </tr>\n",
       "    <tr>\n",
       "      <th>1005</th>\n",
       "      <td>Standard Class</td>\n",
       "      <td>JK-15730</td>\n",
       "      <td>Joe Kamberova</td>\n",
       "      <td>Consumer</td>\n",
       "      <td>United States</td>\n",
       "    </tr>\n",
       "    <tr>\n",
       "      <th>1006</th>\n",
       "      <td>First Class</td>\n",
       "      <td>MT-17815</td>\n",
       "      <td>Meg Tillman</td>\n",
       "      <td>Consumer</td>\n",
       "      <td>United States</td>\n",
       "    </tr>\n",
       "    <tr>\n",
       "      <th>1007</th>\n",
       "      <td>First Class</td>\n",
       "      <td>MT-17815</td>\n",
       "      <td>Meg Tillman</td>\n",
       "      <td>Consumer</td>\n",
       "      <td>United States</td>\n",
       "    </tr>\n",
       "    <tr>\n",
       "      <th>1008</th>\n",
       "      <td>Standard Class</td>\n",
       "      <td>PO-18850</td>\n",
       "      <td>Patrick O'Brill</td>\n",
       "      <td>Consumer</td>\n",
       "      <td>United States</td>\n",
       "    </tr>\n",
       "    <tr>\n",
       "      <th>1009</th>\n",
       "      <td>First Class</td>\n",
       "      <td>AT-10735</td>\n",
       "      <td>Annie Thurman</td>\n",
       "      <td>Consumer</td>\n",
       "      <td>United States</td>\n",
       "    </tr>\n",
       "  </tbody>\n",
       "</table>\n",
       "</div>"
      ],
      "text/plain": [
       "           Ship Mode Customer ID    Customer Name      Segment        Country\n",
       "1000  Standard Class    FM-14290     Frank Merwin  Home Office  United States\n",
       "1001        Same Day    RH-19495      Rick Hansen     Consumer  United States\n",
       "1002        Same Day    RH-19495      Rick Hansen     Consumer  United States\n",
       "1003        Same Day    RH-19495      Rick Hansen     Consumer  United States\n",
       "1004  Standard Class    RA-19945        Ryan Akin     Consumer  United States\n",
       "1005  Standard Class    JK-15730    Joe Kamberova     Consumer  United States\n",
       "1006     First Class    MT-17815      Meg Tillman     Consumer  United States\n",
       "1007     First Class    MT-17815      Meg Tillman     Consumer  United States\n",
       "1008  Standard Class    PO-18850  Patrick O'Brill     Consumer  United States\n",
       "1009     First Class    AT-10735    Annie Thurman     Consumer  United States"
      ]
     },
     "execution_count": 22,
     "metadata": {},
     "output_type": "execute_result"
    }
   ],
   "source": [
    "super_store_data_1000_1500 = superstore_df.iloc[1000:1500, 4:9]\n",
    "super_store_data_1000_1500\n",
    "super_store_data_1000_1500.head(10)"
   ]
  },
  {
   "cell_type": "code",
   "execution_count": 23,
   "metadata": {},
   "outputs": [],
   "source": [
    "### 11 Rename the index starts from 1900 to end of the data"
   ]
  },
  {
   "cell_type": "code",
   "execution_count": 24,
   "metadata": {},
   "outputs": [
    {
     "data": {
      "text/html": [
       "<div>\n",
       "<style scoped>\n",
       "    .dataframe tbody tr th:only-of-type {\n",
       "        vertical-align: middle;\n",
       "    }\n",
       "\n",
       "    .dataframe tbody tr th {\n",
       "        vertical-align: top;\n",
       "    }\n",
       "\n",
       "    .dataframe thead th {\n",
       "        text-align: right;\n",
       "    }\n",
       "</style>\n",
       "<table border=\"1\" class=\"dataframe\">\n",
       "  <thead>\n",
       "    <tr style=\"text-align: right;\">\n",
       "      <th></th>\n",
       "      <th>no</th>\n",
       "      <th>order _id</th>\n",
       "      <th>Order Date</th>\n",
       "      <th>Ship Date</th>\n",
       "      <th>Ship Mode</th>\n",
       "      <th>Customer ID</th>\n",
       "      <th>Customer Name</th>\n",
       "      <th>Segment</th>\n",
       "      <th>Country</th>\n",
       "      <th>City</th>\n",
       "      <th>...</th>\n",
       "      <th>Postal Code</th>\n",
       "      <th>Region</th>\n",
       "      <th>Product ID</th>\n",
       "      <th>Category</th>\n",
       "      <th>Sub-Category</th>\n",
       "      <th>Product Name</th>\n",
       "      <th>Sales</th>\n",
       "      <th>Quantity</th>\n",
       "      <th>Discount</th>\n",
       "      <th>Profit</th>\n",
       "    </tr>\n",
       "  </thead>\n",
       "  <tbody>\n",
       "    <tr>\n",
       "      <th>1900</th>\n",
       "      <td>NaN</td>\n",
       "      <td>NaN</td>\n",
       "      <td>2016-11-08</td>\n",
       "      <td>2016-11-11</td>\n",
       "      <td>Second Class</td>\n",
       "      <td>CG-12520</td>\n",
       "      <td>Claire Gute</td>\n",
       "      <td>Consumer</td>\n",
       "      <td>United States</td>\n",
       "      <td>Henderson</td>\n",
       "      <td>...</td>\n",
       "      <td>42420</td>\n",
       "      <td>South</td>\n",
       "      <td>FUR-BO-10001798</td>\n",
       "      <td>Furniture</td>\n",
       "      <td>Bookcases</td>\n",
       "      <td>Bush Somerset Collection Bookcase</td>\n",
       "      <td>261.96</td>\n",
       "      <td>2</td>\n",
       "      <td>0.0</td>\n",
       "      <td>41.9136</td>\n",
       "    </tr>\n",
       "    <tr>\n",
       "      <th>...</th>\n",
       "      <td>...</td>\n",
       "      <td>...</td>\n",
       "      <td>...</td>\n",
       "      <td>...</td>\n",
       "      <td>...</td>\n",
       "      <td>...</td>\n",
       "      <td>...</td>\n",
       "      <td>...</td>\n",
       "      <td>...</td>\n",
       "      <td>...</td>\n",
       "      <td>...</td>\n",
       "      <td>...</td>\n",
       "      <td>...</td>\n",
       "      <td>...</td>\n",
       "      <td>...</td>\n",
       "      <td>...</td>\n",
       "      <td>...</td>\n",
       "      <td>...</td>\n",
       "      <td>...</td>\n",
       "      <td>...</td>\n",
       "      <td>...</td>\n",
       "    </tr>\n",
       "    <tr>\n",
       "      <th>11893</th>\n",
       "      <td>9994.0</td>\n",
       "      <td>CA-2017-119914</td>\n",
       "      <td>2017-05-04</td>\n",
       "      <td>2017-05-09</td>\n",
       "      <td>Second Class</td>\n",
       "      <td>CC-12220</td>\n",
       "      <td>Chris Cortes</td>\n",
       "      <td>Consumer</td>\n",
       "      <td>United States</td>\n",
       "      <td>Westminster</td>\n",
       "      <td>...</td>\n",
       "      <td>92683</td>\n",
       "      <td>West</td>\n",
       "      <td>OFF-AP-10002684</td>\n",
       "      <td>Office Supplies</td>\n",
       "      <td>Appliances</td>\n",
       "      <td>Acco 7-Outlet Masterpiece Power Center, Wihtou...</td>\n",
       "      <td>243.16</td>\n",
       "      <td>2</td>\n",
       "      <td>0.0</td>\n",
       "      <td>72.9480</td>\n",
       "    </tr>\n",
       "  </tbody>\n",
       "</table>\n",
       "<p>9994 rows × 21 columns</p>\n",
       "</div>"
      ],
      "text/plain": [
       "           no       order _id Order Date  Ship Date     Ship Mode Customer ID  \\\n",
       "1900      NaN             NaN 2016-11-08 2016-11-11  Second Class    CG-12520   \n",
       "...       ...             ...        ...        ...           ...         ...   \n",
       "11893  9994.0  CA-2017-119914 2017-05-04 2017-05-09  Second Class    CC-12220   \n",
       "\n",
       "      Customer Name   Segment        Country         City  ... Postal Code  \\\n",
       "1900    Claire Gute  Consumer  United States    Henderson  ...       42420   \n",
       "...             ...       ...            ...          ...  ...         ...   \n",
       "11893  Chris Cortes  Consumer  United States  Westminster  ...       92683   \n",
       "\n",
       "       Region       Product ID         Category Sub-Category  \\\n",
       "1900    South  FUR-BO-10001798        Furniture    Bookcases   \n",
       "...       ...              ...              ...          ...   \n",
       "11893    West  OFF-AP-10002684  Office Supplies   Appliances   \n",
       "\n",
       "                                            Product Name   Sales  Quantity  \\\n",
       "1900                   Bush Somerset Collection Bookcase  261.96         2   \n",
       "...                                                  ...     ...       ...   \n",
       "11893  Acco 7-Outlet Masterpiece Power Center, Wihtou...  243.16         2   \n",
       "\n",
       "       Discount   Profit  \n",
       "1900        0.0  41.9136  \n",
       "...         ...      ...  \n",
       "11893       0.0  72.9480  \n",
       "\n",
       "[9994 rows x 21 columns]"
      ]
     },
     "execution_count": 24,
     "metadata": {},
     "output_type": "execute_result"
    }
   ],
   "source": [
    "# Rename the index starting from 1900 to the end of the data\n",
    "superstore_df.index = range(1900, 1900 + len(superstore_df))\n",
    "\n",
    "# Display the DataFrame to verify the index change\n",
    "superstore_df"
   ]
  },
  {
   "cell_type": "code",
   "execution_count": 25,
   "metadata": {},
   "outputs": [],
   "source": [
    "### 12 Take a slice from data based on index having name as 1920 , 1940, 1945, 1980, \n",
    "###and columns as profit, state, category, sub-category, region"
   ]
  },
  {
   "cell_type": "code",
   "execution_count": 26,
   "metadata": {},
   "outputs": [
    {
     "data": {
      "text/html": [
       "<div>\n",
       "<style scoped>\n",
       "    .dataframe tbody tr th:only-of-type {\n",
       "        vertical-align: middle;\n",
       "    }\n",
       "\n",
       "    .dataframe tbody tr th {\n",
       "        vertical-align: top;\n",
       "    }\n",
       "\n",
       "    .dataframe thead th {\n",
       "        text-align: right;\n",
       "    }\n",
       "</style>\n",
       "<table border=\"1\" class=\"dataframe\">\n",
       "  <thead>\n",
       "    <tr style=\"text-align: right;\">\n",
       "      <th></th>\n",
       "      <th>Profit</th>\n",
       "      <th>State</th>\n",
       "      <th>Category</th>\n",
       "      <th>Sub-Category</th>\n",
       "      <th>Region</th>\n",
       "    </tr>\n",
       "  </thead>\n",
       "  <tbody>\n",
       "    <tr>\n",
       "      <th>1920</th>\n",
       "      <td>7.3840</td>\n",
       "      <td>California</td>\n",
       "      <td>Office Supplies</td>\n",
       "      <td>Binders</td>\n",
       "      <td>West</td>\n",
       "    </tr>\n",
       "    <tr>\n",
       "      <th>1940</th>\n",
       "      <td>41.7564</td>\n",
       "      <td>Texas</td>\n",
       "      <td>Technology</td>\n",
       "      <td>Phones</td>\n",
       "      <td>Central</td>\n",
       "    </tr>\n",
       "    <tr>\n",
       "      <th>1945</th>\n",
       "      <td>8.2062</td>\n",
       "      <td>Minnesota</td>\n",
       "      <td>Office Supplies</td>\n",
       "      <td>Binders</td>\n",
       "      <td>Central</td>\n",
       "    </tr>\n",
       "    <tr>\n",
       "      <th>1980</th>\n",
       "      <td>8.0352</td>\n",
       "      <td>Alabama</td>\n",
       "      <td>Office Supplies</td>\n",
       "      <td>Binders</td>\n",
       "      <td>South</td>\n",
       "    </tr>\n",
       "  </tbody>\n",
       "</table>\n",
       "</div>"
      ],
      "text/plain": [
       "       Profit       State         Category Sub-Category   Region\n",
       "1920   7.3840  California  Office Supplies      Binders     West\n",
       "1940  41.7564       Texas       Technology       Phones  Central\n",
       "1945   8.2062   Minnesota  Office Supplies      Binders  Central\n",
       "1980   8.0352     Alabama  Office Supplies      Binders    South"
      ]
     },
     "execution_count": 26,
     "metadata": {},
     "output_type": "execute_result"
    }
   ],
   "source": [
    "sub_index_slice = superstore_df.loc[[1920, 1940, 1945, 1980],['Profit', 'State', 'Category', 'Sub-Category', 'Region']]\n",
    "sub_index_slice"
   ]
  },
  {
   "cell_type": "code",
   "execution_count": 27,
   "metadata": {},
   "outputs": [],
   "source": [
    "###13. Check the data type of columns"
   ]
  },
  {
   "cell_type": "code",
   "execution_count": 28,
   "metadata": {},
   "outputs": [
    {
     "data": {
      "text/plain": [
       "no                      float64\n",
       "order _id                object\n",
       "Order Date       datetime64[ns]\n",
       "Ship Date        datetime64[ns]\n",
       "Ship Mode                object\n",
       "Customer ID              object\n",
       "Customer Name            object\n",
       "Segment                  object\n",
       "Country                  object\n",
       "City                     object\n",
       "State                    object\n",
       "Postal Code               int64\n",
       "Region                   object\n",
       "Product ID               object\n",
       "Category                 object\n",
       "Sub-Category             object\n",
       "Product Name             object\n",
       "Sales                   float64\n",
       "Quantity                  int64\n",
       "Discount                float64\n",
       "Profit                  float64\n",
       "dtype: object"
      ]
     },
     "execution_count": 28,
     "metadata": {},
     "output_type": "execute_result"
    }
   ],
   "source": [
    "# for checking data types\n",
    "super_col_data_type = superstore_df.dtypes\n",
    "super_col_data_type"
   ]
  },
  {
   "cell_type": "code",
   "execution_count": 29,
   "metadata": {},
   "outputs": [],
   "source": [
    "### 14.Find out the record for the month of jun-2014\n"
   ]
  },
  {
   "cell_type": "code",
   "execution_count": 30,
   "metadata": {},
   "outputs": [
    {
     "data": {
      "image/png": "[encoded data removed]",
      "text/plain": [
       "<Figure size 800x500 with 1 Axes>"
      ]
     },
     "metadata": {},
     "output_type": "display_data"
    },
    {
     "name": "stdout",
     "output_type": "stream",
     "text": [
      "Record of Jun Month\n"
     ]
    },
    {
     "data": {
      "text/html": [
       "<div>\n",
       "<style scoped>\n",
       "    .dataframe tbody tr th:only-of-type {\n",
       "        vertical-align: middle;\n",
       "    }\n",
       "\n",
       "    .dataframe tbody tr th {\n",
       "        vertical-align: top;\n",
       "    }\n",
       "\n",
       "    .dataframe thead th {\n",
       "        text-align: right;\n",
       "    }\n",
       "</style>\n",
       "<table border=\"1\" class=\"dataframe\">\n",
       "  <thead>\n",
       "    <tr style=\"text-align: right;\">\n",
       "      <th></th>\n",
       "      <th>no</th>\n",
       "      <th>order _id</th>\n",
       "      <th>Order Date</th>\n",
       "      <th>Ship Date</th>\n",
       "      <th>Ship Mode</th>\n",
       "      <th>Customer ID</th>\n",
       "      <th>Customer Name</th>\n",
       "      <th>Segment</th>\n",
       "      <th>Country</th>\n",
       "      <th>City</th>\n",
       "      <th>...</th>\n",
       "      <th>Postal Code</th>\n",
       "      <th>Region</th>\n",
       "      <th>Product ID</th>\n",
       "      <th>Category</th>\n",
       "      <th>Sub-Category</th>\n",
       "      <th>Product Name</th>\n",
       "      <th>Sales</th>\n",
       "      <th>Quantity</th>\n",
       "      <th>Discount</th>\n",
       "      <th>Profit</th>\n",
       "    </tr>\n",
       "  </thead>\n",
       "  <tbody>\n",
       "    <tr>\n",
       "      <th>1905</th>\n",
       "      <td>6.0</td>\n",
       "      <td>CA-2014-115812</td>\n",
       "      <td>2014-06-09</td>\n",
       "      <td>2014-06-14</td>\n",
       "      <td>Standard Class</td>\n",
       "      <td>BH-11710</td>\n",
       "      <td>Brosina Hoffman</td>\n",
       "      <td>Consumer</td>\n",
       "      <td>United States</td>\n",
       "      <td>Los Angeles</td>\n",
       "      <td>...</td>\n",
       "      <td>90032</td>\n",
       "      <td>West</td>\n",
       "      <td>FUR-FU-10001487</td>\n",
       "      <td>Furniture</td>\n",
       "      <td>Furnishings</td>\n",
       "      <td>Eldon Expressions Wood and Plastic Desk Access...</td>\n",
       "      <td>48.860</td>\n",
       "      <td>7</td>\n",
       "      <td>0.0</td>\n",
       "      <td>14.1694</td>\n",
       "    </tr>\n",
       "    <tr>\n",
       "      <th>...</th>\n",
       "      <td>...</td>\n",
       "      <td>...</td>\n",
       "      <td>...</td>\n",
       "      <td>...</td>\n",
       "      <td>...</td>\n",
       "      <td>...</td>\n",
       "      <td>...</td>\n",
       "      <td>...</td>\n",
       "      <td>...</td>\n",
       "      <td>...</td>\n",
       "      <td>...</td>\n",
       "      <td>...</td>\n",
       "      <td>...</td>\n",
       "      <td>...</td>\n",
       "      <td>...</td>\n",
       "      <td>...</td>\n",
       "      <td>...</td>\n",
       "      <td>...</td>\n",
       "      <td>...</td>\n",
       "      <td>...</td>\n",
       "      <td>...</td>\n",
       "    </tr>\n",
       "    <tr>\n",
       "      <th>11796</th>\n",
       "      <td>9897.0</td>\n",
       "      <td>CA-2014-156342</td>\n",
       "      <td>2014-06-17</td>\n",
       "      <td>2014-06-20</td>\n",
       "      <td>Second Class</td>\n",
       "      <td>JF-15415</td>\n",
       "      <td>Jennifer Ferguson</td>\n",
       "      <td>Consumer</td>\n",
       "      <td>United States</td>\n",
       "      <td>Chicago</td>\n",
       "      <td>...</td>\n",
       "      <td>60653</td>\n",
       "      <td>Central</td>\n",
       "      <td>OFF-PA-10001725</td>\n",
       "      <td>Office Supplies</td>\n",
       "      <td>Paper</td>\n",
       "      <td>Xerox 1892</td>\n",
       "      <td>62.016</td>\n",
       "      <td>2</td>\n",
       "      <td>0.2</td>\n",
       "      <td>22.4808</td>\n",
       "    </tr>\n",
       "  </tbody>\n",
       "</table>\n",
       "<p>132 rows × 21 columns</p>\n",
       "</div>"
      ],
      "text/plain": [
       "           no       order _id Order Date  Ship Date       Ship Mode  \\\n",
       "1905      6.0  CA-2014-115812 2014-06-09 2014-06-14  Standard Class   \n",
       "...       ...             ...        ...        ...             ...   \n",
       "11796  9897.0  CA-2014-156342 2014-06-17 2014-06-20    Second Class   \n",
       "\n",
       "      Customer ID      Customer Name   Segment        Country         City  \\\n",
       "1905     BH-11710    Brosina Hoffman  Consumer  United States  Los Angeles   \n",
       "...           ...                ...       ...            ...          ...   \n",
       "11796    JF-15415  Jennifer Ferguson  Consumer  United States      Chicago   \n",
       "\n",
       "       ... Postal Code   Region       Product ID         Category  \\\n",
       "1905   ...       90032     West  FUR-FU-10001487        Furniture   \n",
       "...    ...         ...      ...              ...              ...   \n",
       "11796  ...       60653  Central  OFF-PA-10001725  Office Supplies   \n",
       "\n",
       "      Sub-Category                                       Product Name   Sales  \\\n",
       "1905   Furnishings  Eldon Expressions Wood and Plastic Desk Access...  48.860   \n",
       "...            ...                                                ...     ...   \n",
       "11796        Paper                                         Xerox 1892  62.016   \n",
       "\n",
       "       Quantity  Discount   Profit  \n",
       "1905          7       0.0  14.1694  \n",
       "...         ...       ...      ...  \n",
       "11796         2       0.2  22.4808  \n",
       "\n",
       "[132 rows x 21 columns]"
      ]
     },
     "metadata": {},
     "output_type": "display_data"
    }
   ],
   "source": [
    "\n",
    "\n",
    "jun_2014_mask = (superstore_df[\"Ship Date\"] >= \"2014-06-01\") & (superstore_df[\"Ship Date\"] <= \"2014-06-30\")\n",
    "superstore_df_jun_month = superstore_df[jun_2014_mask]\n",
    "\n",
    "#Plot the bar graph\n",
    "import matplotlib.pyplot as plt\n",
    "plt.figure(figsize=(8,5))\n",
    "plt.bar(superstore_df_jun_month[\"Ship Date\"], superstore_df_jun_month[\"Sales\"], color='lightgreen')\n",
    "plt.title('Sales for June 2014')\n",
    "plt.xlabel('Ship Date')\n",
    "plt.ylabel('Sales')\n",
    "plt.xticks(rotation=45)\n",
    "plt.grid(True)\n",
    "plt.show()\n",
    "\n",
    "print('Record of Jun Month')\n",
    "display(superstore_df_jun_month)\n",
    "\n"
   ]
  },
  {
   "cell_type": "code",
   "execution_count": 31,
   "metadata": {},
   "outputs": [],
   "source": [
    "### Q15  Calculate month wise average of profit."
   ]
  },
  {
   "cell_type": "code",
   "execution_count": 32,
   "metadata": {},
   "outputs": [
    {
     "name": "stdout",
     "output_type": "stream",
     "text": [
      "Month\n",
      "1     23.974924\n",
      "2     34.315369\n",
      "3     41.084321\n",
      "4     17.346462\n",
      "5     30.491575\n",
      "6     29.687302\n",
      "7     19.482626\n",
      "8     30.845522\n",
      "9     26.650380\n",
      "10    38.808353\n",
      "11    24.111779\n",
      "12    30.801983\n",
      "Name: Profit, dtype: float64\n"
     ]
    }
   ],
   "source": [
    "# Method-1 \n",
    "import pandas as pd\n",
    "\n",
    "superstore_df['Order Date'] = pd.to_datetime(superstore_df['Order Date'])\n",
    "\n",
    "# month from 'Order Date'\n",
    "superstore_df['Month'] = superstore_df['Order Date'].dt.month\n",
    "\n",
    "# Calculate the average profit per month with mean function\n",
    "month_avg_profit = superstore_df.groupby('Month')['Profit'].mean()\n",
    "print(month_avg_profit)\n"
   ]
  },
  {
   "cell_type": "code",
   "execution_count": null,
   "metadata": {},
   "outputs": [],
   "source": []
  },
  {
   "cell_type": "code",
   "execution_count": 33,
   "metadata": {},
   "outputs": [
    {
     "data": {
      "text/plain": [
       "49"
      ]
     },
     "execution_count": 33,
     "metadata": {},
     "output_type": "execute_result"
    }
   ],
   "source": [
    "len(superstore_df['State'].unique())"
   ]
  },
  {
   "cell_type": "code",
   "execution_count": 34,
   "metadata": {},
   "outputs": [
    {
     "name": "stdout",
     "output_type": "stream",
     "text": [
      "Month\n",
      "Jan    23.974924\n",
      "Feb    34.315369\n",
      "Mar    41.084321\n",
      "Apr    17.346462\n",
      "May    30.491575\n",
      "Jun    29.687302\n",
      "Jul    19.482626\n",
      "Aug    30.845522\n",
      "Sep    26.650380\n",
      "Oct    38.808353\n",
      "Nov    24.111779\n",
      "Dec    30.801983\n",
      "Name: Profit, dtype: float64\n"
     ]
    },
    {
     "data": {
      "image/png": "[encoded data removed]",
      "text/plain": [
       "<Figure size 800x500 with 1 Axes>"
      ]
     },
     "metadata": {},
     "output_type": "display_data"
    }
   ],
   "source": [
    "#Method -2\n",
    "superstore_df['Month']=superstore_df['Order Date'].dt.strftime('%b') # covert month in form oh MMM using srtftime function\n",
    "month_avg_profit = superstore_df.groupby('Month')['Profit'].mean()\n",
    "month_avg_profit = month_avg_profit.reindex(['Jan','Feb','Mar','Apr','May','Jun','Jul','Aug', 'Sep','Oct','Nov','Dec'])\n",
    "print(month_avg_profit)\n",
    "\n",
    "# Bar Graph for Month wise profit\n",
    "import matplotlib.pyplot as plt\n",
    "plt.figure(figsize=(8,5))\n",
    "plt.bar(month_avg_profit.index, month_avg_profit.values, color='pink')\n",
    "plt.title('Profit Of Month')\n",
    "plt.xlabel('Month')\n",
    "plt.ylabel('Profit')\n",
    "plt.xticks(rotation=45)\n",
    "plt.grid(True)\n",
    "plt.show()"
   ]
  },
  {
   "cell_type": "code",
   "execution_count": 35,
   "metadata": {},
   "outputs": [],
   "source": [
    "### 16 Create the new data frame for California "
   ]
  },
  {
   "cell_type": "code",
   "execution_count": 36,
   "metadata": {},
   "outputs": [
    {
     "data": {
      "text/html": [
       "<div>\n",
       "<style scoped>\n",
       "    .dataframe tbody tr th:only-of-type {\n",
       "        vertical-align: middle;\n",
       "    }\n",
       "\n",
       "    .dataframe tbody tr th {\n",
       "        vertical-align: top;\n",
       "    }\n",
       "\n",
       "    .dataframe thead th {\n",
       "        text-align: right;\n",
       "    }\n",
       "</style>\n",
       "<table border=\"1\" class=\"dataframe\">\n",
       "  <thead>\n",
       "    <tr style=\"text-align: right;\">\n",
       "      <th></th>\n",
       "      <th>no</th>\n",
       "      <th>order _id</th>\n",
       "      <th>Order Date</th>\n",
       "      <th>Ship Date</th>\n",
       "      <th>Ship Mode</th>\n",
       "      <th>Customer ID</th>\n",
       "      <th>Customer Name</th>\n",
       "      <th>Segment</th>\n",
       "      <th>Country</th>\n",
       "      <th>City</th>\n",
       "      <th>...</th>\n",
       "      <th>Region</th>\n",
       "      <th>Product ID</th>\n",
       "      <th>Category</th>\n",
       "      <th>Sub-Category</th>\n",
       "      <th>Product Name</th>\n",
       "      <th>Sales</th>\n",
       "      <th>Quantity</th>\n",
       "      <th>Discount</th>\n",
       "      <th>Profit</th>\n",
       "      <th>Month</th>\n",
       "    </tr>\n",
       "  </thead>\n",
       "  <tbody>\n",
       "    <tr>\n",
       "      <th>1902</th>\n",
       "      <td>3.0</td>\n",
       "      <td>CA-2016-138688</td>\n",
       "      <td>2016-06-12</td>\n",
       "      <td>2016-06-16</td>\n",
       "      <td>Second Class</td>\n",
       "      <td>DV-13045</td>\n",
       "      <td>Darrin Van Huff</td>\n",
       "      <td>Corporate</td>\n",
       "      <td>United States</td>\n",
       "      <td>Los Angeles</td>\n",
       "      <td>...</td>\n",
       "      <td>West</td>\n",
       "      <td>OFF-LA-10000240</td>\n",
       "      <td>Office Supplies</td>\n",
       "      <td>Labels</td>\n",
       "      <td>Self-Adhesive Address Labels for Typewriters b...</td>\n",
       "      <td>14.620</td>\n",
       "      <td>2</td>\n",
       "      <td>0.0</td>\n",
       "      <td>6.8714</td>\n",
       "      <td>Jun</td>\n",
       "    </tr>\n",
       "    <tr>\n",
       "      <th>1905</th>\n",
       "      <td>6.0</td>\n",
       "      <td>CA-2014-115812</td>\n",
       "      <td>2014-06-09</td>\n",
       "      <td>2014-06-14</td>\n",
       "      <td>Standard Class</td>\n",
       "      <td>BH-11710</td>\n",
       "      <td>Brosina Hoffman</td>\n",
       "      <td>Consumer</td>\n",
       "      <td>United States</td>\n",
       "      <td>Los Angeles</td>\n",
       "      <td>...</td>\n",
       "      <td>West</td>\n",
       "      <td>FUR-FU-10001487</td>\n",
       "      <td>Furniture</td>\n",
       "      <td>Furnishings</td>\n",
       "      <td>Eldon Expressions Wood and Plastic Desk Access...</td>\n",
       "      <td>48.860</td>\n",
       "      <td>7</td>\n",
       "      <td>0.0</td>\n",
       "      <td>14.1694</td>\n",
       "      <td>Jun</td>\n",
       "    </tr>\n",
       "    <tr>\n",
       "      <th>1906</th>\n",
       "      <td>7.0</td>\n",
       "      <td>CA-2014-115812</td>\n",
       "      <td>2014-06-09</td>\n",
       "      <td>2014-06-14</td>\n",
       "      <td>Standard Class</td>\n",
       "      <td>BH-11710</td>\n",
       "      <td>Brosina Hoffman</td>\n",
       "      <td>Consumer</td>\n",
       "      <td>United States</td>\n",
       "      <td>Los Angeles</td>\n",
       "      <td>...</td>\n",
       "      <td>West</td>\n",
       "      <td>OFF-AR-10002833</td>\n",
       "      <td>Office Supplies</td>\n",
       "      <td>Art</td>\n",
       "      <td>Newell 322</td>\n",
       "      <td>7.280</td>\n",
       "      <td>4</td>\n",
       "      <td>0.0</td>\n",
       "      <td>1.9656</td>\n",
       "      <td>Jun</td>\n",
       "    </tr>\n",
       "    <tr>\n",
       "      <th>1907</th>\n",
       "      <td>8.0</td>\n",
       "      <td>CA-2014-115812</td>\n",
       "      <td>2014-06-09</td>\n",
       "      <td>2014-06-14</td>\n",
       "      <td>Standard Class</td>\n",
       "      <td>BH-11710</td>\n",
       "      <td>Brosina Hoffman</td>\n",
       "      <td>Consumer</td>\n",
       "      <td>United States</td>\n",
       "      <td>Los Angeles</td>\n",
       "      <td>...</td>\n",
       "      <td>West</td>\n",
       "      <td>TEC-PH-10002275</td>\n",
       "      <td>Technology</td>\n",
       "      <td>Phones</td>\n",
       "      <td>Mitel 5320 IP Phone VoIP phone</td>\n",
       "      <td>907.152</td>\n",
       "      <td>6</td>\n",
       "      <td>0.2</td>\n",
       "      <td>90.7152</td>\n",
       "      <td>Jun</td>\n",
       "    </tr>\n",
       "    <tr>\n",
       "      <th>1908</th>\n",
       "      <td>9.0</td>\n",
       "      <td>CA-2014-115812</td>\n",
       "      <td>2014-06-09</td>\n",
       "      <td>2014-06-14</td>\n",
       "      <td>Standard Class</td>\n",
       "      <td>BH-11710</td>\n",
       "      <td>Brosina Hoffman</td>\n",
       "      <td>Consumer</td>\n",
       "      <td>United States</td>\n",
       "      <td>Los Angeles</td>\n",
       "      <td>...</td>\n",
       "      <td>West</td>\n",
       "      <td>OFF-BI-10003910</td>\n",
       "      <td>Office Supplies</td>\n",
       "      <td>Binders</td>\n",
       "      <td>DXL Angle-View Binders with Locking Rings by S...</td>\n",
       "      <td>18.504</td>\n",
       "      <td>3</td>\n",
       "      <td>0.2</td>\n",
       "      <td>5.7825</td>\n",
       "      <td>Jun</td>\n",
       "    </tr>\n",
       "  </tbody>\n",
       "</table>\n",
       "<p>5 rows × 22 columns</p>\n",
       "</div>"
      ],
      "text/plain": [
       "       no       order _id Order Date  Ship Date       Ship Mode Customer ID  \\\n",
       "1902  3.0  CA-2016-138688 2016-06-12 2016-06-16    Second Class    DV-13045   \n",
       "1905  6.0  CA-2014-115812 2014-06-09 2014-06-14  Standard Class    BH-11710   \n",
       "1906  7.0  CA-2014-115812 2014-06-09 2014-06-14  Standard Class    BH-11710   \n",
       "1907  8.0  CA-2014-115812 2014-06-09 2014-06-14  Standard Class    BH-11710   \n",
       "1908  9.0  CA-2014-115812 2014-06-09 2014-06-14  Standard Class    BH-11710   \n",
       "\n",
       "        Customer Name    Segment        Country         City  ... Region  \\\n",
       "1902  Darrin Van Huff  Corporate  United States  Los Angeles  ...   West   \n",
       "1905  Brosina Hoffman   Consumer  United States  Los Angeles  ...   West   \n",
       "1906  Brosina Hoffman   Consumer  United States  Los Angeles  ...   West   \n",
       "1907  Brosina Hoffman   Consumer  United States  Los Angeles  ...   West   \n",
       "1908  Brosina Hoffman   Consumer  United States  Los Angeles  ...   West   \n",
       "\n",
       "           Product ID         Category Sub-Category  \\\n",
       "1902  OFF-LA-10000240  Office Supplies       Labels   \n",
       "1905  FUR-FU-10001487        Furniture  Furnishings   \n",
       "1906  OFF-AR-10002833  Office Supplies          Art   \n",
       "1907  TEC-PH-10002275       Technology       Phones   \n",
       "1908  OFF-BI-10003910  Office Supplies      Binders   \n",
       "\n",
       "                                           Product Name    Sales Quantity  \\\n",
       "1902  Self-Adhesive Address Labels for Typewriters b...   14.620        2   \n",
       "1905  Eldon Expressions Wood and Plastic Desk Access...   48.860        7   \n",
       "1906                                         Newell 322    7.280        4   \n",
       "1907                     Mitel 5320 IP Phone VoIP phone  907.152        6   \n",
       "1908  DXL Angle-View Binders with Locking Rings by S...   18.504        3   \n",
       "\n",
       "      Discount   Profit  Month  \n",
       "1902       0.0   6.8714    Jun  \n",
       "1905       0.0  14.1694    Jun  \n",
       "1906       0.0   1.9656    Jun  \n",
       "1907       0.2  90.7152    Jun  \n",
       "1908       0.2   5.7825    Jun  \n",
       "\n",
       "[5 rows x 22 columns]"
      ]
     },
     "execution_count": 36,
     "metadata": {},
     "output_type": "execute_result"
    }
   ],
   "source": [
    "dataframe_california = superstore_df[superstore_df[\"State\"]==\"California\"]\n",
    "dataframe_california.head()"
   ]
  },
  {
   "cell_type": "code",
   "execution_count": null,
   "metadata": {},
   "outputs": [],
   "source": []
  },
  {
   "cell_type": "code",
   "execution_count": 37,
   "metadata": {},
   "outputs": [],
   "source": [
    "### 17 Find sum of sales  "
   ]
  },
  {
   "cell_type": "code",
   "execution_count": 38,
   "metadata": {},
   "outputs": [
    {
     "name": "stdout",
     "output_type": "stream",
     "text": [
      "Total Sale =  2297200.8603000003\n"
     ]
    }
   ],
   "source": [
    "total_sale = superstore_df[\"Sales\"].sum()\n",
    "print(\"Total Sale = \", total_sale)"
   ]
  },
  {
   "cell_type": "code",
   "execution_count": 39,
   "metadata": {},
   "outputs": [
    {
     "data": {
      "image/png": "[encoded data removed]",
      "text/plain": [
       "<Figure size 1000x700 with 1 Axes>"
      ]
     },
     "metadata": {},
     "output_type": "display_data"
    },
    {
     "name": "stdout",
     "output_type": "stream",
     "text": [
      "state wise sake\n",
      "                    State   Total Sale\n",
      "0                Alabama   19510.6400\n",
      "1                Arizona   35282.0010\n",
      "2               Arkansas   11678.1300\n",
      "3             California  457687.6315\n",
      "4               Colorado   32108.1180\n",
      "5            Connecticut   13384.3570\n",
      "6               Delaware   27451.0690\n",
      "7   District of Columbia    2865.0200\n",
      "8                Florida   89473.7080\n",
      "9                Georgia   49095.8400\n",
      "10                 Idaho    4382.4860\n",
      "11              Illinois   80166.1010\n",
      "12               Indiana   53555.3600\n",
      "13                  Iowa    4579.7600\n",
      "14                Kansas    2914.3100\n",
      "15              Kentucky   36591.7500\n",
      "16             Louisiana    9217.0300\n",
      "17                 Maine    1270.5300\n",
      "18              Maryland   23705.5230\n",
      "19         Massachusetts   28634.4340\n",
      "20              Michigan   76269.6140\n",
      "21             Minnesota   29863.1500\n",
      "22           Mississippi   10771.3400\n",
      "23              Missouri   22205.1500\n",
      "24               Montana    5589.3520\n",
      "25              Nebraska    7464.9300\n",
      "26                Nevada   16729.1020\n",
      "27         New Hampshire    7292.5240\n",
      "28            New Jersey   35764.3120\n",
      "29            New Mexico    4783.5220\n",
      "30              New York  310876.2710\n",
      "31        North Carolina   55603.1640\n",
      "32          North Dakota     919.9100\n",
      "33                  Ohio   78258.1360\n",
      "34              Oklahoma   19683.3900\n",
      "35                Oregon   17431.1500\n",
      "36          Pennsylvania  116511.9140\n",
      "37          Rhode Island   22627.9560\n",
      "38        South Carolina    8481.7100\n",
      "39          South Dakota    1315.5600\n",
      "40             Tennessee   30661.8730\n",
      "41                 Texas  170188.0458\n",
      "42                  Utah   11220.0560\n",
      "43               Vermont    8929.3700\n",
      "44              Virginia   70636.7200\n",
      "45            Washington  138641.2700\n",
      "46         West Virginia    1209.8240\n",
      "47             Wisconsin   32114.6100\n",
      "48               Wyoming    1603.1360\n"
     ]
    }
   ],
   "source": [
    "# 18 Find state wise sum of sales. \n",
    "\n",
    "each_state_sale = superstore_df.groupby('State')['Sales'].sum()\n",
    "each_state_sale = pd.DataFrame(each_state_sale).reset_index()\n",
    "each_state_sale.columns = ['State' , 'Total Sale']\n",
    "each_state_sale\n",
    "\n",
    "import matplotlib.pyplot as plt\n",
    "\n",
    "plt.figure(figsize=(10, 7))\n",
    "plt.bar(each_state_sale['State'], each_state_sale['Total Sale'], color='skyblue')\n",
    "plt.title('Total Sales by State')\n",
    "plt.xlabel('State')\n",
    "plt.ylabel('Total Sales')\n",
    "plt.xticks(rotation=90)\n",
    "plt.grid(True)\n",
    "plt.show()\n",
    "print(\"state wise sake\\n\", each_state_sale)"
   ]
  },
  {
   "cell_type": "code",
   "execution_count": 40,
   "metadata": {},
   "outputs": [],
   "source": [
    "### 19 Find month wise sum of sales"
   ]
  },
  {
   "cell_type": "code",
   "execution_count": 41,
   "metadata": {},
   "outputs": [
    {
     "data": {
      "image/png": "[encoded data removed]",
      "text/plain": [
       "<Figure size 1000x700 with 1 Axes>"
      ]
     },
     "metadata": {},
     "output_type": "display_data"
    },
    {
     "name": "stdout",
     "output_type": "stream",
     "text": [
      "Every Month Sale\n",
      "    Month  Total Sales\n",
      "0    Jan   94924.8356\n",
      "1    Feb   59751.2514\n",
      "2    Mar  205005.4888\n",
      "3    Apr  137762.1286\n",
      "4    May  155028.8117\n",
      "5    Jun  152718.6793\n",
      "6    Jul  147238.0970\n",
      "7    Aug  159044.0630\n",
      "8    Sep  307649.9457\n",
      "9    Oct  200322.9847\n",
      "10   Nov  352461.0710\n",
      "11   Dec  325293.5035\n"
     ]
    }
   ],
   "source": [
    "superstore_df['Order Date'] = pd.to_datetime(superstore_df['Order Date'])\n",
    "superstore_df['Month'] = superstore_df['Order Date'].dt.strftime('%b') # %b use for MMM\n",
    "every_month_sales = superstore_df.groupby(\"Month\")[\"Sales\"].sum()\n",
    "# every_month_sales = every_month_sales.reindex([\"Jan\",\"Feb\",\"Mar\",\"Apr\",\"May\",\n",
    "#                                                \"Jun\",\"Jul\",\"Aug\",\"Sep\",\n",
    "#                                                 \"Oct\",\"Nov\",\"Dec\"])\n",
    "every_month_sales= pd.DataFrame(every_month_sales).reindex([\"Jan\",\"Feb\",\"Mar\",\"Apr\",\"May\",\n",
    "                                                            \"Jun\",\"Jul\",\"Aug\",\"Sep\",\n",
    "                                                            \"Oct\",\"Nov\",\"Dec\"]).reset_index()\n",
    "\n",
    "every_month_sales.columns = ['Month', 'Total Sales']\n",
    "\n",
    "\n",
    "\n",
    "\n",
    "\n",
    "\n",
    "plt.figure(figsize=(10, 7))\n",
    "plt.bar(every_month_sales['Month'], every_month_sales['Total Sales'], color='skyblue')\n",
    "plt.title('Total Sales by Month')\n",
    "plt.xlabel('Month')\n",
    "plt.ylabel('Total Sales')\n",
    "plt.xticks(rotation=45)\n",
    "plt.grid(True)\n",
    "plt.show()\n",
    "print(\"Every Month Sale\\n\",every_month_sales) \n",
    "\n",
    "\n",
    "\n"
   ]
  },
  {
   "cell_type": "code",
   "execution_count": 42,
   "metadata": {},
   "outputs": [],
   "source": [
    "###20 Find country wise and city wise average profit\n",
    "cntry_cty_wise_profit = superstore_df.groupby([\"Country\", \"City\"])['Profit'].mean().reset_index()\n",
    "cntry_cty_wise_profit.columns = ['Country', 'City', 'Average Profit']"
   ]
  },
  {
   "cell_type": "code",
   "execution_count": 43,
   "metadata": {},
   "outputs": [],
   "source": [
    "import plotly.express as px\n",
    "# ! pip install plotly\n"
   ]
  },
  {
   "cell_type": "code",
   "execution_count": 44,
   "metadata": {},
   "outputs": [
    {
     "data": {
      "application/vnd.plotly.v1+json": {
       "config": {
        "plotlyServerURL": "https://plot.ly"
       },
       "data": [
        {
         "alignmentgroup": "True",
         "customdata": [
          [
           "United States"
          ],
          [
           "United States"
          ],
          [
           "United States"
          ],
          [
           "United States"
          ],
          [
           "United States"
          ],
          [
           "United States"
          ],
          [
           "United States"
          ],
          [
           "United States"
          ],
          [
           "United States"
          ],
          [
           "United States"
          ],
          [
           "United States"
          ],
          [
           "United States"
          ],
          [
           "United States"
          ],
          [
           "United States"
          ],
          [
           "United States"
          ],
          [
           "United States"
          ],
          [
           "United States"
          ],
          [
           "United States"
          ],
          [
           "United States"
          ],
          [
           "United States"
          ],
          [
           "United States"
          ],
          [
           "United States"
          ],
          [
           "United States"
          ],
          [
           "United States"
          ],
          [
           "United States"
          ],
          [
           "United States"
          ],
          [
           "United States"
          ],
          [
           "United States"
          ],
          [
           "United States"
          ],
          [
           "United States"
          ],
          [
           "United States"
          ],
          [
           "United States"
          ],
          [
           "United States"
          ],
          [
           "United States"
          ],
          [
           "United States"
          ],
          [
           "United States"
          ],
          [
           "United States"
          ],
          [
           "United States"
          ],
          [
           "United States"
          ],
          [
           "United States"
          ],
          [
           "United States"
          ],
          [
           "United States"
          ],
          [
           "United States"
          ],
          [
           "United States"
          ],
          [
           "United States"
          ],
          [
           "United States"
          ],
          [
           "United States"
          ],
          [
           "United States"
          ],
          [
           "United States"
          ],
          [
           "United States"
          ],
          [
           "United States"
          ],
          [
           "United States"
          ],
          [
           "United States"
          ],
          [
           "United States"
          ],
          [
           "United States"
          ],
          [
           "United States"
          ],
          [
           "United States"
          ],
          [
           "United States"
          ],
          [
           "United States"
          ],
          [
           "United States"
          ],
          [
           "United States"
          ],
          [
           "United States"
          ],
          [
           "United States"
          ],
          [
           "United States"
          ],
          [
           "United States"
          ],
          [
           "United States"
          ],
          [
           "United States"
          ],
          [
           "United States"
          ],
          [
           "United States"
          ],
          [
           "United States"
          ],
          [
           "United States"
          ],
          [
           "United States"
          ],
          [
           "United States"
          ],
          [
           "United States"
          ],
          [
           "United States"
          ],
          [
           "United States"
          ],
          [
           "United States"
          ],
          [
           "United States"
          ],
          [
           "United States"
          ],
          [
           "United States"
          ],
          [
           "United States"
          ],
          [
           "United States"
          ],
          [
           "United States"
          ],
          [
           "United States"
          ],
          [
           "United States"
          ],
          [
           "United States"
          ],
          [
           "United States"
          ],
          [
           "United States"
          ],
          [
           "United States"
          ],
          [
           "United States"
          ],
          [
           "United States"
          ],
          [
           "United States"
          ],
          [
           "United States"
          ],
          [
           "United States"
          ],
          [
           "United States"
          ],
          [
           "United States"
          ],
          [
           "United States"
          ],
          [
           "United States"
          ],
          [
           "United States"
          ],
          [
           "United States"
          ],
          [
           "United States"
          ],
          [
           "United States"
          ],
          [
           "United States"
          ],
          [
           "United States"
          ],
          [
           "United States"
          ],
          [
           "United States"
          ],
          [
           "United States"
          ],
          [
           "United States"
          ],
          [
           "United States"
          ],
          [
           "United States"
          ],
          [
           "United States"
          ],
          [
           "United States"
          ],
          [
           "United States"
          ],
          [
           "United States"
          ],
          [
           "United States"
          ],
          [
           "United States"
          ],
          [
           "United States"
          ],
          [
           "United States"
          ],
          [
           "United States"
          ],
          [
           "United States"
          ],
          [
           "United States"
          ],
          [
           "United States"
          ],
          [
           "United States"
          ],
          [
           "United States"
          ],
          [
           "United States"
          ],
          [
           "United States"
          ],
          [
           "United States"
          ],
          [
           "United States"
          ],
          [
           "United States"
          ],
          [
           "United States"
          ],
          [
           "United States"
          ],
          [
           "United States"
          ],
          [
           "United States"
          ],
          [
           "United States"
          ],
          [
           "United States"
          ],
          [
           "United States"
          ],
          [
           "United States"
          ],
          [
           "United States"
          ],
          [
           "United States"
          ],
          [
           "United States"
          ],
          [
           "United States"
          ],
          [
           "United States"
          ],
          [
           "United States"
          ],
          [
           "United States"
          ],
          [
           "United States"
          ],
          [
           "United States"
          ],
          [
           "United States"
          ],
          [
           "United States"
          ],
          [
           "United States"
          ],
          [
           "United States"
          ],
          [
           "United States"
          ],
          [
           "United States"
          ],
          [
           "United States"
          ],
          [
           "United States"
          ],
          [
           "United States"
          ],
          [
           "United States"
          ],
          [
           "United States"
          ],
          [
           "United States"
          ],
          [
           "United States"
          ],
          [
           "United States"
          ],
          [
           "United States"
          ],
          [
           "United States"
          ],
          [
           "United States"
          ],
          [
           "United States"
          ],
          [
           "United States"
          ],
          [
           "United States"
          ],
          [
           "United States"
          ],
          [
           "United States"
          ],
          [
           "United States"
          ],
          [
           "United States"
          ],
          [
           "United States"
          ],
          [
           "United States"
          ],
          [
           "United States"
          ],
          [
           "United States"
          ],
          [
           "United States"
          ],
          [
           "United States"
          ],
          [
           "United States"
          ],
          [
           "United States"
          ],
          [
           "United States"
          ],
          [
           "United States"
          ],
          [
           "United States"
          ],
          [
           "United States"
          ],
          [
           "United States"
          ],
          [
           "United States"
          ],
          [
           "United States"
          ],
          [
           "United States"
          ],
          [
           "United States"
          ],
          [
           "United States"
          ],
          [
           "United States"
          ],
          [
           "United States"
          ],
          [
           "United States"
          ],
          [
           "United States"
          ],
          [
           "United States"
          ],
          [
           "United States"
          ],
          [
           "United States"
          ],
          [
           "United States"
          ],
          [
           "United States"
          ],
          [
           "United States"
          ],
          [
           "United States"
          ],
          [
           "United States"
          ],
          [
           "United States"
          ],
          [
           "United States"
          ],
          [
           "United States"
          ],
          [
           "United States"
          ],
          [
           "United States"
          ],
          [
           "United States"
          ],
          [
           "United States"
          ],
          [
           "United States"
          ],
          [
           "United States"
          ],
          [
           "United States"
          ],
          [
           "United States"
          ],
          [
           "United States"
          ],
          [
           "United States"
          ],
          [
           "United States"
          ],
          [
           "United States"
          ],
          [
           "United States"
          ],
          [
           "United States"
          ],
          [
           "United States"
          ],
          [
           "United States"
          ],
          [
           "United States"
          ],
          [
           "United States"
          ],
          [
           "United States"
          ],
          [
           "United States"
          ],
          [
           "United States"
          ],
          [
           "United States"
          ],
          [
           "United States"
          ],
          [
           "United States"
          ],
          [
           "United States"
          ],
          [
           "United States"
          ],
          [
           "United States"
          ],
          [
           "United States"
          ],
          [
           "United States"
          ],
          [
           "United States"
          ],
          [
           "United States"
          ],
          [
           "United States"
          ],
          [
           "United States"
          ],
          [
           "United States"
          ],
          [
           "United States"
          ],
          [
           "United States"
          ],
          [
           "United States"
          ],
          [
           "United States"
          ],
          [
           "United States"
          ],
          [
           "United States"
          ],
          [
           "United States"
          ],
          [
           "United States"
          ],
          [
           "United States"
          ],
          [
           "United States"
          ],
          [
           "United States"
          ],
          [
           "United States"
          ],
          [
           "United States"
          ],
          [
           "United States"
          ],
          [
           "United States"
          ],
          [
           "United States"
          ],
          [
           "United States"
          ],
          [
           "United States"
          ],
          [
           "United States"
          ],
          [
           "United States"
          ],
          [
           "United States"
          ],
          [
           "United States"
          ],
          [
           "United States"
          ],
          [
           "United States"
          ],
          [
           "United States"
          ],
          [
           "United States"
          ],
          [
           "United States"
          ],
          [
           "United States"
          ],
          [
           "United States"
          ],
          [
           "United States"
          ],
          [
           "United States"
          ],
          [
           "United States"
          ],
          [
           "United States"
          ],
          [
           "United States"
          ],
          [
           "United States"
          ],
          [
           "United States"
          ],
          [
           "United States"
          ],
          [
           "United States"
          ],
          [
           "United States"
          ],
          [
           "United States"
          ],
          [
           "United States"
          ],
          [
           "United States"
          ],
          [
           "United States"
          ],
          [
           "United States"
          ],
          [
           "United States"
          ],
          [
           "United States"
          ],
          [
           "United States"
          ],
          [
           "United States"
          ],
          [
           "United States"
          ],
          [
           "United States"
          ],
          [
           "United States"
          ],
          [
           "United States"
          ],
          [
           "United States"
          ],
          [
           "United States"
          ],
          [
           "United States"
          ],
          [
           "United States"
          ],
          [
           "United States"
          ],
          [
           "United States"
          ],
          [
           "United States"
          ],
          [
           "United States"
          ],
          [
           "United States"
          ],
          [
           "United States"
          ],
          [
           "United States"
          ],
          [
           "United States"
          ],
          [
           "United States"
          ],
          [
           "United States"
          ],
          [
           "United States"
          ],
          [
           "United States"
          ],
          [
           "United States"
          ],
          [
           "United States"
          ],
          [
           "United States"
          ],
          [
           "United States"
          ],
          [
           "United States"
          ],
          [
           "United States"
          ],
          [
           "United States"
          ],
          [
           "United States"
          ],
          [
           "United States"
          ],
          [
           "United States"
          ],
          [
           "United States"
          ],
          [
           "United States"
          ],
          [
           "United States"
          ],
          [
           "United States"
          ],
          [
           "United States"
          ],
          [
           "United States"
          ],
          [
           "United States"
          ],
          [
           "United States"
          ],
          [
           "United States"
          ],
          [
           "United States"
          ],
          [
           "United States"
          ],
          [
           "United States"
          ],
          [
           "United States"
          ],
          [
           "United States"
          ],
          [
           "United States"
          ],
          [
           "United States"
          ],
          [
           "United States"
          ],
          [
           "United States"
          ],
          [
           "United States"
          ],
          [
           "United States"
          ],
          [
           "United States"
          ],
          [
           "United States"
          ],
          [
           "United States"
          ],
          [
           "United States"
          ],
          [
           "United States"
          ],
          [
           "United States"
          ],
          [
           "United States"
          ],
          [
           "United States"
          ],
          [
           "United States"
          ],
          [
           "United States"
          ],
          [
           "United States"
          ],
          [
           "United States"
          ],
          [
           "United States"
          ],
          [
           "United States"
          ],
          [
           "United States"
          ],
          [
           "United States"
          ],
          [
           "United States"
          ],
          [
           "United States"
          ],
          [
           "United States"
          ],
          [
           "United States"
          ],
          [
           "United States"
          ],
          [
           "United States"
          ],
          [
           "United States"
          ],
          [
           "United States"
          ],
          [
           "United States"
          ],
          [
           "United States"
          ],
          [
           "United States"
          ],
          [
           "United States"
          ],
          [
           "United States"
          ],
          [
           "United States"
          ],
          [
           "United States"
          ],
          [
           "United States"
          ],
          [
           "United States"
          ],
          [
           "United States"
          ],
          [
           "United States"
          ],
          [
           "United States"
          ],
          [
           "United States"
          ],
          [
           "United States"
          ],
          [
           "United States"
          ],
          [
           "United States"
          ],
          [
           "United States"
          ],
          [
           "United States"
          ],
          [
           "United States"
          ],
          [
           "United States"
          ],
          [
           "United States"
          ],
          [
           "United States"
          ],
          [
           "United States"
          ],
          [
           "United States"
          ],
          [
           "United States"
          ],
          [
           "United States"
          ],
          [
           "United States"
          ],
          [
           "United States"
          ],
          [
           "United States"
          ],
          [
           "United States"
          ],
          [
           "United States"
          ],
          [
           "United States"
          ],
          [
           "United States"
          ],
          [
           "United States"
          ],
          [
           "United States"
          ],
          [
           "United States"
          ],
          [
           "United States"
          ],
          [
           "United States"
          ],
          [
           "United States"
          ],
          [
           "United States"
          ],
          [
           "United States"
          ],
          [
           "United States"
          ],
          [
           "United States"
          ],
          [
           "United States"
          ],
          [
           "United States"
          ],
          [
           "United States"
          ],
          [
           "United States"
          ],
          [
           "United States"
          ],
          [
           "United States"
          ],
          [
           "United States"
          ],
          [
           "United States"
          ],
          [
           "United States"
          ],
          [
           "United States"
          ],
          [
           "United States"
          ],
          [
           "United States"
          ],
          [
           "United States"
          ],
          [
           "United States"
          ],
          [
           "United States"
          ],
          [
           "United States"
          ],
          [
           "United States"
          ],
          [
           "United States"
          ],
          [
           "United States"
          ],
          [
           "United States"
          ],
          [
           "United States"
          ],
          [
           "United States"
          ],
          [
           "United States"
          ],
          [
           "United States"
          ],
          [
           "United States"
          ],
          [
           "United States"
          ],
          [
           "United States"
          ],
          [
           "United States"
          ],
          [
           "United States"
          ],
          [
           "United States"
          ],
          [
           "United States"
          ],
          [
           "United States"
          ],
          [
           "United States"
          ],
          [
           "United States"
          ],
          [
           "United States"
          ],
          [
           "United States"
          ],
          [
           "United States"
          ],
          [
           "United States"
          ],
          [
           "United States"
          ],
          [
           "United States"
          ],
          [
           "United States"
          ],
          [
           "United States"
          ],
          [
           "United States"
          ],
          [
           "United States"
          ],
          [
           "United States"
          ],
          [
           "United States"
          ],
          [
           "United States"
          ],
          [
           "United States"
          ],
          [
           "United States"
          ],
          [
           "United States"
          ],
          [
           "United States"
          ],
          [
           "United States"
          ],
          [
           "United States"
          ],
          [
           "United States"
          ],
          [
           "United States"
          ],
          [
           "United States"
          ],
          [
           "United States"
          ],
          [
           "United States"
          ],
          [
           "United States"
          ],
          [
           "United States"
          ],
          [
           "United States"
          ],
          [
           "United States"
          ],
          [
           "United States"
          ],
          [
           "United States"
          ],
          [
           "United States"
          ],
          [
           "United States"
          ],
          [
           "United States"
          ],
          [
           "United States"
          ],
          [
           "United States"
          ],
          [
           "United States"
          ],
          [
           "United States"
          ],
          [
           "United States"
          ],
          [
           "United States"
          ],
          [
           "United States"
          ],
          [
           "United States"
          ],
          [
           "United States"
          ],
          [
           "United States"
          ],
          [
           "United States"
          ],
          [
           "United States"
          ],
          [
           "United States"
          ],
          [
           "United States"
          ],
          [
           "United States"
          ],
          [
           "United States"
          ],
          [
           "United States"
          ],
          [
           "United States"
          ],
          [
           "United States"
          ],
          [
           "United States"
          ],
          [
           "United States"
          ],
          [
           "United States"
          ],
          [
           "United States"
          ],
          [
           "United States"
          ],
          [
           "United States"
          ],
          [
           "United States"
          ],
          [
           "United States"
          ],
          [
           "United States"
          ],
          [
           "United States"
          ],
          [
           "United States"
          ],
          [
           "United States"
          ],
          [
           "United States"
          ],
          [
           "United States"
          ],
          [
           "United States"
          ],
          [
           "United States"
          ],
          [
           "United States"
          ],
          [
           "United States"
          ],
          [
           "United States"
          ],
          [
           "United States"
          ],
          [
           "United States"
          ],
          [
           "United States"
          ],
          [
           "United States"
          ],
          [
           "United States"
          ],
          [
           "United States"
          ],
          [
           "United States"
          ],
          [
           "United States"
          ],
          [
           "United States"
          ],
          [
           "United States"
          ],
          [
           "United States"
          ],
          [
           "United States"
          ],
          [
           "United States"
          ],
          [
           "United States"
          ],
          [
           "United States"
          ],
          [
           "United States"
          ],
          [
           "United States"
          ],
          [
           "United States"
          ],
          [
           "United States"
          ],
          [
           "United States"
          ],
          [
           "United States"
          ],
          [
           "United States"
          ],
          [
           "United States"
          ],
          [
           "United States"
          ]
         ],
         "hovertemplate": "Country=%{customdata[0]}<br>City=%{x}<br>Average Profit=%{y}<extra></extra>",
         "legendgroup": "United States",
         "marker": {
          "color": "#636efa",
          "pattern": {
           "shape": ""
          }
         },
         "name": "United States",
         "offsetgroup": "United States",
         "orientation": "v",
         "showlegend": true,
         "textposition": "auto",
         "type": "bar",
         "x": [
          "Aberdeen",
          "Abilene",
          "Akron",
          "Albuquerque",
          "Alexandria",
          "Allen",
          "Allentown",
          "Altoona",
          "Amarillo",
          "Anaheim",
          "Andover",
          "Ann Arbor",
          "Antioch",
          "Apopka",
          "Apple Valley",
          "Appleton",
          "Arlington",
          "Arlington Heights",
          "Arvada",
          "Asheville",
          "Athens",
          "Atlanta",
          "Atlantic City",
          "Auburn",
          "Aurora",
          "Austin",
          "Avondale",
          "Bakersfield",
          "Baltimore",
          "Bangor",
          "Bartlett",
          "Bayonne",
          "Baytown",
          "Beaumont",
          "Bedford",
          "Belleville",
          "Bellevue",
          "Bellingham",
          "Bethlehem",
          "Beverly",
          "Billings",
          "Bloomington",
          "Boca Raton",
          "Boise",
          "Bolingbrook",
          "Bossier City",
          "Bowling Green",
          "Boynton Beach",
          "Bozeman",
          "Brentwood",
          "Bridgeton",
          "Bristol",
          "Broken Arrow",
          "Broomfield",
          "Brownsville",
          "Bryan",
          "Buffalo",
          "Buffalo Grove",
          "Bullhead City",
          "Burbank",
          "Burlington",
          "Caldwell",
          "Camarillo",
          "Cambridge",
          "Canton",
          "Carlsbad",
          "Carol Stream",
          "Carrollton",
          "Cary",
          "Cedar Hill",
          "Cedar Rapids",
          "Champaign",
          "Chandler",
          "Chapel Hill",
          "Charlotte",
          "Charlottesville",
          "Chattanooga",
          "Chesapeake",
          "Chester",
          "Cheyenne",
          "Chicago",
          "Chico",
          "Chula Vista",
          "Cincinnati",
          "Citrus Heights",
          "Clarksville",
          "Cleveland",
          "Clifton",
          "Clinton",
          "Clovis",
          "Coachella",
          "College Station",
          "Colorado Springs",
          "Columbia",
          "Columbus",
          "Commerce City",
          "Concord",
          "Conroe",
          "Conway",
          "Coon Rapids",
          "Coppell",
          "Coral Gables",
          "Coral Springs",
          "Corpus Christi",
          "Costa Mesa",
          "Cottage Grove",
          "Covington",
          "Cranston",
          "Cuyahoga Falls",
          "Dallas",
          "Danbury",
          "Danville",
          "Davis",
          "Daytona Beach",
          "Dearborn",
          "Dearborn Heights",
          "Decatur",
          "Deer Park",
          "Delray Beach",
          "Deltona",
          "Denver",
          "Des Moines",
          "Des Plaines",
          "Detroit",
          "Dover",
          "Draper",
          "Dublin",
          "Dubuque",
          "Durham",
          "Eagan",
          "East Orange",
          "East Point",
          "Eau Claire",
          "Edinburg",
          "Edmond",
          "Edmonds",
          "El Cajon",
          "El Paso",
          "Elkhart",
          "Elmhurst",
          "Elyria",
          "Encinitas",
          "Englewood",
          "Escondido",
          "Eugene",
          "Evanston",
          "Everett",
          "Fairfield",
          "Fargo",
          "Farmington",
          "Fayetteville",
          "Florence",
          "Fort Collins",
          "Fort Lauderdale",
          "Fort Worth",
          "Frankfort",
          "Franklin",
          "Freeport",
          "Fremont",
          "Fresno",
          "Frisco",
          "Gaithersburg",
          "Garden City",
          "Garland",
          "Gastonia",
          "Georgetown",
          "Gilbert",
          "Gladstone",
          "Glendale",
          "Glenview",
          "Goldsboro",
          "Grand Island",
          "Grand Prairie",
          "Grand Rapids",
          "Grapevine",
          "Great Falls",
          "Greeley",
          "Green Bay",
          "Greensboro",
          "Greenville",
          "Greenwood",
          "Gresham",
          "Grove City",
          "Gulfport",
          "Hackensack",
          "Hagerstown",
          "Haltom City",
          "Hamilton",
          "Hampton",
          "Harlingen",
          "Harrisonburg",
          "Hattiesburg",
          "Helena",
          "Hempstead",
          "Henderson",
          "Hendersonville",
          "Hesperia",
          "Hialeah",
          "Hickory",
          "Highland Park",
          "Hillsboro",
          "Holland",
          "Hollywood",
          "Holyoke",
          "Homestead",
          "Hoover",
          "Hot Springs",
          "Houston",
          "Huntington Beach",
          "Huntsville",
          "Independence",
          "Indianapolis",
          "Inglewood",
          "Iowa City",
          "Irving",
          "Jackson",
          "Jacksonville",
          "Jamestown",
          "Jefferson City",
          "Johnson City",
          "Jonesboro",
          "Jupiter",
          "Keller",
          "Kenner",
          "Kenosha",
          "Kent",
          "Kirkwood",
          "Kissimmee",
          "Knoxville",
          "La Crosse",
          "La Mesa",
          "La Porte",
          "La Quinta",
          "Lafayette",
          "Laguna Niguel",
          "Lake Charles",
          "Lake Elsinore",
          "Lake Forest",
          "Lakeland",
          "Lakeville",
          "Lakewood",
          "Lancaster",
          "Lansing",
          "Laredo",
          "Las Cruces",
          "Las Vegas",
          "Laurel",
          "Lawrence",
          "Lawton",
          "Layton",
          "League City",
          "Lebanon",
          "Lehi",
          "Leominster",
          "Lewiston",
          "Lincoln Park",
          "Linden",
          "Lindenhurst",
          "Little Rock",
          "Littleton",
          "Lodi",
          "Logan",
          "Long Beach",
          "Longmont",
          "Longview",
          "Lorain",
          "Los Angeles",
          "Louisville",
          "Loveland",
          "Lowell",
          "Lubbock",
          "Macon",
          "Madison",
          "Malden",
          "Manchester",
          "Manhattan",
          "Mansfield",
          "Manteca",
          "Maple Grove",
          "Margate",
          "Marietta",
          "Marion",
          "Marlborough",
          "Marysville",
          "Mason",
          "Mcallen",
          "Medford",
          "Medina",
          "Melbourne",
          "Memphis",
          "Mentor",
          "Meriden",
          "Meridian",
          "Mesa",
          "Mesquite",
          "Miami",
          "Middletown",
          "Midland",
          "Milford",
          "Milwaukee",
          "Minneapolis",
          "Miramar",
          "Mishawaka",
          "Mission Viejo",
          "Missoula",
          "Missouri City",
          "Mobile",
          "Modesto",
          "Monroe",
          "Montebello",
          "Montgomery",
          "Moorhead",
          "Moreno Valley",
          "Morgan Hill",
          "Morristown",
          "Mount Pleasant",
          "Mount Vernon",
          "Murfreesboro",
          "Murray",
          "Murrieta",
          "Muskogee",
          "Naperville",
          "Nashua",
          "Nashville",
          "New Albany",
          "New Bedford",
          "New Brunswick",
          "New Castle",
          "New Rochelle",
          "New York City",
          "Newark",
          "Newport News",
          "Niagara Falls",
          "Noblesville",
          "Norfolk",
          "Normal",
          "Norman",
          "North Charleston",
          "North Las Vegas",
          "North Miami",
          "Norwich",
          "Oak Park",
          "Oakland",
          "Oceanside",
          "Odessa",
          "Oklahoma City",
          "Olathe",
          "Olympia",
          "Omaha",
          "Ontario",
          "Orange",
          "Orem",
          "Orland Park",
          "Orlando",
          "Ormond Beach",
          "Oswego",
          "Overland Park",
          "Owensboro",
          "Oxnard",
          "Palatine",
          "Palm Coast",
          "Park Ridge",
          "Parker",
          "Parma",
          "Pasadena",
          "Pasco",
          "Passaic",
          "Paterson",
          "Pearland",
          "Pembroke Pines",
          "Pensacola",
          "Peoria",
          "Perth Amboy",
          "Pharr",
          "Philadelphia",
          "Phoenix",
          "Pico Rivera",
          "Pine Bluff",
          "Plainfield",
          "Plano",
          "Plantation",
          "Pleasant Grove",
          "Pocatello",
          "Pomona",
          "Pompano Beach",
          "Port Arthur",
          "Port Orange",
          "Port Saint Lucie",
          "Portage",
          "Portland",
          "Providence",
          "Provo",
          "Pueblo",
          "Quincy",
          "Raleigh",
          "Rancho Cucamonga",
          "Rapid City",
          "Reading",
          "Redding",
          "Redlands",
          "Redmond",
          "Redondo Beach",
          "Redwood City",
          "Reno",
          "Renton",
          "Revere",
          "Richardson",
          "Richmond",
          "Rio Rancho",
          "Riverside",
          "Rochester",
          "Rochester Hills",
          "Rock Hill",
          "Rockford",
          "Rockville",
          "Rogers",
          "Rome",
          "Romeoville",
          "Roseville",
          "Roswell",
          "Round Rock",
          "Royal Oak",
          "Sacramento",
          "Saginaw",
          "Saint Charles",
          "Saint Cloud",
          "Saint Louis",
          "Saint Paul",
          "Saint Peters",
          "Saint Petersburg",
          "Salem",
          "Salinas",
          "Salt Lake City",
          "San Angelo",
          "San Antonio",
          "San Bernardino",
          "San Clemente",
          "San Diego",
          "San Francisco",
          "San Gabriel",
          "San Jose",
          "San Luis Obispo",
          "San Marcos",
          "San Mateo",
          "Sandy Springs",
          "Sanford",
          "Santa Ana",
          "Santa Barbara",
          "Santa Clara",
          "Santa Fe",
          "Santa Maria",
          "Scottsdale",
          "Seattle",
          "Sheboygan",
          "Shelton",
          "Sierra Vista",
          "Sioux Falls",
          "Skokie",
          "Smyrna",
          "South Bend",
          "Southaven",
          "Sparks",
          "Spokane",
          "Springdale",
          "Springfield",
          "Sterling Heights",
          "Stockton",
          "Suffolk",
          "Summerville",
          "Sunnyvale",
          "Superior",
          "Tallahassee",
          "Tamarac",
          "Tampa",
          "Taylor",
          "Temecula",
          "Tempe",
          "Texarkana",
          "Texas City",
          "The Colony",
          "Thomasville",
          "Thornton",
          "Thousand Oaks",
          "Tigard",
          "Tinley Park",
          "Toledo",
          "Torrance",
          "Trenton",
          "Troy",
          "Tucson",
          "Tulsa",
          "Tuscaloosa",
          "Twin Falls",
          "Tyler",
          "Urbandale",
          "Utica",
          "Vacaville",
          "Vallejo",
          "Vancouver",
          "Vineland",
          "Virginia Beach",
          "Visalia",
          "Waco",
          "Warner Robins",
          "Warwick",
          "Washington",
          "Waterbury",
          "Waterloo",
          "Watertown",
          "Waukesha",
          "Wausau",
          "Waynesboro",
          "West Allis",
          "West Jordan",
          "West Palm Beach",
          "Westfield",
          "Westland",
          "Westminster",
          "Wheeling",
          "Whittier",
          "Wichita",
          "Wilmington",
          "Wilson",
          "Woodbury",
          "Woodland",
          "Woodstock",
          "Woonsocket",
          "Yonkers",
          "York",
          "Yucaipa",
          "Yuma"
         ],
         "xaxis": "x",
         "y": [
          6.63,
          -3.758400000000001,
          -8.887409523809529,
          45.292007142857145,
          19.913643750000006,
          -9.969375000000003,
          -32.35005714285714,
          -0.5917500000000011,
          -38.796829999999986,
          45.70383703703704,
          31.047150000000006,
          45.78315999999999,
          9.3312,
          7.766199999999991,
          32.509888888888874,
          277.3831499999999,
          69.49494833333331,
          1.2348000000000008,
          14.963899999999995,
          11.072485714285715,
          59.91526250000001,
          179.32468974358972,
          11.68,
          30.621529166666665,
          -39.5843911764706,
          -0.5229179487179606,
          12.694833333333316,
          11.74529375,
          38.9813488372093,
          84.44408,
          10.007999999999988,
          26.467666666666663,
          3.6288,
          11.823279999999995,
          2.124039999999998,
          28.364920000000005,
          6.175799999999999,
          203.53026666666668,
          -200.61916,
          218.30646666666658,
          2.693599999999999,
          -16.623666666666676,
          -7.5485333333333315,
          55.484325,
          -0.7768333333333365,
          56.16013333333333,
          21.70616999999998,
          5.0661499999999995,
          10.4053,
          76.05064999999999,
          1.7207999999999997,
          6.279715384615386,
          115.10452000000001,
          12.488999999999987,
          28.867428571428565,
          -35.61860000000001,
          99.28790999999995,
          -44.82390000000003,
          3.3615999999999997,
          254.84459999999993,
          -144.91508799999997,
          19.565533333333324,
          31.759119999999974,
          28.9546,
          49.7592,
          14.342372727272725,
          -7.973660000000026,
          -31.347593333333347,
          9.00643333333333,
          21.415799999999994,
          80.73599999999998,
          -182.35200000000003,
          11.637214285714267,
          4.7303999999999995,
          -8.265046153846175,
          11.313899999999999,
          2.719179999999997,
          70.15483333333333,
          3.022362499999998,
          100.19599999999997,
          -21.192894267515932,
          18.64776363636362,
          82.81153333333332,
          10.313947058823523,
          54.34380000000001,
          -150.76474285714286,
          -20.190664285714288,
          49.29419999999999,
          43.93938275862069,
          5.817599999999995,
          23.5868,
          -39.20746666666667,
          -38.267364000000015,
          69.2113172839506,
          26.56351936936937,
          -32.9292,
          -23.181900000000013,
          6.979499999999991,
          45.29399999999998,
          68.22659999999999,
          10.3723,
          11.1789,
          2.319600000000002,
          -5.4663,
          27.018990909090906,
          27.398400000000002,
          28.777350000000002,
          39.84360624999999,
          -4.1917333333333335,
          -18.130736942675167,
          9.8856,
          30.435042857142843,
          15.552000000000001,
          -13.083499999999999,
          93.47728,
          23.48175,
          19.68730285714285,
          -10.386,
          9.684733333333332,
          24.426879999999993,
          -5.566363636363646,
          84.77601578947369,
          -39.46123333333335,
          114.62426782608695,
          53.762847368421056,
          30.908499999999993,
          -24.994964285714282,
          159.2248,
          12.985544444444441,
          10.879225,
          34.92382,
          34.004599999999996,
          71.24963333333334,
          9.269533333333332,
          121.55194999999999,
          45.30341428571428,
          26.343600000000002,
          -9.468457894736847,
          8.336049999999998,
          -53.033025,
          -1.3983999999999996,
          14.211759999999998,
          6.87735,
          9.250999999999998,
          22.339533333333318,
          102.97094999999997,
          61.88539545454546,
          26.895819999999993,
          32.87852857142857,
          56.470499999999994,
          44.35778536585366,
          103.28409999999998,
          -36.09894285714286,
          -10.757006666666681,
          11.064174074074074,
          -13.02800000000001,
          44.996429729729726,
          -2.0088000000000035,
          22.433699999999998,
          36.47185,
          -9.400799999999998,
          52.77049999999999,
          18.12518,
          -8.093250000000003,
          -3.6859000000000077,
          50.345000000000006,
          9.216866666666657,
          26.294399999999996,
          7.9504260869565195,
          13.857900000000008,
          3.0576000000000008,
          7.98,
          -6.556238461538468,
          33.41752857142857,
          4.387449999999998,
          197.83838749999998,
          5.1807,
          57.11910000000002,
          -9.457953846153849,
          -60.998711111111106,
          117.93305000000001,
          30.172880000000013,
          6.5975999999999955,
          25.8587,
          75.20911666666667,
          20.586,
          12.988949999999999,
          -2.3462500000000075,
          86.71202727272725,
          3.6254999999999997,
          127.07484285714283,
          64.67437777777779,
          24.874066666666646,
          57.18769090909091,
          96.31099803921568,
          -9.077340000000001,
          24.631724999999985,
          -9.95708333333333,
          -0.5478000000000005,
          -24.277228571428573,
          0.3863750000000006,
          22.2196,
          9.836472727272726,
          60.391999999999996,
          7.443033333333333,
          4.679325000000002,
          15.52095,
          -26.932489389920438,
          146.6732,
          4.4953,
          487.8315,
          119.20233913043478,
          64.1685,
          4.4955,
          -12.564062500000006,
          92.45954634146342,
          -18.590680000000024,
          642.8857500000001,
          8.661999999999992,
          0.9880166666666689,
          72.8283,
          0.15480000000000005,
          2.0999999999999996,
          9.898800000000001,
          114.2303111111111,
          45.52273846153847,
          23.5672,
          84.59819999999988,
          -48.544812500000006,
          54.41522,
          57.19349999999998,
          19.198579999999996,
          18.0648,
          323.1737935483871,
          10.495374999999994,
          80.4186,
          17.74500000000002,
          54.588566666666644,
          -8.57438636363638,
          89.77347333333333,
          66.00056734693875,
          -157.37105217391306,
          51.60917499999999,
          -4.201069230769231,
          14.646466666666667,
          25.572561538461535,
          23.08664999999999,
          54.13969318181818,
          58.87712499999999,
          2.3312,
          -5.224983333333324,
          27.935233333333333,
          225.83129999999994,
          13.250266666666667,
          8.90505,
          22.789700000000007,
          49.60480000000001,
          26.630399999999998,
          48.11121249999999,
          -98.80179999999999,
          22.2429,
          9.392639999999997,
          34.57263278688524,
          11.608399999999973,
          12.966099999999997,
          -70.32476666666668,
          40.75067991967871,
          -25.093208771929845,
          1.1194500000000003,
          82.03573124999998,
          24.523116666666667,
          24.14225,
          112.36552000000002,
          10.38973333333333,
          54.5914,
          10.958399999999983,
          -33.39565000000002,
          57.41193333333333,
          96.25252499999999,
          2.332799999999999,
          73.16365714285713,
          -19.018115000000016,
          33.803399999999996,
          1.6574999999999993,
          -1.4117333333333295,
          -8.624826315789477,
          4.9252249999999975,
          -149.2271777777778,
          9.56160000000001,
          -49.30133333333333,
          -20.545700000000004,
          42.74738181818182,
          23.80349999999999,
          -19.972550000000005,
          -17.524000000000004,
          -20.181936842105262,
          17.512877777777778,
          191.1402333333333,
          53.175666666666665,
          62.06855777777777,
          296.7210695652174,
          4.03512499999999,
          48.295999999999964,
          30.212899999999998,
          152.49499999999998,
          -9.555000000000001,
          197.80265454545454,
          6.6476666666666615,
          33.17258095238095,
          3.903200000000002,
          83.46571,
          50.70529999999998,
          35.363009999999996,
          1.9614999999999947,
          262.6038714285714,
          46.76040000000002,
          82.814325,
          1.4262818181818175,
          26.305719999999997,
          92.08350000000002,
          110.64915000000002,
          -18.31655000000001,
          6.7562999999999995,
          -28.878993103448277,
          18.338224999999994,
          10.097219999999998,
          3.57835,
          11.541950000000002,
          40.93455555555554,
          67.79998218579235,
          60.9869347368421,
          99.75390833333334,
          19.7461,
          88.32825,
          8.0178,
          -110.02320000000003,
          134.76434999999995,
          4.835099999999996,
          140.48061874999996,
          1.5399,
          41.022400000000005,
          50.680933333333336,
          32.08088076923075,
          25.75599666666666,
          -13.942359999999999,
          68.72872608695651,
          41.48215999999999,
          27.92538,
          65.7723857142857,
          -46.13700000000003,
          11.094966666666666,
          57.18149999999999,
          67.99199999999996,
          34.33866363636363,
          -1.9656000000000002,
          -178.7092,
          33.9203,
          13.821399999999999,
          38.495299999999986,
          23.262400000000003,
          3.5310399999999995,
          -79.4833333333333,
          -20.52366249999999,
          3.106179999999985,
          2.1398071428571384,
          59.587399999999974,
          59.46976666666668,
          37.0245,
          13.137699999999981,
          -5.1749357142857155,
          -1.4760000000000004,
          -5.5594043478260895,
          79.2055,
          -59.388200000000005,
          -25.76865437616388,
          -44.299733333333336,
          62.736999999999995,
          35.102399999999996,
          95.0512076923077,
          -25.53702666666666,
          1.094463636363631,
          82.95070000000001,
          25.90798571428571,
          21.471285714285706,
          5.002166666666667,
          17.62933333333334,
          2.9339999999999997,
          1.4830000000000005,
          6.5120000000000005,
          0.4065541666666726,
          177.60183548387096,
          38.856739999999995,
          -112.62148750000001,
          17.354539999999997,
          21.481545454545444,
          18.43605,
          22.3842,
          -53.752840000000006,
          25.018199999999993,
          28.384724999999996,
          -13.97434545454545,
          22.053612499999993,
          14.142599999999996,
          28.76317499999999,
          61.81080000000001,
          36.97665714285714,
          -12.244650000000064,
          61.85831777777778,
          59.79389999999997,
          26.7664,
          32.8947,
          54.333200000000005,
          3.7919999999999994,
          -104.5007090909091,
          26.64294,
          18.5886,
          25.702300000000005,
          -14.770800000000001,
          48.20719615384615,
          134.85751666666664,
          -169.0616142857143,
          8.4816,
          159.2066076923077,
          12.863349999999999,
          31.14833999999999,
          156.53799999999998,
          19.710820000000002,
          12.4421,
          146.40359999999998,
          10.855878571428567,
          6.767349999999999,
          33.8147625,
          41.157512499999996,
          -14.638300000000001,
          -123.71271525423737,
          7.77577777777777,
          21.27095,
          37.51291764705881,
          34.32820666666666,
          96.9651,
          28.953759523809524,
          1.1945999999999999,
          -4.835325000000001,
          35.334599999999995,
          37.18493571428571,
          -5.913600000000018,
          59.76760714285713,
          57.16072500000001,
          12.666933333333333,
          10.343999999999996,
          30.0144,
          -7.457325,
          68.12172126168224,
          8.585474999999999,
          10.702649999999998,
          5.6093666666666655,
          38.15887777777778,
          -31.533636363636365,
          34.44598333333333,
          46.59186666666667,
          58.984314285714284,
          76.1786666666667,
          24.603728571428558,
          1.4189999999999996,
          38.04108834355828,
          11.022533333333334,
          56.58773333333332,
          38.98122,
          98.45659999999998,
          17.917883333333325,
          57.12024444444444,
          23.10068235294118,
          -87.97402499999997,
          -9.034350000000003,
          14.956066666666665,
          25.471724999999992,
          7.34227692307692,
          81.6873,
          6.740599999999996,
          10.552866666666665,
          11.131299999999994,
          14.083979999999997,
          19.982800000000005,
          -27.035762500000008,
          -8.915199999999999,
          -10.624900000000013,
          136.28775,
          50.161523076923075,
          -18.763855172413795,
          -2.030212500000009,
          57.95903846153846,
          25.505200000000006,
          133.08245000000002,
          -88.74172000000002,
          19.23933333333333,
          23.56995,
          110.05279999999999,
          56.00591666666667,
          15.090919999999997,
          7.781475,
          126.55523124999999,
          22.01195,
          -86.68390000000001,
          26.844199999999994,
          212.75912,
          105.95892999999998,
          30.81231818181818,
          11.8248,
          90.70071999999996,
          14.169999999999998,
          22.60765,
          60.33857999999999,
          14.185399999999998,
          20.534459999999996,
          10.536399999999999,
          25.529299999999996,
          29.96919230769231,
          44.92285882352941,
          -15.342314285714293,
          44.476800000000026,
          46.27522857142857,
          54.10283055555555,
          -2.389333333333336,
          65.36539999999998,
          11.128266666666669,
          15.99857999999998,
          19.669775,
          184.51704666666666,
          -20.433840000000004,
          13.208000000000002,
          -116.49772499999999
         ],
         "yaxis": "y"
        }
       ],
       "layout": {
        "barmode": "relative",
        "height": 450,
        "legend": {
         "title": {
          "text": "Country"
         },
         "tracegroupgap": 0
        },
        "template": {
         "data": {
          "bar": [
           {
            "error_x": {
             "color": "#2a3f5f"
            },
            "error_y": {
             "color": "#2a3f5f"
            },
            "marker": {
             "line": {
              "color": "#E5ECF6",
              "width": 0.5
             },
             "pattern": {
              "fillmode": "overlay",
              "size": 10,
              "solidity": 0.2
             }
            },
            "type": "bar"
           }
          ],
          "barpolar": [
           {
            "marker": {
             "line": {
              "color": "#E5ECF6",
              "width": 0.5
             },
             "pattern": {
              "fillmode": "overlay",
              "size": 10,
              "solidity": 0.2
             }
            },
            "type": "barpolar"
           }
          ],
          "carpet": [
           {
            "aaxis": {
             "endlinecolor": "#2a3f5f",
             "gridcolor": "white",
             "linecolor": "white",
             "minorgridcolor": "white",
             "startlinecolor": "#2a3f5f"
            },
            "baxis": {
             "endlinecolor": "#2a3f5f",
             "gridcolor": "white",
             "linecolor": "white",
             "minorgridcolor": "white",
             "startlinecolor": "#2a3f5f"
            },
            "type": "carpet"
           }
          ],
          "choropleth": [
           {
            "colorbar": {
             "outlinewidth": 0,
             "ticks": ""
            },
            "type": "choropleth"
           }
          ],
          "contour": [
           {
            "colorbar": {
             "outlinewidth": 0,
             "ticks": ""
            },
            "colorscale": [
             [
              0,
              "#0d0887"
             ],
             [
              0.1111111111111111,
              "#46039f"
             ],
             [
              0.2222222222222222,
              "#7201a8"
             ],
             [
              0.3333333333333333,
              "#9c179e"
             ],
             [
              0.4444444444444444,
              "#bd3786"
             ],
             [
              0.5555555555555556,
              "#d8576b"
             ],
             [
              0.6666666666666666,
              "#ed7953"
             ],
             [
              0.7777777777777778,
              "#fb9f3a"
             ],
             [
              0.8888888888888888,
              "#fdca26"
             ],
             [
              1,
              "#f0f921"
             ]
            ],
            "type": "contour"
           }
          ],
          "contourcarpet": [
           {
            "colorbar": {
             "outlinewidth": 0,
             "ticks": ""
            },
            "type": "contourcarpet"
           }
          ],
          "heatmap": [
           {
            "colorbar": {
             "outlinewidth": 0,
             "ticks": ""
            },
            "colorscale": [
             [
              0,
              "#0d0887"
             ],
             [
              0.1111111111111111,
              "#46039f"
             ],
             [
              0.2222222222222222,
              "#7201a8"
             ],
             [
              0.3333333333333333,
              "#9c179e"
             ],
             [
              0.4444444444444444,
              "#bd3786"
             ],
             [
              0.5555555555555556,
              "#d8576b"
             ],
             [
              0.6666666666666666,
              "#ed7953"
             ],
             [
              0.7777777777777778,
              "#fb9f3a"
             ],
             [
              0.8888888888888888,
              "#fdca26"
             ],
             [
              1,
              "#f0f921"
             ]
            ],
            "type": "heatmap"
           }
          ],
          "heatmapgl": [
           {
            "colorbar": {
             "outlinewidth": 0,
             "ticks": ""
            },
            "colorscale": [
             [
              0,
              "#0d0887"
             ],
             [
              0.1111111111111111,
              "#46039f"
             ],
             [
              0.2222222222222222,
              "#7201a8"
             ],
             [
              0.3333333333333333,
              "#9c179e"
             ],
             [
              0.4444444444444444,
              "#bd3786"
             ],
             [
              0.5555555555555556,
              "#d8576b"
             ],
             [
              0.6666666666666666,
              "#ed7953"
             ],
             [
              0.7777777777777778,
              "#fb9f3a"
             ],
             [
              0.8888888888888888,
              "#fdca26"
             ],
             [
              1,
              "#f0f921"
             ]
            ],
            "type": "heatmapgl"
           }
          ],
          "histogram": [
           {
            "marker": {
             "pattern": {
              "fillmode": "overlay",
              "size": 10,
              "solidity": 0.2
             }
            },
            "type": "histogram"
           }
          ],
          "histogram2d": [
           {
            "colorbar": {
             "outlinewidth": 0,
             "ticks": ""
            },
            "colorscale": [
             [
              0,
              "#0d0887"
             ],
             [
              0.1111111111111111,
              "#46039f"
             ],
             [
              0.2222222222222222,
              "#7201a8"
             ],
             [
              0.3333333333333333,
              "#9c179e"
             ],
             [
              0.4444444444444444,
              "#bd3786"
             ],
             [
              0.5555555555555556,
              "#d8576b"
             ],
             [
              0.6666666666666666,
              "#ed7953"
             ],
             [
              0.7777777777777778,
              "#fb9f3a"
             ],
             [
              0.8888888888888888,
              "#fdca26"
             ],
             [
              1,
              "#f0f921"
             ]
            ],
            "type": "histogram2d"
           }
          ],
          "histogram2dcontour": [
           {
            "colorbar": {
             "outlinewidth": 0,
             "ticks": ""
            },
            "colorscale": [
             [
              0,
              "#0d0887"
             ],
             [
              0.1111111111111111,
              "#46039f"
             ],
             [
              0.2222222222222222,
              "#7201a8"
             ],
             [
              0.3333333333333333,
              "#9c179e"
             ],
             [
              0.4444444444444444,
              "#bd3786"
             ],
             [
              0.5555555555555556,
              "#d8576b"
             ],
             [
              0.6666666666666666,
              "#ed7953"
             ],
             [
              0.7777777777777778,
              "#fb9f3a"
             ],
             [
              0.8888888888888888,
              "#fdca26"
             ],
             [
              1,
              "#f0f921"
             ]
            ],
            "type": "histogram2dcontour"
           }
          ],
          "mesh3d": [
           {
            "colorbar": {
             "outlinewidth": 0,
             "ticks": ""
            },
            "type": "mesh3d"
           }
          ],
          "parcoords": [
           {
            "line": {
             "colorbar": {
              "outlinewidth": 0,
              "ticks": ""
             }
            },
            "type": "parcoords"
           }
          ],
          "pie": [
           {
            "automargin": true,
            "type": "pie"
           }
          ],
          "scatter": [
           {
            "fillpattern": {
             "fillmode": "overlay",
             "size": 10,
             "solidity": 0.2
            },
            "type": "scatter"
           }
          ],
          "scatter3d": [
           {
            "line": {
             "colorbar": {
              "outlinewidth": 0,
              "ticks": ""
             }
            },
            "marker": {
             "colorbar": {
              "outlinewidth": 0,
              "ticks": ""
             }
            },
            "type": "scatter3d"
           }
          ],
          "scattercarpet": [
           {
            "marker": {
             "colorbar": {
              "outlinewidth": 0,
              "ticks": ""
             }
            },
            "type": "scattercarpet"
           }
          ],
          "scattergeo": [
           {
            "marker": {
             "colorbar": {
              "outlinewidth": 0,
              "ticks": ""
             }
            },
            "type": "scattergeo"
           }
          ],
          "scattergl": [
           {
            "marker": {
             "colorbar": {
              "outlinewidth": 0,
              "ticks": ""
             }
            },
            "type": "scattergl"
           }
          ],
          "scattermapbox": [
           {
            "marker": {
             "colorbar": {
              "outlinewidth": 0,
              "ticks": ""
             }
            },
            "type": "scattermapbox"
           }
          ],
          "scatterpolar": [
           {
            "marker": {
             "colorbar": {
              "outlinewidth": 0,
              "ticks": ""
             }
            },
            "type": "scatterpolar"
           }
          ],
          "scatterpolargl": [
           {
            "marker": {
             "colorbar": {
              "outlinewidth": 0,
              "ticks": ""
             }
            },
            "type": "scatterpolargl"
           }
          ],
          "scatterternary": [
           {
            "marker": {
             "colorbar": {
              "outlinewidth": 0,
              "ticks": ""
             }
            },
            "type": "scatterternary"
           }
          ],
          "surface": [
           {
            "colorbar": {
             "outlinewidth": 0,
             "ticks": ""
            },
            "colorscale": [
             [
              0,
              "#0d0887"
             ],
             [
              0.1111111111111111,
              "#46039f"
             ],
             [
              0.2222222222222222,
              "#7201a8"
             ],
             [
              0.3333333333333333,
              "#9c179e"
             ],
             [
              0.4444444444444444,
              "#bd3786"
             ],
             [
              0.5555555555555556,
              "#d8576b"
             ],
             [
              0.6666666666666666,
              "#ed7953"
             ],
             [
              0.7777777777777778,
              "#fb9f3a"
             ],
             [
              0.8888888888888888,
              "#fdca26"
             ],
             [
              1,
              "#f0f921"
             ]
            ],
            "type": "surface"
           }
          ],
          "table": [
           {
            "cells": {
             "fill": {
              "color": "#EBF0F8"
             },
             "line": {
              "color": "white"
             }
            },
            "header": {
             "fill": {
              "color": "#C8D4E3"
             },
             "line": {
              "color": "white"
             }
            },
            "type": "table"
           }
          ]
         },
         "layout": {
          "annotationdefaults": {
           "arrowcolor": "#2a3f5f",
           "arrowhead": 0,
           "arrowwidth": 1
          },
          "autotypenumbers": "strict",
          "coloraxis": {
           "colorbar": {
            "outlinewidth": 0,
            "ticks": ""
           }
          },
          "colorscale": {
           "diverging": [
            [
             0,
             "#8e0152"
            ],
            [
             0.1,
             "#c51b7d"
            ],
            [
             0.2,
             "#de77ae"
            ],
            [
             0.3,
             "#f1b6da"
            ],
            [
             0.4,
             "#fde0ef"
            ],
            [
             0.5,
             "#f7f7f7"
            ],
            [
             0.6,
             "#e6f5d0"
            ],
            [
             0.7,
             "#b8e186"
            ],
            [
             0.8,
             "#7fbc41"
            ],
            [
             0.9,
             "#4d9221"
            ],
            [
             1,
             "#276419"
            ]
           ],
           "sequential": [
            [
             0,
             "#0d0887"
            ],
            [
             0.1111111111111111,
             "#46039f"
            ],
            [
             0.2222222222222222,
             "#7201a8"
            ],
            [
             0.3333333333333333,
             "#9c179e"
            ],
            [
             0.4444444444444444,
             "#bd3786"
            ],
            [
             0.5555555555555556,
             "#d8576b"
            ],
            [
             0.6666666666666666,
             "#ed7953"
            ],
            [
             0.7777777777777778,
             "#fb9f3a"
            ],
            [
             0.8888888888888888,
             "#fdca26"
            ],
            [
             1,
             "#f0f921"
            ]
           ],
           "sequentialminus": [
            [
             0,
             "#0d0887"
            ],
            [
             0.1111111111111111,
             "#46039f"
            ],
            [
             0.2222222222222222,
             "#7201a8"
            ],
            [
             0.3333333333333333,
             "#9c179e"
            ],
            [
             0.4444444444444444,
             "#bd3786"
            ],
            [
             0.5555555555555556,
             "#d8576b"
            ],
            [
             0.6666666666666666,
             "#ed7953"
            ],
            [
             0.7777777777777778,
             "#fb9f3a"
            ],
            [
             0.8888888888888888,
             "#fdca26"
            ],
            [
             1,
             "#f0f921"
            ]
           ]
          },
          "colorway": [
           "#636efa",
           "#EF553B",
           "#00cc96",
           "#ab63fa",
           "#FFA15A",
           "#19d3f3",
           "#FF6692",
           "#B6E880",
           "#FF97FF",
           "#FECB52"
          ],
          "font": {
           "color": "#2a3f5f"
          },
          "geo": {
           "bgcolor": "white",
           "lakecolor": "white",
           "landcolor": "#E5ECF6",
           "showlakes": true,
           "showland": true,
           "subunitcolor": "white"
          },
          "hoverlabel": {
           "align": "left"
          },
          "hovermode": "closest",
          "mapbox": {
           "style": "light"
          },
          "paper_bgcolor": "white",
          "plot_bgcolor": "#E5ECF6",
          "polar": {
           "angularaxis": {
            "gridcolor": "white",
            "linecolor": "white",
            "ticks": ""
           },
           "bgcolor": "#E5ECF6",
           "radialaxis": {
            "gridcolor": "white",
            "linecolor": "white",
            "ticks": ""
           }
          },
          "scene": {
           "xaxis": {
            "backgroundcolor": "#E5ECF6",
            "gridcolor": "white",
            "gridwidth": 2,
            "linecolor": "white",
            "showbackground": true,
            "ticks": "",
            "zerolinecolor": "white"
           },
           "yaxis": {
            "backgroundcolor": "#E5ECF6",
            "gridcolor": "white",
            "gridwidth": 2,
            "linecolor": "white",
            "showbackground": true,
            "ticks": "",
            "zerolinecolor": "white"
           },
           "zaxis": {
            "backgroundcolor": "#E5ECF6",
            "gridcolor": "white",
            "gridwidth": 2,
            "linecolor": "white",
            "showbackground": true,
            "ticks": "",
            "zerolinecolor": "white"
           }
          },
          "shapedefaults": {
           "line": {
            "color": "#2a3f5f"
           }
          },
          "ternary": {
           "aaxis": {
            "gridcolor": "white",
            "linecolor": "white",
            "ticks": ""
           },
           "baxis": {
            "gridcolor": "white",
            "linecolor": "white",
            "ticks": ""
           },
           "bgcolor": "#E5ECF6",
           "caxis": {
            "gridcolor": "white",
            "linecolor": "white",
            "ticks": ""
           }
          },
          "title": {
           "x": 0.05
          },
          "xaxis": {
           "automargin": true,
           "gridcolor": "white",
           "linecolor": "white",
           "ticks": "",
           "title": {
            "standoff": 15
           },
           "zerolinecolor": "white",
           "zerolinewidth": 2
          },
          "yaxis": {
           "automargin": true,
           "gridcolor": "white",
           "linecolor": "white",
           "ticks": "",
           "title": {
            "standoff": 15
           },
           "zerolinecolor": "white",
           "zerolinewidth": 2
          }
         }
        },
        "title": {
         "text": "Average Profit by City and Country"
        },
        "width": 800,
        "xaxis": {
         "anchor": "y",
         "domain": [
          0,
          1
         ],
         "tickangle": -90,
         "title": {
          "text": "City"
         }
        },
        "yaxis": {
         "anchor": "x",
         "domain": [
          0,
          1
         ],
         "title": {
          "text": "Average Profit"
         }
        }
       }
      }
     },
     "metadata": {},
     "output_type": "display_data"
    }
   ],
   "source": [
    "fig = px.bar(cntry_cty_wise_profit, x='City', y='Average Profit', color='Country', \n",
    "             title='Average Profit by City and Country', labels={'City': 'City', 'Average Profit': 'Average Profit'},\n",
    "             hover_data=['Country'])\n",
    "\n",
    "fig.update_layout(xaxis_tickangle=-90, xaxis_title='City', yaxis_title='Average Profit', \n",
    "                  width=800, height=450)\n",
    "\n",
    "# Show the plot\n",
    "fig.show()"
   ]
  },
  {
   "cell_type": "code",
   "execution_count": 45,
   "metadata": {},
   "outputs": [
    {
     "data": {
      "image/png": "[encoded data removed]",
      "text/plain": [
       "<Figure size 800x500 with 1 Axes>"
      ]
     },
     "metadata": {},
     "output_type": "display_data"
    },
    {
     "name": "stdout",
     "output_type": "stream",
     "text": [
      "Average Profit by Region\n",
      "     Region     Profit\n",
      "0  Central  17.092709\n",
      "1     East  32.135808\n",
      "2    South  28.857673\n",
      "3     West  33.849032\n"
     ]
    }
   ],
   "source": [
    "### 21 Calculate region wise average profit.\n",
    "regn_wise_prft =  superstore_df.groupby('Region')['Profit'].mean().reset_index()\n",
    "regn_wise_prft.columns = [\"Region\", \"Profit\"]\n",
    "regn_wise_prft\n",
    "\n",
    "plt.figure(figsize=(8, 5))\n",
    "plt.bar(regn_wise_prft['Region'], regn_wise_prft['Profit'], color='skyblue')\n",
    "plt.title('Average Profit by Region')\n",
    "plt.xlabel('Region')\n",
    "plt.ylabel('Average Profit')\n",
    "plt.xticks(rotation=50)\n",
    "plt.grid(True)\n",
    "plt.show()\n",
    "print(\"Average Profit by Region\\n\",regn_wise_prft)\n",
    "\n"
   ]
  },
  {
   "cell_type": "code",
   "execution_count": 46,
   "metadata": {},
   "outputs": [],
   "source": [
    "### 22 Find the ship mode which is more profitable."
   ]
  },
  {
   "cell_type": "code",
   "execution_count": 47,
   "metadata": {},
   "outputs": [
    {
     "data": {
      "image/png": "[encoded data removed]",
      "text/plain": [
       "<Figure size 1000x700 with 1 Axes>"
      ]
     },
     "metadata": {},
     "output_type": "display_data"
    },
    {
     "name": "stdout",
     "output_type": "stream",
     "text": [
      "Ship Mode with the highest average profit:\n",
      "Ship Mode         First Class\n",
      "Average Profit      31.839948\n",
      "Name: 0, dtype: object\n"
     ]
    }
   ],
   "source": [
    "\n",
    "# average profit per ship mode\n",
    "avg_prft_shp_mod = superstore_df.groupby('Ship Mode')['Profit'].mean().reset_index()\n",
    "# columns for clarity\n",
    "avg_prft_shp_mod.columns = ['Ship Mode', 'Average Profit']\n",
    "\n",
    "# bar graph\n",
    "plt.figure(figsize=(10, 7))\n",
    "plt.bar(avg_prft_shp_mod['Ship Mode'], avg_prft_shp_mod['Average Profit'], color='skyblue')\n",
    "plt.title('Average Profit by Ship Mode')\n",
    "plt.xlabel('Ship Mode')\n",
    "plt.ylabel('Average Profit')\n",
    "plt.xticks(rotation=45)\n",
    "plt.grid(True)\n",
    "plt.show()\n",
    "\n",
    "print(\"Ship Mode with the highest average profit:\")\n",
    "print(avg_prft_shp_mod.loc[avg_prft_shp_mod['Average Profit'].idxmax()])"
   ]
  },
  {
   "cell_type": "code",
   "execution_count": 48,
   "metadata": {},
   "outputs": [],
   "source": [
    "# 24. Find category wise sub category wise sales"
   ]
  },
  {
   "cell_type": "code",
   "execution_count": 49,
   "metadata": {},
   "outputs": [
    {
     "data": {
      "text/html": [
       "<div>\n",
       "<style scoped>\n",
       "    .dataframe tbody tr th:only-of-type {\n",
       "        vertical-align: middle;\n",
       "    }\n",
       "\n",
       "    .dataframe tbody tr th {\n",
       "        vertical-align: top;\n",
       "    }\n",
       "\n",
       "    .dataframe thead th {\n",
       "        text-align: right;\n",
       "    }\n",
       "</style>\n",
       "<table border=\"1\" class=\"dataframe\">\n",
       "  <thead>\n",
       "    <tr style=\"text-align: right;\">\n",
       "      <th></th>\n",
       "      <th>Category</th>\n",
       "      <th>Sub-Category</th>\n",
       "      <th>Total Sales</th>\n",
       "    </tr>\n",
       "  </thead>\n",
       "  <tbody>\n",
       "    <tr>\n",
       "      <th>0</th>\n",
       "      <td>Furniture</td>\n",
       "      <td>Bookcases</td>\n",
       "      <td>114879.9963</td>\n",
       "    </tr>\n",
       "    <tr>\n",
       "      <th>1</th>\n",
       "      <td>Furniture</td>\n",
       "      <td>Chairs</td>\n",
       "      <td>328449.1030</td>\n",
       "    </tr>\n",
       "    <tr>\n",
       "      <th>2</th>\n",
       "      <td>Furniture</td>\n",
       "      <td>Furnishings</td>\n",
       "      <td>91705.1640</td>\n",
       "    </tr>\n",
       "    <tr>\n",
       "      <th>3</th>\n",
       "      <td>Furniture</td>\n",
       "      <td>Tables</td>\n",
       "      <td>206965.5320</td>\n",
       "    </tr>\n",
       "    <tr>\n",
       "      <th>4</th>\n",
       "      <td>Office Supplies</td>\n",
       "      <td>Appliances</td>\n",
       "      <td>107532.1610</td>\n",
       "    </tr>\n",
       "    <tr>\n",
       "      <th>5</th>\n",
       "      <td>Office Supplies</td>\n",
       "      <td>Art</td>\n",
       "      <td>27118.7920</td>\n",
       "    </tr>\n",
       "    <tr>\n",
       "      <th>6</th>\n",
       "      <td>Office Supplies</td>\n",
       "      <td>Binders</td>\n",
       "      <td>203412.7330</td>\n",
       "    </tr>\n",
       "    <tr>\n",
       "      <th>7</th>\n",
       "      <td>Office Supplies</td>\n",
       "      <td>Envelopes</td>\n",
       "      <td>16476.4020</td>\n",
       "    </tr>\n",
       "    <tr>\n",
       "      <th>8</th>\n",
       "      <td>Office Supplies</td>\n",
       "      <td>Fasteners</td>\n",
       "      <td>3024.2800</td>\n",
       "    </tr>\n",
       "    <tr>\n",
       "      <th>9</th>\n",
       "      <td>Office Supplies</td>\n",
       "      <td>Labels</td>\n",
       "      <td>12486.3120</td>\n",
       "    </tr>\n",
       "    <tr>\n",
       "      <th>10</th>\n",
       "      <td>Office Supplies</td>\n",
       "      <td>Paper</td>\n",
       "      <td>78479.2060</td>\n",
       "    </tr>\n",
       "    <tr>\n",
       "      <th>11</th>\n",
       "      <td>Office Supplies</td>\n",
       "      <td>Storage</td>\n",
       "      <td>223843.6080</td>\n",
       "    </tr>\n",
       "    <tr>\n",
       "      <th>12</th>\n",
       "      <td>Office Supplies</td>\n",
       "      <td>Supplies</td>\n",
       "      <td>46673.5380</td>\n",
       "    </tr>\n",
       "    <tr>\n",
       "      <th>13</th>\n",
       "      <td>Technology</td>\n",
       "      <td>Accessories</td>\n",
       "      <td>167380.3180</td>\n",
       "    </tr>\n",
       "    <tr>\n",
       "      <th>14</th>\n",
       "      <td>Technology</td>\n",
       "      <td>Copiers</td>\n",
       "      <td>149528.0300</td>\n",
       "    </tr>\n",
       "    <tr>\n",
       "      <th>15</th>\n",
       "      <td>Technology</td>\n",
       "      <td>Machines</td>\n",
       "      <td>189238.6310</td>\n",
       "    </tr>\n",
       "    <tr>\n",
       "      <th>16</th>\n",
       "      <td>Technology</td>\n",
       "      <td>Phones</td>\n",
       "      <td>330007.0540</td>\n",
       "    </tr>\n",
       "  </tbody>\n",
       "</table>\n",
       "</div>"
      ],
      "text/plain": [
       "           Category Sub-Category   Total Sales \n",
       "0         Furniture    Bookcases    114879.9963\n",
       "1         Furniture       Chairs    328449.1030\n",
       "2         Furniture  Furnishings     91705.1640\n",
       "3         Furniture       Tables    206965.5320\n",
       "4   Office Supplies   Appliances    107532.1610\n",
       "5   Office Supplies          Art     27118.7920\n",
       "6   Office Supplies      Binders    203412.7330\n",
       "7   Office Supplies    Envelopes     16476.4020\n",
       "8   Office Supplies    Fasteners      3024.2800\n",
       "9   Office Supplies       Labels     12486.3120\n",
       "10  Office Supplies        Paper     78479.2060\n",
       "11  Office Supplies      Storage    223843.6080\n",
       "12  Office Supplies     Supplies     46673.5380\n",
       "13       Technology  Accessories    167380.3180\n",
       "14       Technology      Copiers    149528.0300\n",
       "15       Technology     Machines    189238.6310\n",
       "16       Technology       Phones    330007.0540"
      ]
     },
     "execution_count": 49,
     "metadata": {},
     "output_type": "execute_result"
    }
   ],
   "source": [
    "cat_and_subcat = superstore_df.groupby(['Category', 'Sub-Category'])['Sales'].sum().reset_index()\n",
    "cat_and_subcat.columns = [\"Category\", \"Sub-Category\", \" Total Sales \"]\n",
    "cat_and_subcat\n"
   ]
  },
  {
   "cell_type": "code",
   "execution_count": 50,
   "metadata": {},
   "outputs": [],
   "source": [
    "### Q 25. Create a data frame for record where discount is 0"
   ]
  },
  {
   "cell_type": "code",
   "execution_count": 51,
   "metadata": {},
   "outputs": [
    {
     "data": {
      "text/html": [
       "<div>\n",
       "<style scoped>\n",
       "    .dataframe tbody tr th:only-of-type {\n",
       "        vertical-align: middle;\n",
       "    }\n",
       "\n",
       "    .dataframe tbody tr th {\n",
       "        vertical-align: top;\n",
       "    }\n",
       "\n",
       "    .dataframe thead th {\n",
       "        text-align: right;\n",
       "    }\n",
       "</style>\n",
       "<table border=\"1\" class=\"dataframe\">\n",
       "  <thead>\n",
       "    <tr style=\"text-align: right;\">\n",
       "      <th></th>\n",
       "      <th>no</th>\n",
       "      <th>order _id</th>\n",
       "      <th>Order Date</th>\n",
       "      <th>Ship Date</th>\n",
       "      <th>Ship Mode</th>\n",
       "      <th>Customer ID</th>\n",
       "      <th>Customer Name</th>\n",
       "      <th>Segment</th>\n",
       "      <th>Country</th>\n",
       "      <th>City</th>\n",
       "      <th>...</th>\n",
       "      <th>Region</th>\n",
       "      <th>Product ID</th>\n",
       "      <th>Category</th>\n",
       "      <th>Sub-Category</th>\n",
       "      <th>Product Name</th>\n",
       "      <th>Sales</th>\n",
       "      <th>Quantity</th>\n",
       "      <th>Discount</th>\n",
       "      <th>Profit</th>\n",
       "      <th>Month</th>\n",
       "    </tr>\n",
       "  </thead>\n",
       "  <tbody>\n",
       "    <tr>\n",
       "      <th>1900</th>\n",
       "      <td>NaN</td>\n",
       "      <td>NaN</td>\n",
       "      <td>2016-11-08</td>\n",
       "      <td>2016-11-11</td>\n",
       "      <td>Second Class</td>\n",
       "      <td>CG-12520</td>\n",
       "      <td>Claire Gute</td>\n",
       "      <td>Consumer</td>\n",
       "      <td>United States</td>\n",
       "      <td>Henderson</td>\n",
       "      <td>...</td>\n",
       "      <td>South</td>\n",
       "      <td>FUR-BO-10001798</td>\n",
       "      <td>Furniture</td>\n",
       "      <td>Bookcases</td>\n",
       "      <td>Bush Somerset Collection Bookcase</td>\n",
       "      <td>261.96</td>\n",
       "      <td>2</td>\n",
       "      <td>0.0</td>\n",
       "      <td>41.9136</td>\n",
       "      <td>Nov</td>\n",
       "    </tr>\n",
       "    <tr>\n",
       "      <th>...</th>\n",
       "      <td>...</td>\n",
       "      <td>...</td>\n",
       "      <td>...</td>\n",
       "      <td>...</td>\n",
       "      <td>...</td>\n",
       "      <td>...</td>\n",
       "      <td>...</td>\n",
       "      <td>...</td>\n",
       "      <td>...</td>\n",
       "      <td>...</td>\n",
       "      <td>...</td>\n",
       "      <td>...</td>\n",
       "      <td>...</td>\n",
       "      <td>...</td>\n",
       "      <td>...</td>\n",
       "      <td>...</td>\n",
       "      <td>...</td>\n",
       "      <td>...</td>\n",
       "      <td>...</td>\n",
       "      <td>...</td>\n",
       "      <td>...</td>\n",
       "    </tr>\n",
       "    <tr>\n",
       "      <th>11893</th>\n",
       "      <td>9994.0</td>\n",
       "      <td>CA-2017-119914</td>\n",
       "      <td>2017-05-04</td>\n",
       "      <td>2017-05-09</td>\n",
       "      <td>Second Class</td>\n",
       "      <td>CC-12220</td>\n",
       "      <td>Chris Cortes</td>\n",
       "      <td>Consumer</td>\n",
       "      <td>United States</td>\n",
       "      <td>Westminster</td>\n",
       "      <td>...</td>\n",
       "      <td>West</td>\n",
       "      <td>OFF-AP-10002684</td>\n",
       "      <td>Office Supplies</td>\n",
       "      <td>Appliances</td>\n",
       "      <td>Acco 7-Outlet Masterpiece Power Center, Wihtou...</td>\n",
       "      <td>243.16</td>\n",
       "      <td>2</td>\n",
       "      <td>0.0</td>\n",
       "      <td>72.9480</td>\n",
       "      <td>May</td>\n",
       "    </tr>\n",
       "  </tbody>\n",
       "</table>\n",
       "<p>4798 rows × 22 columns</p>\n",
       "</div>"
      ],
      "text/plain": [
       "           no       order _id Order Date  Ship Date     Ship Mode Customer ID  \\\n",
       "1900      NaN             NaN 2016-11-08 2016-11-11  Second Class    CG-12520   \n",
       "...       ...             ...        ...        ...           ...         ...   \n",
       "11893  9994.0  CA-2017-119914 2017-05-04 2017-05-09  Second Class    CC-12220   \n",
       "\n",
       "      Customer Name   Segment        Country         City  ... Region  \\\n",
       "1900    Claire Gute  Consumer  United States    Henderson  ...  South   \n",
       "...             ...       ...            ...          ...  ...    ...   \n",
       "11893  Chris Cortes  Consumer  United States  Westminster  ...   West   \n",
       "\n",
       "            Product ID         Category Sub-Category  \\\n",
       "1900   FUR-BO-10001798        Furniture    Bookcases   \n",
       "...                ...              ...          ...   \n",
       "11893  OFF-AP-10002684  Office Supplies   Appliances   \n",
       "\n",
       "                                            Product Name   Sales Quantity  \\\n",
       "1900                   Bush Somerset Collection Bookcase  261.96        2   \n",
       "...                                                  ...     ...      ...   \n",
       "11893  Acco 7-Outlet Masterpiece Power Center, Wihtou...  243.16        2   \n",
       "\n",
       "       Discount   Profit  Month  \n",
       "1900        0.0  41.9136    Nov  \n",
       "...         ...      ...    ...  \n",
       "11893       0.0  72.9480    May  \n",
       "\n",
       "[4798 rows x 22 columns]"
      ]
     },
     "execution_count": 51,
     "metadata": {},
     "output_type": "execute_result"
    }
   ],
   "source": [
    "zero_discount_df = superstore_df[superstore_df['Discount']==0]\n",
    "zero_discount_df"
   ]
  },
  {
   "cell_type": "code",
   "execution_count": 52,
   "metadata": {},
   "outputs": [
    {
     "data": {
      "text/plain": [
       "Index(['no', 'order _id', 'Order Date', 'Ship Date', 'Ship Mode',\n",
       "       'Customer ID', 'Customer Name', 'Segment', 'Country', 'City', 'State',\n",
       "       'Postal Code', 'Region', 'Product ID', 'Category', 'Sub-Category',\n",
       "       'Product Name', 'Sales', 'Quantity', 'Discount', 'Profit'],\n",
       "      dtype='object')"
      ]
     },
     "execution_count": 52,
     "metadata": {},
     "output_type": "execute_result"
    }
   ],
   "source": [
    "columns"
   ]
  },
  {
   "cell_type": "code",
   "execution_count": 53,
   "metadata": {},
   "outputs": [],
   "source": [
    "#Q26 Create a data frame where order date and ship date both are in \n",
    "# JAN-2014 \n"
   ]
  },
  {
   "cell_type": "code",
   "execution_count": 54,
   "metadata": {},
   "outputs": [
    {
     "data": {
      "text/plain": [
       "'Data frame from Jan 2014 '"
      ]
     },
     "metadata": {},
     "output_type": "display_data"
    },
    {
     "data": {
      "text/html": [
       "<div>\n",
       "<style scoped>\n",
       "    .dataframe tbody tr th:only-of-type {\n",
       "        vertical-align: middle;\n",
       "    }\n",
       "\n",
       "    .dataframe tbody tr th {\n",
       "        vertical-align: top;\n",
       "    }\n",
       "\n",
       "    .dataframe thead th {\n",
       "        text-align: right;\n",
       "    }\n",
       "</style>\n",
       "<table border=\"1\" class=\"dataframe\">\n",
       "  <thead>\n",
       "    <tr style=\"text-align: right;\">\n",
       "      <th></th>\n",
       "      <th>no</th>\n",
       "      <th>order _id</th>\n",
       "      <th>Order Date</th>\n",
       "      <th>Ship Date</th>\n",
       "      <th>Ship Mode</th>\n",
       "      <th>Customer ID</th>\n",
       "      <th>Customer Name</th>\n",
       "      <th>Segment</th>\n",
       "      <th>Country</th>\n",
       "      <th>City</th>\n",
       "      <th>...</th>\n",
       "      <th>Region</th>\n",
       "      <th>Product ID</th>\n",
       "      <th>Category</th>\n",
       "      <th>Sub-Category</th>\n",
       "      <th>Product Name</th>\n",
       "      <th>Sales</th>\n",
       "      <th>Quantity</th>\n",
       "      <th>Discount</th>\n",
       "      <th>Profit</th>\n",
       "      <th>Month</th>\n",
       "    </tr>\n",
       "  </thead>\n",
       "  <tbody>\n",
       "    <tr>\n",
       "      <th>2492</th>\n",
       "      <td>593.0</td>\n",
       "      <td>CA-2014-135405</td>\n",
       "      <td>2014-01-09</td>\n",
       "      <td>2014-01-13</td>\n",
       "      <td>Standard Class</td>\n",
       "      <td>MS-17830</td>\n",
       "      <td>Melanie Seite</td>\n",
       "      <td>Consumer</td>\n",
       "      <td>United States</td>\n",
       "      <td>Laredo</td>\n",
       "      <td>...</td>\n",
       "      <td>Central</td>\n",
       "      <td>OFF-AR-10004078</td>\n",
       "      <td>Office Supplies</td>\n",
       "      <td>Art</td>\n",
       "      <td>Newell 312</td>\n",
       "      <td>9.344</td>\n",
       "      <td>2</td>\n",
       "      <td>0.2</td>\n",
       "      <td>1.1680</td>\n",
       "      <td>Jan</td>\n",
       "    </tr>\n",
       "    <tr>\n",
       "      <th>...</th>\n",
       "      <td>...</td>\n",
       "      <td>...</td>\n",
       "      <td>...</td>\n",
       "      <td>...</td>\n",
       "      <td>...</td>\n",
       "      <td>...</td>\n",
       "      <td>...</td>\n",
       "      <td>...</td>\n",
       "      <td>...</td>\n",
       "      <td>...</td>\n",
       "      <td>...</td>\n",
       "      <td>...</td>\n",
       "      <td>...</td>\n",
       "      <td>...</td>\n",
       "      <td>...</td>\n",
       "      <td>...</td>\n",
       "      <td>...</td>\n",
       "      <td>...</td>\n",
       "      <td>...</td>\n",
       "      <td>...</td>\n",
       "      <td>...</td>\n",
       "    </tr>\n",
       "    <tr>\n",
       "      <th>11889</th>\n",
       "      <td>9990.0</td>\n",
       "      <td>CA-2014-110422</td>\n",
       "      <td>2014-01-21</td>\n",
       "      <td>2014-01-23</td>\n",
       "      <td>Second Class</td>\n",
       "      <td>TB-21400</td>\n",
       "      <td>Tom Boeckenhauer</td>\n",
       "      <td>Consumer</td>\n",
       "      <td>United States</td>\n",
       "      <td>Miami</td>\n",
       "      <td>...</td>\n",
       "      <td>South</td>\n",
       "      <td>FUR-FU-10001889</td>\n",
       "      <td>Furniture</td>\n",
       "      <td>Furnishings</td>\n",
       "      <td>Ultra Door Pull Handle</td>\n",
       "      <td>25.248</td>\n",
       "      <td>3</td>\n",
       "      <td>0.2</td>\n",
       "      <td>4.1028</td>\n",
       "      <td>Jan</td>\n",
       "    </tr>\n",
       "  </tbody>\n",
       "</table>\n",
       "<p>72 rows × 22 columns</p>\n",
       "</div>"
      ],
      "text/plain": [
       "           no       order _id Order Date  Ship Date       Ship Mode  \\\n",
       "2492    593.0  CA-2014-135405 2014-01-09 2014-01-13  Standard Class   \n",
       "...       ...             ...        ...        ...             ...   \n",
       "11889  9990.0  CA-2014-110422 2014-01-21 2014-01-23    Second Class   \n",
       "\n",
       "      Customer ID     Customer Name   Segment        Country    City  ...  \\\n",
       "2492     MS-17830     Melanie Seite  Consumer  United States  Laredo  ...   \n",
       "...           ...               ...       ...            ...     ...  ...   \n",
       "11889    TB-21400  Tom Boeckenhauer  Consumer  United States   Miami  ...   \n",
       "\n",
       "        Region       Product ID         Category Sub-Category  \\\n",
       "2492   Central  OFF-AR-10004078  Office Supplies          Art   \n",
       "...        ...              ...              ...          ...   \n",
       "11889    South  FUR-FU-10001889        Furniture  Furnishings   \n",
       "\n",
       "                 Product Name   Sales Quantity  Discount  Profit  Month  \n",
       "2492               Newell 312   9.344        2       0.2  1.1680    Jan  \n",
       "...                       ...     ...      ...       ...     ...    ...  \n",
       "11889  Ultra Door Pull Handle  25.248        3       0.2  4.1028    Jan  \n",
       "\n",
       "[72 rows x 22 columns]"
      ]
     },
     "metadata": {},
     "output_type": "display_data"
    }
   ],
   "source": [
    "# convert Order Date and Ship Date into Data time format\n",
    "superstore_df['Order Date'] = pd.to_datetime(superstore_df['Order Date'])\n",
    "superstore_df['Ship Date'] =  pd.to_datetime(superstore_df['Ship Date'])\n",
    "jan_2014_df = superstore_df[\n",
    "    (superstore_df['Order Date'].dt.month == 1) & (superstore_df['Order Date'].dt.year == 2014) &\n",
    "    (superstore_df['Ship Date'].dt.month == 1) & (superstore_df['Ship Date'].dt.year == 2014)]\n",
    "\n",
    "display(\"Data frame from Jan 2014 \", jan_2014_df)\n"
   ]
  },
  {
   "cell_type": "code",
   "execution_count": 55,
   "metadata": {},
   "outputs": [],
   "source": [
    "### 27 Find records having profit for consumer segment. "
   ]
  },
  {
   "cell_type": "code",
   "execution_count": 56,
   "metadata": {},
   "outputs": [
    {
     "data": {
      "text/html": [
       "<div>\n",
       "<style scoped>\n",
       "    .dataframe tbody tr th:only-of-type {\n",
       "        vertical-align: middle;\n",
       "    }\n",
       "\n",
       "    .dataframe tbody tr th {\n",
       "        vertical-align: top;\n",
       "    }\n",
       "\n",
       "    .dataframe thead th {\n",
       "        text-align: right;\n",
       "    }\n",
       "</style>\n",
       "<table border=\"1\" class=\"dataframe\">\n",
       "  <thead>\n",
       "    <tr style=\"text-align: right;\">\n",
       "      <th></th>\n",
       "      <th>no</th>\n",
       "      <th>order _id</th>\n",
       "      <th>Order Date</th>\n",
       "      <th>Ship Date</th>\n",
       "      <th>Ship Mode</th>\n",
       "      <th>Customer ID</th>\n",
       "      <th>Customer Name</th>\n",
       "      <th>Segment</th>\n",
       "      <th>Country</th>\n",
       "      <th>City</th>\n",
       "      <th>...</th>\n",
       "      <th>Region</th>\n",
       "      <th>Product ID</th>\n",
       "      <th>Category</th>\n",
       "      <th>Sub-Category</th>\n",
       "      <th>Product Name</th>\n",
       "      <th>Sales</th>\n",
       "      <th>Quantity</th>\n",
       "      <th>Discount</th>\n",
       "      <th>Profit</th>\n",
       "      <th>Month</th>\n",
       "    </tr>\n",
       "  </thead>\n",
       "  <tbody>\n",
       "    <tr>\n",
       "      <th>1900</th>\n",
       "      <td>NaN</td>\n",
       "      <td>NaN</td>\n",
       "      <td>2016-11-08</td>\n",
       "      <td>2016-11-11</td>\n",
       "      <td>Second Class</td>\n",
       "      <td>CG-12520</td>\n",
       "      <td>Claire Gute</td>\n",
       "      <td>Consumer</td>\n",
       "      <td>United States</td>\n",
       "      <td>Henderson</td>\n",
       "      <td>...</td>\n",
       "      <td>South</td>\n",
       "      <td>FUR-BO-10001798</td>\n",
       "      <td>Furniture</td>\n",
       "      <td>Bookcases</td>\n",
       "      <td>Bush Somerset Collection Bookcase</td>\n",
       "      <td>261.96</td>\n",
       "      <td>2</td>\n",
       "      <td>0.0</td>\n",
       "      <td>41.9136</td>\n",
       "      <td>Nov</td>\n",
       "    </tr>\n",
       "    <tr>\n",
       "      <th>...</th>\n",
       "      <td>...</td>\n",
       "      <td>...</td>\n",
       "      <td>...</td>\n",
       "      <td>...</td>\n",
       "      <td>...</td>\n",
       "      <td>...</td>\n",
       "      <td>...</td>\n",
       "      <td>...</td>\n",
       "      <td>...</td>\n",
       "      <td>...</td>\n",
       "      <td>...</td>\n",
       "      <td>...</td>\n",
       "      <td>...</td>\n",
       "      <td>...</td>\n",
       "      <td>...</td>\n",
       "      <td>...</td>\n",
       "      <td>...</td>\n",
       "      <td>...</td>\n",
       "      <td>...</td>\n",
       "      <td>...</td>\n",
       "      <td>...</td>\n",
       "    </tr>\n",
       "    <tr>\n",
       "      <th>11893</th>\n",
       "      <td>9994.0</td>\n",
       "      <td>CA-2017-119914</td>\n",
       "      <td>2017-05-04</td>\n",
       "      <td>2017-05-09</td>\n",
       "      <td>Second Class</td>\n",
       "      <td>CC-12220</td>\n",
       "      <td>Chris Cortes</td>\n",
       "      <td>Consumer</td>\n",
       "      <td>United States</td>\n",
       "      <td>Westminster</td>\n",
       "      <td>...</td>\n",
       "      <td>West</td>\n",
       "      <td>OFF-AP-10002684</td>\n",
       "      <td>Office Supplies</td>\n",
       "      <td>Appliances</td>\n",
       "      <td>Acco 7-Outlet Masterpiece Power Center, Wihtou...</td>\n",
       "      <td>243.16</td>\n",
       "      <td>2</td>\n",
       "      <td>0.0</td>\n",
       "      <td>72.9480</td>\n",
       "      <td>May</td>\n",
       "    </tr>\n",
       "  </tbody>\n",
       "</table>\n",
       "<p>4153 rows × 22 columns</p>\n",
       "</div>"
      ],
      "text/plain": [
       "           no       order _id Order Date  Ship Date     Ship Mode Customer ID  \\\n",
       "1900      NaN             NaN 2016-11-08 2016-11-11  Second Class    CG-12520   \n",
       "...       ...             ...        ...        ...           ...         ...   \n",
       "11893  9994.0  CA-2017-119914 2017-05-04 2017-05-09  Second Class    CC-12220   \n",
       "\n",
       "      Customer Name   Segment        Country         City  ... Region  \\\n",
       "1900    Claire Gute  Consumer  United States    Henderson  ...  South   \n",
       "...             ...       ...            ...          ...  ...    ...   \n",
       "11893  Chris Cortes  Consumer  United States  Westminster  ...   West   \n",
       "\n",
       "            Product ID         Category Sub-Category  \\\n",
       "1900   FUR-BO-10001798        Furniture    Bookcases   \n",
       "...                ...              ...          ...   \n",
       "11893  OFF-AP-10002684  Office Supplies   Appliances   \n",
       "\n",
       "                                            Product Name   Sales Quantity  \\\n",
       "1900                   Bush Somerset Collection Bookcase  261.96        2   \n",
       "...                                                  ...     ...      ...   \n",
       "11893  Acco 7-Outlet Masterpiece Power Center, Wihtou...  243.16        2   \n",
       "\n",
       "       Discount   Profit  Month  \n",
       "1900        0.0  41.9136    Nov  \n",
       "...         ...      ...    ...  \n",
       "11893       0.0  72.9480    May  \n",
       "\n",
       "[4153 rows x 22 columns]"
      ]
     },
     "metadata": {},
     "output_type": "display_data"
    }
   ],
   "source": [
    "\n",
    "consumer_profit_df = superstore_df[(superstore_df['Segment'] == 'Consumer') & (superstore_df['Profit'] > 0)]\n",
    "\n",
    "display(consumer_profit_df)"
   ]
  },
  {
   "cell_type": "code",
   "execution_count": 57,
   "metadata": {},
   "outputs": [],
   "source": [
    "# Q28 Generate new data frame for every state (hint: dynamic variable creation) "
   ]
  },
  {
   "cell_type": "code",
   "execution_count": null,
   "metadata": {},
   "outputs": [
    {
     "name": "stdout",
     "output_type": "stream",
     "text": [
      "Dispaly All state\n"
     ]
    },
    {
     "data": {
      "text/html": [
       "<div>\n",
       "<style scoped>\n",
       "    .dataframe tbody tr th:only-of-type {\n",
       "        vertical-align: middle;\n",
       "    }\n",
       "\n",
       "    .dataframe tbody tr th {\n",
       "        vertical-align: top;\n",
       "    }\n",
       "\n",
       "    .dataframe thead th {\n",
       "        text-align: right;\n",
       "    }\n",
       "</style>\n",
       "<table border=\"1\" class=\"dataframe\">\n",
       "  <thead>\n",
       "    <tr style=\"text-align: right;\">\n",
       "      <th></th>\n",
       "      <th>no</th>\n",
       "      <th>order _id</th>\n",
       "      <th>Order Date</th>\n",
       "      <th>Ship Date</th>\n",
       "      <th>Ship Mode</th>\n",
       "      <th>Customer ID</th>\n",
       "      <th>Customer Name</th>\n",
       "      <th>Segment</th>\n",
       "      <th>Country</th>\n",
       "      <th>City</th>\n",
       "      <th>...</th>\n",
       "      <th>Region</th>\n",
       "      <th>Product ID</th>\n",
       "      <th>Category</th>\n",
       "      <th>Sub-Category</th>\n",
       "      <th>Product Name</th>\n",
       "      <th>Sales</th>\n",
       "      <th>Quantity</th>\n",
       "      <th>Discount</th>\n",
       "      <th>Profit</th>\n",
       "      <th>Month</th>\n",
       "    </tr>\n",
       "  </thead>\n",
       "  <tbody>\n",
       "    <tr>\n",
       "      <th>0</th>\n",
       "      <td>NaN</td>\n",
       "      <td>NaN</td>\n",
       "      <td>2016-11-08</td>\n",
       "      <td>2016-11-11</td>\n",
       "      <td>Second Class</td>\n",
       "      <td>CG-12520</td>\n",
       "      <td>Claire Gute</td>\n",
       "      <td>Consumer</td>\n",
       "      <td>United States</td>\n",
       "      <td>Henderson</td>\n",
       "      <td>...</td>\n",
       "      <td>South</td>\n",
       "      <td>FUR-BO-10001798</td>\n",
       "      <td>Furniture</td>\n",
       "      <td>Bookcases</td>\n",
       "      <td>Bush Somerset Collection Bookcase</td>\n",
       "      <td>261.960</td>\n",
       "      <td>2</td>\n",
       "      <td>0.0</td>\n",
       "      <td>41.9136</td>\n",
       "      <td>Nov</td>\n",
       "    </tr>\n",
       "    <tr>\n",
       "      <th>...</th>\n",
       "      <td>...</td>\n",
       "      <td>...</td>\n",
       "      <td>...</td>\n",
       "      <td>...</td>\n",
       "      <td>...</td>\n",
       "      <td>...</td>\n",
       "      <td>...</td>\n",
       "      <td>...</td>\n",
       "      <td>...</td>\n",
       "      <td>...</td>\n",
       "      <td>...</td>\n",
       "      <td>...</td>\n",
       "      <td>...</td>\n",
       "      <td>...</td>\n",
       "      <td>...</td>\n",
       "      <td>...</td>\n",
       "      <td>...</td>\n",
       "      <td>...</td>\n",
       "      <td>...</td>\n",
       "      <td>...</td>\n",
       "      <td>...</td>\n",
       "    </tr>\n",
       "    <tr>\n",
       "      <th>9993</th>\n",
       "      <td>9487.0</td>\n",
       "      <td>CA-2017-130505</td>\n",
       "      <td>2017-10-12</td>\n",
       "      <td>2017-10-12</td>\n",
       "      <td>Same Day</td>\n",
       "      <td>NF-18385</td>\n",
       "      <td>Natalie Fritzler</td>\n",
       "      <td>Consumer</td>\n",
       "      <td>United States</td>\n",
       "      <td>Wheeling</td>\n",
       "      <td>...</td>\n",
       "      <td>East</td>\n",
       "      <td>FUR-TA-10001932</td>\n",
       "      <td>Furniture</td>\n",
       "      <td>Tables</td>\n",
       "      <td>Chromcraft 48\" x 96\" Racetrack Double Pedestal...</td>\n",
       "      <td>673.344</td>\n",
       "      <td>3</td>\n",
       "      <td>0.3</td>\n",
       "      <td>-76.9536</td>\n",
       "      <td>Oct</td>\n",
       "    </tr>\n",
       "  </tbody>\n",
       "</table>\n",
       "<p>9994 rows × 22 columns</p>\n",
       "</div>"
      ],
      "text/plain": [
       "          no       order _id Order Date  Ship Date     Ship Mode Customer ID  \\\n",
       "0        NaN             NaN 2016-11-08 2016-11-11  Second Class    CG-12520   \n",
       "...      ...             ...        ...        ...           ...         ...   \n",
       "9993  9487.0  CA-2017-130505 2017-10-12 2017-10-12      Same Day    NF-18385   \n",
       "\n",
       "         Customer Name   Segment        Country       City  ... Region  \\\n",
       "0          Claire Gute  Consumer  United States  Henderson  ...  South   \n",
       "...                ...       ...            ...        ...  ...    ...   \n",
       "9993  Natalie Fritzler  Consumer  United States   Wheeling  ...   East   \n",
       "\n",
       "           Product ID   Category Sub-Category  \\\n",
       "0     FUR-BO-10001798  Furniture    Bookcases   \n",
       "...               ...        ...          ...   \n",
       "9993  FUR-TA-10001932  Furniture       Tables   \n",
       "\n",
       "                                           Product Name    Sales Quantity  \\\n",
       "0                     Bush Somerset Collection Bookcase  261.960        2   \n",
       "...                                                 ...      ...      ...   \n",
       "9993  Chromcraft 48\" x 96\" Racetrack Double Pedestal...  673.344        3   \n",
       "\n",
       "      Discount   Profit  Month  \n",
       "0          0.0  41.9136    Nov  \n",
       "...        ...      ...    ...  \n",
       "9993       0.3 -76.9536    Oct  \n",
       "\n",
       "[9994 rows x 22 columns]"
      ]
     },
     "metadata": {},
     "output_type": "display_data"
    },
    {
     "data": {
      "text/plain": [
       "'Data frame for california'"
      ]
     },
     "metadata": {},
     "output_type": "display_data"
    }
   ],
   "source": [
    "# creating a unique column for state\n",
    "\n",
    "superstore_unique_state = superstore_df['State'].unique()\n",
    "\n",
    "#storing dataframe in dict in each state\n",
    "\n",
    "unique_state_dfs = {}\n",
    "\n",
    "for state in superstore_unique_state:\n",
    "    unique_state_dfs[state] = superstore_df[superstore_df['State'] == state]\n",
    "\n",
    "\n",
    "all_states_df = pd.concat(unique_state_dfs.values(), ignore_index=True)\n",
    "print(\"Dispaly All state\")\n",
    "display(all_states_df)\n",
    "\n",
    "\n",
    "# pass the state name present in state col for display indivitual dataframe\n",
    "display(\"Data frame for california\")\n",
    "clifni = unique_state_dfs['California']\n"
   ]
  },
  {
   "cell_type": "code",
   "execution_count": 81,
   "metadata": {},
   "outputs": [],
   "source": [
    "### Q.29 Generate the region wise, state wise average profit and sales and then extract information for east region. "
   ]
  },
  {
   "cell_type": "code",
   "execution_count": 71,
   "metadata": {},
   "outputs": [
    {
     "data": {
      "text/html": [
       "<div>\n",
       "<style scoped>\n",
       "    .dataframe tbody tr th:only-of-type {\n",
       "        vertical-align: middle;\n",
       "    }\n",
       "\n",
       "    .dataframe tbody tr th {\n",
       "        vertical-align: top;\n",
       "    }\n",
       "\n",
       "    .dataframe thead th {\n",
       "        text-align: right;\n",
       "    }\n",
       "</style>\n",
       "<table border=\"1\" class=\"dataframe\">\n",
       "  <thead>\n",
       "    <tr style=\"text-align: right;\">\n",
       "      <th></th>\n",
       "      <th>Region</th>\n",
       "      <th>State</th>\n",
       "      <th>Profit</th>\n",
       "      <th>Sales</th>\n",
       "    </tr>\n",
       "  </thead>\n",
       "  <tbody>\n",
       "    <tr>\n",
       "      <th>13</th>\n",
       "      <td>East</td>\n",
       "      <td>Connecticut</td>\n",
       "      <td>42.823071</td>\n",
       "      <td>163.223866</td>\n",
       "    </tr>\n",
       "    <tr>\n",
       "      <th>14</th>\n",
       "      <td>East</td>\n",
       "      <td>Delaware</td>\n",
       "      <td>103.930988</td>\n",
       "      <td>285.948635</td>\n",
       "    </tr>\n",
       "    <tr>\n",
       "      <th>15</th>\n",
       "      <td>East</td>\n",
       "      <td>District of Columbia</td>\n",
       "      <td>105.958930</td>\n",
       "      <td>286.502000</td>\n",
       "    </tr>\n",
       "    <tr>\n",
       "      <th>16</th>\n",
       "      <td>East</td>\n",
       "      <td>Maine</td>\n",
       "      <td>56.810775</td>\n",
       "      <td>158.816250</td>\n",
       "    </tr>\n",
       "    <tr>\n",
       "      <th>17</th>\n",
       "      <td>East</td>\n",
       "      <td>Maryland</td>\n",
       "      <td>66.963608</td>\n",
       "      <td>225.766886</td>\n",
       "    </tr>\n",
       "    <tr>\n",
       "      <th>18</th>\n",
       "      <td>East</td>\n",
       "      <td>Massachusetts</td>\n",
       "      <td>50.262975</td>\n",
       "      <td>212.106919</td>\n",
       "    </tr>\n",
       "    <tr>\n",
       "      <th>19</th>\n",
       "      <td>East</td>\n",
       "      <td>New Hampshire</td>\n",
       "      <td>63.203807</td>\n",
       "      <td>270.093481</td>\n",
       "    </tr>\n",
       "    <tr>\n",
       "      <th>20</th>\n",
       "      <td>East</td>\n",
       "      <td>New Jersey</td>\n",
       "      <td>75.176260</td>\n",
       "      <td>275.110092</td>\n",
       "    </tr>\n",
       "    <tr>\n",
       "      <th>21</th>\n",
       "      <td>East</td>\n",
       "      <td>New York</td>\n",
       "      <td>65.637011</td>\n",
       "      <td>275.599531</td>\n",
       "    </tr>\n",
       "    <tr>\n",
       "      <th>22</th>\n",
       "      <td>East</td>\n",
       "      <td>Ohio</td>\n",
       "      <td>-36.186304</td>\n",
       "      <td>166.861697</td>\n",
       "    </tr>\n",
       "    <tr>\n",
       "      <th>23</th>\n",
       "      <td>East</td>\n",
       "      <td>Pennsylvania</td>\n",
       "      <td>-26.507598</td>\n",
       "      <td>198.487077</td>\n",
       "    </tr>\n",
       "    <tr>\n",
       "      <th>24</th>\n",
       "      <td>East</td>\n",
       "      <td>Rhode Island</td>\n",
       "      <td>130.100523</td>\n",
       "      <td>404.070643</td>\n",
       "    </tr>\n",
       "    <tr>\n",
       "      <th>25</th>\n",
       "      <td>East</td>\n",
       "      <td>Vermont</td>\n",
       "      <td>204.088936</td>\n",
       "      <td>811.760909</td>\n",
       "    </tr>\n",
       "    <tr>\n",
       "      <th>26</th>\n",
       "      <td>East</td>\n",
       "      <td>West Virginia</td>\n",
       "      <td>46.480400</td>\n",
       "      <td>302.456000</td>\n",
       "    </tr>\n",
       "  </tbody>\n",
       "</table>\n",
       "</div>"
      ],
      "text/plain": [
       "   Region                 State      Profit       Sales\n",
       "13   East           Connecticut   42.823071  163.223866\n",
       "14   East              Delaware  103.930988  285.948635\n",
       "15   East  District of Columbia  105.958930  286.502000\n",
       "16   East                 Maine   56.810775  158.816250\n",
       "17   East              Maryland   66.963608  225.766886\n",
       "18   East         Massachusetts   50.262975  212.106919\n",
       "19   East         New Hampshire   63.203807  270.093481\n",
       "20   East            New Jersey   75.176260  275.110092\n",
       "21   East              New York   65.637011  275.599531\n",
       "22   East                  Ohio  -36.186304  166.861697\n",
       "23   East          Pennsylvania  -26.507598  198.487077\n",
       "24   East          Rhode Island  130.100523  404.070643\n",
       "25   East               Vermont  204.088936  811.760909\n",
       "26   East         West Virginia   46.480400  302.456000"
      ]
     },
     "metadata": {},
     "output_type": "display_data"
    },
    {
     "data": {
      "image/png": "[encoded data removed]",
      "text/plain": [
       "<Figure size 1200x600 with 1 Axes>"
      ]
     },
     "metadata": {},
     "output_type": "display_data"
    },
    {
     "data": {
      "image/png": "[encoded data removed]",
      "text/plain": [
       "<Figure size 1200x600 with 1 Axes>"
      ]
     },
     "metadata": {},
     "output_type": "display_data"
    }
   ],
   "source": [
    "state_region = superstore_df.groupby(['Region', 'State'])[['Profit', 'Sales']].mean().reset_index()\n",
    "# state_region\n",
    "\n",
    "# East Region information\n",
    "est_rgion_info = state_region[state_region['Region'] == 'East']\n",
    "display(est_rgion_info)\n",
    "\n",
    "\n",
    "#Graph of average profit for the East region\n",
    "plt.figure(figsize=(12, 6))\n",
    "plt.bar(est_rgion_info['State'], est_rgion_info['Profit'], color='skyblue')\n",
    "plt.title('Average Profit by State in East Region')\n",
    "plt.xlabel('State')\n",
    "plt.ylabel('Average Profit')\n",
    "plt.xticks(rotation=45)\n",
    "plt.grid(True)\n",
    "plt.show()\n",
    "\n",
    "#Graph of average Sale for the East region\n",
    "\n",
    "plt.figure(figsize=(12, 6))\n",
    "plt.bar(est_rgion_info['State'], est_rgion_info['State'], color='skyblue')\n",
    "plt.title('Average Sales by State in East Region')\n",
    "plt.xlabel('State')\n",
    "plt.ylabel('Average Profit')\n",
    "plt.xticks(rotation=45)\n",
    "plt.grid(True)\n",
    "plt.show()\n",
    "\n"
   ]
  },
  {
   "cell_type": "markdown",
   "metadata": {},
   "source": [
    "### Q.30 Find all record for furniture delivered in Texas "
   ]
  },
  {
   "cell_type": "code",
   "execution_count": null,
   "metadata": {},
   "outputs": [],
   "source": []
  },
  {
   "cell_type": "code",
   "execution_count": null,
   "metadata": {},
   "outputs": [],
   "source": []
  },
  {
   "cell_type": "code",
   "execution_count": 79,
   "metadata": {},
   "outputs": [
    {
     "name": "stdout",
     "output_type": "stream",
     "text": [
      "Record for furniture delivered in Texas\n"
     ]
    },
    {
     "data": {
      "text/html": [
       "<div>\n",
       "<style scoped>\n",
       "    .dataframe tbody tr th:only-of-type {\n",
       "        vertical-align: middle;\n",
       "    }\n",
       "\n",
       "    .dataframe tbody tr th {\n",
       "        vertical-align: top;\n",
       "    }\n",
       "\n",
       "    .dataframe thead th {\n",
       "        text-align: right;\n",
       "    }\n",
       "</style>\n",
       "<table border=\"1\" class=\"dataframe\">\n",
       "  <thead>\n",
       "    <tr style=\"text-align: right;\">\n",
       "      <th></th>\n",
       "      <th>no</th>\n",
       "      <th>order _id</th>\n",
       "      <th>Order Date</th>\n",
       "      <th>Ship Date</th>\n",
       "      <th>Ship Mode</th>\n",
       "      <th>Customer ID</th>\n",
       "      <th>Customer Name</th>\n",
       "      <th>Segment</th>\n",
       "      <th>Country</th>\n",
       "      <th>City</th>\n",
       "      <th>...</th>\n",
       "      <th>Region</th>\n",
       "      <th>Product ID</th>\n",
       "      <th>Category</th>\n",
       "      <th>Sub-Category</th>\n",
       "      <th>Product Name</th>\n",
       "      <th>Sales</th>\n",
       "      <th>Quantity</th>\n",
       "      <th>Discount</th>\n",
       "      <th>Profit</th>\n",
       "      <th>Month</th>\n",
       "    </tr>\n",
       "  </thead>\n",
       "  <tbody>\n",
       "    <tr>\n",
       "      <th>1936</th>\n",
       "      <td>37.0</td>\n",
       "      <td>CA-2016-117590</td>\n",
       "      <td>2016-12-08</td>\n",
       "      <td>2016-12-10</td>\n",
       "      <td>First Class</td>\n",
       "      <td>GH-14485</td>\n",
       "      <td>Gene Hale</td>\n",
       "      <td>Corporate</td>\n",
       "      <td>United States</td>\n",
       "      <td>Richardson</td>\n",
       "      <td>...</td>\n",
       "      <td>Central</td>\n",
       "      <td>FUR-FU-10003664</td>\n",
       "      <td>Furniture</td>\n",
       "      <td>Furnishings</td>\n",
       "      <td>Electrix Architect's Clamp-On Swing Arm Lamp, ...</td>\n",
       "      <td>190.9200</td>\n",
       "      <td>5</td>\n",
       "      <td>0.60</td>\n",
       "      <td>-147.9630</td>\n",
       "      <td>Dec</td>\n",
       "    </tr>\n",
       "    <tr>\n",
       "      <th>...</th>\n",
       "      <td>...</td>\n",
       "      <td>...</td>\n",
       "      <td>...</td>\n",
       "      <td>...</td>\n",
       "      <td>...</td>\n",
       "      <td>...</td>\n",
       "      <td>...</td>\n",
       "      <td>...</td>\n",
       "      <td>...</td>\n",
       "      <td>...</td>\n",
       "      <td>...</td>\n",
       "      <td>...</td>\n",
       "      <td>...</td>\n",
       "      <td>...</td>\n",
       "      <td>...</td>\n",
       "      <td>...</td>\n",
       "      <td>...</td>\n",
       "      <td>...</td>\n",
       "      <td>...</td>\n",
       "      <td>...</td>\n",
       "      <td>...</td>\n",
       "    </tr>\n",
       "    <tr>\n",
       "      <th>11862</th>\n",
       "      <td>9963.0</td>\n",
       "      <td>CA-2015-168088</td>\n",
       "      <td>2015-03-19</td>\n",
       "      <td>2015-03-22</td>\n",
       "      <td>First Class</td>\n",
       "      <td>CM-12655</td>\n",
       "      <td>Corinna Mitchell</td>\n",
       "      <td>Home Office</td>\n",
       "      <td>United States</td>\n",
       "      <td>Houston</td>\n",
       "      <td>...</td>\n",
       "      <td>Central</td>\n",
       "      <td>FUR-BO-10004218</td>\n",
       "      <td>Furniture</td>\n",
       "      <td>Bookcases</td>\n",
       "      <td>Bush Heritage Pine Collection 5-Shelf Bookcase...</td>\n",
       "      <td>383.4656</td>\n",
       "      <td>4</td>\n",
       "      <td>0.32</td>\n",
       "      <td>-67.6704</td>\n",
       "      <td>Mar</td>\n",
       "    </tr>\n",
       "  </tbody>\n",
       "</table>\n",
       "<p>202 rows × 22 columns</p>\n",
       "</div>"
      ],
      "text/plain": [
       "           no       order _id Order Date  Ship Date    Ship Mode Customer ID  \\\n",
       "1936     37.0  CA-2016-117590 2016-12-08 2016-12-10  First Class    GH-14485   \n",
       "...       ...             ...        ...        ...          ...         ...   \n",
       "11862  9963.0  CA-2015-168088 2015-03-19 2015-03-22  First Class    CM-12655   \n",
       "\n",
       "          Customer Name      Segment        Country        City  ...   Region  \\\n",
       "1936          Gene Hale    Corporate  United States  Richardson  ...  Central   \n",
       "...                 ...          ...            ...         ...  ...      ...   \n",
       "11862  Corinna Mitchell  Home Office  United States     Houston  ...  Central   \n",
       "\n",
       "            Product ID   Category Sub-Category  \\\n",
       "1936   FUR-FU-10003664  Furniture  Furnishings   \n",
       "...                ...        ...          ...   \n",
       "11862  FUR-BO-10004218  Furniture    Bookcases   \n",
       "\n",
       "                                            Product Name     Sales Quantity  \\\n",
       "1936   Electrix Architect's Clamp-On Swing Arm Lamp, ...  190.9200        5   \n",
       "...                                                  ...       ...      ...   \n",
       "11862  Bush Heritage Pine Collection 5-Shelf Bookcase...  383.4656        4   \n",
       "\n",
       "       Discount    Profit  Month  \n",
       "1936       0.60 -147.9630    Dec  \n",
       "...         ...       ...    ...  \n",
       "11862      0.32  -67.6704    Mar  \n",
       "\n",
       "[202 rows x 22 columns]"
      ]
     },
     "metadata": {},
     "output_type": "display_data"
    }
   ],
   "source": [
    "\"\"\" Create Data Frame as texas_furniture_data and perfrom AND opration to filter data \"\"\"\n",
    "\n",
    "texas_furniture_data = superstore_df[(superstore_df[\"State\"]== \"Texas\")\n",
    "                                     & (superstore_df[\"Category\"]==\"Furniture\")]\n",
    "\n",
    "print(\"Record for furniture delivered in Texas\")\n",
    "display(texas_furniture_data)"
   ]
  },
  {
   "cell_type": "code",
   "execution_count": null,
   "metadata": {},
   "outputs": [],
   "source": []
  },
  {
   "cell_type": "code",
   "execution_count": null,
   "metadata": {},
   "outputs": [],
   "source": []
  }
 ],
 "metadata": {
  "kernelspec": {
   "display_name": "Python 3",
   "language": "python",
   "name": "python3"
  },
  "language_info": {
   "codemirror_mode": {
    "name": "ipython",
    "version": 3
   },
   "file_extension": ".py",
   "mimetype": "text/x-python",
   "name": "python",
   "nbconvert_exporter": "python",
   "pygments_lexer": "ipython3",
   "version": "3.8.10"
  }
 },
 "nbformat": 4,
 "nbformat_minor": 2
}
